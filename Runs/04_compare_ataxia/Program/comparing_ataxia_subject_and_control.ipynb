{
 "cells": [
  {
   "cell_type": "code",
   "execution_count": 1,
   "metadata": {},
   "outputs": [],
   "source": [
    "from pathlib import Path\n",
    "SAVING_PATH = \"/neurospin/dico/tsanchez/preprocessed/ataxia\"\n",
    "PATH_CEREBELLUM_MASK = \"/neurospin/dico/tsanchez/mask/cerebellum/27_ataxia_control_cerebellum.nii.gz\"\n",
    "PATH_VERMIS_MASK = \"/neurospin/dico/tsanchez/mask/vermis/27_ataxia_control_vermis.nii.gz\"\n",
    "\n",
    "GRAPH_FOLDER_ATAXIA = Path(\"/neurospin/dico/zsun/ataxie/etudes_AlexandraDurr/database_brainvisa/cermoi\")\n",
    "TREE_GRAPH_ATAXIA = Path(\"t1mri/V1/default_analysis/folds/3.1\")\n",
    "RAW_FOLDER_ATAXIA = Path(\"/neurospin/dico/zsun/ataxie/etudes_AlexandraDurr/database_brainvisa/cermoi\")\n",
    "TREE_RAW_ATAXIA = Path(\"t1mri/V1\")\n",
    "\n",
    "NOMENCLATURE_RAW = \".nii.gz\"\n",
    "MASKS_TYPE = [\"cerebellum\", \"vermis\"] \n",
    "\n",
    "\n",
    "WM_THRESH = -0.3967\n",
    "SULCI_THRESH = 0.464\n",
    "RESAMPLE_VALUES = [0, -1, 1]\n",
    "RESAMPLE_BIN = [0,1]\n",
    "OUTPUT_VOXEL_SIZE = (0.5,0.5,0.5)\n"
   ]
  },
  {
   "cell_type": "code",
   "execution_count": 2,
   "metadata": {},
   "outputs": [],
   "source": [
    "subjects = [\n",
    "    \"00004PA\",\n",
    "    \"00002PV\",\n",
    "    \"00005PS\",\n",
    "    \"00006PG\",\n",
    "    \"00020CT\",\n",
    "]"
   ]
  },
  {
   "cell_type": "code",
   "execution_count": 3,
   "metadata": {},
   "outputs": [],
   "source": [
    "from cerebellum_folding.data.path import MergedMaskPath, SubjectPath\n",
    "masks = {\n",
    "    \"cerebellum\" : MergedMaskPath(\n",
    "        path = PATH_CEREBELLUM_MASK\n",
    "    ),\n",
    "    \"vermis\" : MergedMaskPath(\n",
    "        path = PATH_VERMIS_MASK\n",
    "    )\n",
    "}"
   ]
  },
  {
   "cell_type": "code",
   "execution_count": 4,
   "metadata": {},
   "outputs": [],
   "source": [
    "paths_subjects = [\n",
    "    SubjectPath(\n",
    "                subject_id = subject,\n",
    "                graph_folder = GRAPH_FOLDER_ATAXIA,\n",
    "                tree_graph = TREE_GRAPH_ATAXIA,\n",
    "                raw_folder = RAW_FOLDER_ATAXIA,\n",
    "                tree_raw = TREE_RAW_ATAXIA,\n",
    "                nomenclature_raw = NOMENCLATURE_RAW,\n",
    "                masks_type = MASKS_TYPE,\n",
    "                saving_folder= SAVING_PATH\n",
    "    ) for subject in subjects\n",
    "]"
   ]
  },
  {
   "cell_type": "code",
   "execution_count": 5,
   "metadata": {},
   "outputs": [],
   "source": [
    "from cerebellum_folding.data.preprocess import PipelineSubject"
   ]
  },
  {
   "cell_type": "code",
   "execution_count": 6,
   "metadata": {},
   "outputs": [
    {
     "name": "stdout",
     "output_type": "stream",
     "text": [
      "Overwriting : /neurospin/dico/tsanchez/preprocessed/ataxia/00004PA/ICBM2009c/00004PA_resampled_icbm.nii.gz \n",
      "Saving /neurospin/dico/tsanchez/preprocessed/ataxia/00004PA/ICBM2009c/00004PA_resampled_icbm.nii.gz\n",
      "Overwriting : /neurospin/dico/tsanchez/preprocessed/ataxia/00004PA/ICBM2009c/00004PA_mean_curvature_icbm.nii.gz \n",
      "CompletedProcess(args=['VipGeometry', '-m', 'mc', '-s', '1', '-i', PosixPath('/neurospin/dico/tsanchez/preprocessed/ataxia/00004PA/ICBM2009c/00004PA_resampled_icbm.nii.gz'), '-o', PosixPath('/neurospin/dico/tsanchez/preprocessed/ataxia/00004PA/ICBM2009c/00004PA_mean_curvature_icbm.nii.gz')], returncode=0, stdout=b'             Slice:   \\x08\\x08\\x08381\\x08\\x08\\x08380\\x08\\x08\\x08379\\x08\\x08\\x08378\\x08\\x08\\x08377\\x08\\x08\\x08376\\x08\\x08\\x08375\\x08\\x08\\x08374\\x08\\x08\\x08373\\x08\\x08\\x08372\\x08\\x08\\x08371\\x08\\x08\\x08370\\x08\\x08\\x08369\\x08\\x08\\x08368\\x08\\x08\\x08367\\x08\\x08\\x08366\\x08\\x08\\x08365\\x08\\x08\\x08364\\x08\\x08\\x08363\\x08\\x08\\x08362\\x08\\x08\\x08361\\x08\\x08\\x08360\\x08\\x08\\x08359\\x08\\x08\\x08358\\x08\\x08\\x08357\\x08\\x08\\x08356\\x08\\x08\\x08355\\x08\\x08\\x08354\\x08\\x08\\x08353\\x08\\x08\\x08352\\x08\\x08\\x08351\\x08\\x08\\x08350\\x08\\x08\\x08349\\x08\\x08\\x08348\\x08\\x08\\x08347\\x08\\x08\\x08346\\x08\\x08\\x08345\\x08\\x08\\x08344\\x08\\x08\\x08343\\x08\\x08\\x08342\\x08\\x08\\x08341\\x08\\x08\\x08340\\x08\\x08\\x08339\\x08\\x08\\x08338\\x08\\x08\\x08337\\x08\\x08\\x08336\\x08\\x08\\x08335\\x08\\x08\\x08334\\x08\\x08\\x08333\\x08\\x08\\x08332\\x08\\x08\\x08331\\x08\\x08\\x08330\\x08\\x08\\x08329\\x08\\x08\\x08328\\x08\\x08\\x08327\\x08\\x08\\x08326\\x08\\x08\\x08325\\x08\\x08\\x08324\\x08\\x08\\x08323\\x08\\x08\\x08322\\x08\\x08\\x08321\\x08\\x08\\x08320\\x08\\x08\\x08319\\x08\\x08\\x08318\\x08\\x08\\x08317\\x08\\x08\\x08316\\x08\\x08\\x08315\\x08\\x08\\x08314\\x08\\x08\\x08313\\x08\\x08\\x08312\\x08\\x08\\x08311\\x08\\x08\\x08310\\x08\\x08\\x08309\\x08\\x08\\x08308\\x08\\x08\\x08307\\x08\\x08\\x08306\\x08\\x08\\x08305\\x08\\x08\\x08304\\x08\\x08\\x08303\\x08\\x08\\x08302\\x08\\x08\\x08301\\x08\\x08\\x08300\\x08\\x08\\x08299\\x08\\x08\\x08298\\x08\\x08\\x08297\\x08\\x08\\x08296\\x08\\x08\\x08295\\x08\\x08\\x08294\\x08\\x08\\x08293\\x08\\x08\\x08292\\x08\\x08\\x08291\\x08\\x08\\x08290\\x08\\x08\\x08289\\x08\\x08\\x08288\\x08\\x08\\x08287\\x08\\x08\\x08286\\x08\\x08\\x08285\\x08\\x08\\x08284\\x08\\x08\\x08283\\x08\\x08\\x08282\\x08\\x08\\x08281\\x08\\x08\\x08280\\x08\\x08\\x08279\\x08\\x08\\x08278\\x08\\x08\\x08277\\x08\\x08\\x08276\\x08\\x08\\x08275\\x08\\x08\\x08274\\x08\\x08\\x08273\\x08\\x08\\x08272\\x08\\x08\\x08271\\x08\\x08\\x08270\\x08\\x08\\x08269\\x08\\x08\\x08268\\x08\\x08\\x08267\\x08\\x08\\x08266\\x08\\x08\\x08265\\x08\\x08\\x08264\\x08\\x08\\x08263\\x08\\x08\\x08262\\x08\\x08\\x08261\\x08\\x08\\x08260\\x08\\x08\\x08259\\x08\\x08\\x08258\\x08\\x08\\x08257\\x08\\x08\\x08256\\x08\\x08\\x08255\\x08\\x08\\x08254\\x08\\x08\\x08253\\x08\\x08\\x08252\\x08\\x08\\x08251\\x08\\x08\\x08250\\x08\\x08\\x08249\\x08\\x08\\x08248\\x08\\x08\\x08247\\x08\\x08\\x08246\\x08\\x08\\x08245\\x08\\x08\\x08244\\x08\\x08\\x08243\\x08\\x08\\x08242\\x08\\x08\\x08241\\x08\\x08\\x08240\\x08\\x08\\x08239\\x08\\x08\\x08238\\x08\\x08\\x08237\\x08\\x08\\x08236\\x08\\x08\\x08235\\x08\\x08\\x08234\\x08\\x08\\x08233\\x08\\x08\\x08232\\x08\\x08\\x08231\\x08\\x08\\x08230\\x08\\x08\\x08229\\x08\\x08\\x08228\\x08\\x08\\x08227\\x08\\x08\\x08226\\x08\\x08\\x08225\\x08\\x08\\x08224\\x08\\x08\\x08223\\x08\\x08\\x08222\\x08\\x08\\x08221\\x08\\x08\\x08220\\x08\\x08\\x08219\\x08\\x08\\x08218\\x08\\x08\\x08217\\x08\\x08\\x08216\\x08\\x08\\x08215\\x08\\x08\\x08214\\x08\\x08\\x08213\\x08\\x08\\x08212\\x08\\x08\\x08211\\x08\\x08\\x08210\\x08\\x08\\x08209\\x08\\x08\\x08208\\x08\\x08\\x08207\\x08\\x08\\x08206\\x08\\x08\\x08205\\x08\\x08\\x08204\\x08\\x08\\x08203\\x08\\x08\\x08202\\x08\\x08\\x08201\\x08\\x08\\x08200\\x08\\x08\\x08199\\x08\\x08\\x08198\\x08\\x08\\x08197\\x08\\x08\\x08196\\x08\\x08\\x08195\\x08\\x08\\x08194\\x08\\x08\\x08193\\x08\\x08\\x08192\\x08\\x08\\x08191\\x08\\x08\\x08190\\x08\\x08\\x08189\\x08\\x08\\x08188\\x08\\x08\\x08187\\x08\\x08\\x08186\\x08\\x08\\x08185\\x08\\x08\\x08184\\x08\\x08\\x08183\\x08\\x08\\x08182\\x08\\x08\\x08181\\x08\\x08\\x08180\\x08\\x08\\x08179\\x08\\x08\\x08178\\x08\\x08\\x08177\\x08\\x08\\x08176\\x08\\x08\\x08175\\x08\\x08\\x08174\\x08\\x08\\x08173\\x08\\x08\\x08172\\x08\\x08\\x08171\\x08\\x08\\x08170\\x08\\x08\\x08169\\x08\\x08\\x08168\\x08\\x08\\x08167\\x08\\x08\\x08166\\x08\\x08\\x08165\\x08\\x08\\x08164\\x08\\x08\\x08163\\x08\\x08\\x08162\\x08\\x08\\x08161\\x08\\x08\\x08160\\x08\\x08\\x08159\\x08\\x08\\x08158\\x08\\x08\\x08157\\x08\\x08\\x08156\\x08\\x08\\x08155\\x08\\x08\\x08154\\x08\\x08\\x08153\\x08\\x08\\x08152\\x08\\x08\\x08151\\x08\\x08\\x08150\\x08\\x08\\x08149\\x08\\x08\\x08148\\x08\\x08\\x08147\\x08\\x08\\x08146\\x08\\x08\\x08145\\x08\\x08\\x08144\\x08\\x08\\x08143\\x08\\x08\\x08142\\x08\\x08\\x08141\\x08\\x08\\x08140\\x08\\x08\\x08139\\x08\\x08\\x08138\\x08\\x08\\x08137\\x08\\x08\\x08136\\x08\\x08\\x08135\\x08\\x08\\x08134\\x08\\x08\\x08133\\x08\\x08\\x08132\\x08\\x08\\x08131\\x08\\x08\\x08130\\x08\\x08\\x08129\\x08\\x08\\x08128\\x08\\x08\\x08127\\x08\\x08\\x08126\\x08\\x08\\x08125\\x08\\x08\\x08124\\x08\\x08\\x08123\\x08\\x08\\x08122\\x08\\x08\\x08121\\x08\\x08\\x08120\\x08\\x08\\x08119\\x08\\x08\\x08118\\x08\\x08\\x08117\\x08\\x08\\x08116\\x08\\x08\\x08115\\x08\\x08\\x08114\\x08\\x08\\x08113\\x08\\x08\\x08112\\x08\\x08\\x08111\\x08\\x08\\x08110\\x08\\x08\\x08109\\x08\\x08\\x08108\\x08\\x08\\x08107\\x08\\x08\\x08106\\x08\\x08\\x08105\\x08\\x08\\x08104\\x08\\x08\\x08103\\x08\\x08\\x08102\\x08\\x08\\x08101\\x08\\x08\\x08100\\x08\\x08\\x08 99\\x08\\x08\\x08 98\\x08\\x08\\x08 97\\x08\\x08\\x08 96\\x08\\x08\\x08 95\\x08\\x08\\x08 94\\x08\\x08\\x08 93\\x08\\x08\\x08 92\\x08\\x08\\x08 91\\x08\\x08\\x08 90\\x08\\x08\\x08 89\\x08\\x08\\x08 88\\x08\\x08\\x08 87\\x08\\x08\\x08 86\\x08\\x08\\x08 85\\x08\\x08\\x08 84\\x08\\x08\\x08 83\\x08\\x08\\x08 82\\x08\\x08\\x08 81\\x08\\x08\\x08 80\\x08\\x08\\x08 79\\x08\\x08\\x08 78\\x08\\x08\\x08 77\\x08\\x08\\x08 76\\x08\\x08\\x08 75\\x08\\x08\\x08 74\\x08\\x08\\x08 73\\x08\\x08\\x08 72\\x08\\x08\\x08 71\\x08\\x08\\x08 70\\x08\\x08\\x08 69\\x08\\x08\\x08 68\\x08\\x08\\x08 67\\x08\\x08\\x08 66\\x08\\x08\\x08 65\\x08\\x08\\x08 64\\x08\\x08\\x08 63\\x08\\x08\\x08 62\\x08\\x08\\x08 61\\x08\\x08\\x08 60\\x08\\x08\\x08 59\\x08\\x08\\x08 58\\x08\\x08\\x08 57\\x08\\x08\\x08 56\\x08\\x08\\x08 55\\x08\\x08\\x08 54\\x08\\x08\\x08 53\\x08\\x08\\x08 52\\x08\\x08\\x08 51\\x08\\x08\\x08 50\\x08\\x08\\x08 49\\x08\\x08\\x08 48\\x08\\x08\\x08 47\\x08\\x08\\x08 46\\x08\\x08\\x08 45\\x08\\x08\\x08 44\\x08\\x08\\x08 43\\x08\\x08\\x08 42\\x08\\x08\\x08 41\\x08\\x08\\x08 40\\x08\\x08\\x08 39\\x08\\x08\\x08 38\\x08\\x08\\x08 37\\x08\\x08\\x08 36\\x08\\x08\\x08 35\\x08\\x08\\x08 34\\x08\\x08\\x08 33\\x08\\x08\\x08 32\\x08\\x08\\x08 31\\x08\\x08\\x08 30\\x08\\x08\\x08 29\\x08\\x08\\x08 28\\x08\\x08\\x08 27\\x08\\x08\\x08 26\\x08\\x08\\x08 25\\x08\\x08\\x08 24\\x08\\x08\\x08 23\\x08\\x08\\x08 22\\x08\\x08\\x08 21\\x08\\x08\\x08 20\\x08\\x08\\x08 19\\x08\\x08\\x08 18\\x08\\x08\\x08 17\\x08\\x08\\x08 16\\x08\\x08\\x08 15\\x08\\x08\\x08 14\\x08\\x08\\x08 13\\x08\\x08\\x08 12\\x08\\x08\\x08 11\\x08\\x08\\x08 10\\x08\\x08\\x08  9\\x08\\x08\\x08  8\\x08\\x08\\x08  7\\x08\\x08\\x08  6\\x08\\x08\\x08  5\\x08\\x08\\x08  4\\x08\\x08\\x08  3\\x08\\x08\\x08  2\\x08\\x08\\x08  1\\x08\\x08\\x08  0\\n', stderr=b'')\n",
      "Saving /neurospin/dico/tsanchez/preprocessed/ataxia/00004PA/ICBM2009c/00004PA_mean_curvature_icbm.nii.gz\n",
      "Overwriting : /neurospin/dico/tsanchez/preprocessed/ataxia/00004PA/ICBM2009c/00004PA_tresh_mc.nii.gz\n",
      "Saving to /neurospin/dico/tsanchez/preprocessed/ataxia/00004PA/ICBM2009c/00004PA_tresh_mc.nii.gz\n",
      "Overwriting : /neurospin/dico/tsanchez/preprocessed/ataxia/00004PA/masked/cerebellum/00004PA_masked_tresh_cerebellum.nii.gz \n",
      "Saving /neurospin/dico/tsanchez/preprocessed/ataxia/00004PA/masked/cerebellum/00004PA_masked_tresh_cerebellum.nii.gz\n",
      "Overwriting : /neurospin/dico/tsanchez/preprocessed/ataxia/00004PA/masked/cerebellum/00004PA_masked_t1mri_cerebellum.nii.gz \n",
      "Saving /neurospin/dico/tsanchez/preprocessed/ataxia/00004PA/masked/cerebellum/00004PA_masked_t1mri_cerebellum.nii.gz\n",
      "Overwriting : /neurospin/dico/tsanchez/preprocessed/ataxia/00004PA/masked/vermis/00004PA_masked_tresh_vermis.nii.gz \n",
      "Saving /neurospin/dico/tsanchez/preprocessed/ataxia/00004PA/masked/vermis/00004PA_masked_tresh_vermis.nii.gz\n",
      "Overwriting : /neurospin/dico/tsanchez/preprocessed/ataxia/00004PA/masked/vermis/00004PA_masked_t1mri_vermis.nii.gz \n",
      "Saving /neurospin/dico/tsanchez/preprocessed/ataxia/00004PA/masked/vermis/00004PA_masked_t1mri_vermis.nii.gz\n",
      "Overwriting : /neurospin/dico/tsanchez/preprocessed/ataxia/00002PV/ICBM2009c/00002PV_resampled_icbm.nii.gz \n",
      "Saving /neurospin/dico/tsanchez/preprocessed/ataxia/00002PV/ICBM2009c/00002PV_resampled_icbm.nii.gz\n",
      "Overwriting : /neurospin/dico/tsanchez/preprocessed/ataxia/00002PV/ICBM2009c/00002PV_mean_curvature_icbm.nii.gz \n",
      "CompletedProcess(args=['VipGeometry', '-m', 'mc', '-s', '1', '-i', PosixPath('/neurospin/dico/tsanchez/preprocessed/ataxia/00002PV/ICBM2009c/00002PV_resampled_icbm.nii.gz'), '-o', PosixPath('/neurospin/dico/tsanchez/preprocessed/ataxia/00002PV/ICBM2009c/00002PV_mean_curvature_icbm.nii.gz')], returncode=0, stdout=b'             Slice:   \\x08\\x08\\x08188\\x08\\x08\\x08187\\x08\\x08\\x08186\\x08\\x08\\x08185\\x08\\x08\\x08184\\x08\\x08\\x08183\\x08\\x08\\x08182\\x08\\x08\\x08181\\x08\\x08\\x08180\\x08\\x08\\x08179\\x08\\x08\\x08178\\x08\\x08\\x08177\\x08\\x08\\x08176\\x08\\x08\\x08175\\x08\\x08\\x08174\\x08\\x08\\x08173\\x08\\x08\\x08172\\x08\\x08\\x08171\\x08\\x08\\x08170\\x08\\x08\\x08169\\x08\\x08\\x08168\\x08\\x08\\x08167\\x08\\x08\\x08166\\x08\\x08\\x08165\\x08\\x08\\x08164\\x08\\x08\\x08163\\x08\\x08\\x08162\\x08\\x08\\x08161\\x08\\x08\\x08160\\x08\\x08\\x08159\\x08\\x08\\x08158\\x08\\x08\\x08157\\x08\\x08\\x08156\\x08\\x08\\x08155\\x08\\x08\\x08154\\x08\\x08\\x08153\\x08\\x08\\x08152\\x08\\x08\\x08151\\x08\\x08\\x08150\\x08\\x08\\x08149\\x08\\x08\\x08148\\x08\\x08\\x08147\\x08\\x08\\x08146\\x08\\x08\\x08145\\x08\\x08\\x08144\\x08\\x08\\x08143\\x08\\x08\\x08142\\x08\\x08\\x08141\\x08\\x08\\x08140\\x08\\x08\\x08139\\x08\\x08\\x08138\\x08\\x08\\x08137\\x08\\x08\\x08136\\x08\\x08\\x08135\\x08\\x08\\x08134\\x08\\x08\\x08133\\x08\\x08\\x08132\\x08\\x08\\x08131\\x08\\x08\\x08130\\x08\\x08\\x08129\\x08\\x08\\x08128\\x08\\x08\\x08127\\x08\\x08\\x08126\\x08\\x08\\x08125\\x08\\x08\\x08124\\x08\\x08\\x08123\\x08\\x08\\x08122\\x08\\x08\\x08121\\x08\\x08\\x08120\\x08\\x08\\x08119\\x08\\x08\\x08118\\x08\\x08\\x08117\\x08\\x08\\x08116\\x08\\x08\\x08115\\x08\\x08\\x08114\\x08\\x08\\x08113\\x08\\x08\\x08112\\x08\\x08\\x08111\\x08\\x08\\x08110\\x08\\x08\\x08109\\x08\\x08\\x08108\\x08\\x08\\x08107\\x08\\x08\\x08106\\x08\\x08\\x08105\\x08\\x08\\x08104\\x08\\x08\\x08103\\x08\\x08\\x08102\\x08\\x08\\x08101\\x08\\x08\\x08100\\x08\\x08\\x08 99\\x08\\x08\\x08 98\\x08\\x08\\x08 97\\x08\\x08\\x08 96\\x08\\x08\\x08 95\\x08\\x08\\x08 94\\x08\\x08\\x08 93\\x08\\x08\\x08 92\\x08\\x08\\x08 91\\x08\\x08\\x08 90\\x08\\x08\\x08 89\\x08\\x08\\x08 88\\x08\\x08\\x08 87\\x08\\x08\\x08 86\\x08\\x08\\x08 85\\x08\\x08\\x08 84\\x08\\x08\\x08 83\\x08\\x08\\x08 82\\x08\\x08\\x08 81\\x08\\x08\\x08 80\\x08\\x08\\x08 79\\x08\\x08\\x08 78\\x08\\x08\\x08 77\\x08\\x08\\x08 76\\x08\\x08\\x08 75\\x08\\x08\\x08 74\\x08\\x08\\x08 73\\x08\\x08\\x08 72\\x08\\x08\\x08 71\\x08\\x08\\x08 70\\x08\\x08\\x08 69\\x08\\x08\\x08 68\\x08\\x08\\x08 67\\x08\\x08\\x08 66\\x08\\x08\\x08 65\\x08\\x08\\x08 64\\x08\\x08\\x08 63\\x08\\x08\\x08 62\\x08\\x08\\x08 61\\x08\\x08\\x08 60\\x08\\x08\\x08 59\\x08\\x08\\x08 58\\x08\\x08\\x08 57\\x08\\x08\\x08 56\\x08\\x08\\x08 55\\x08\\x08\\x08 54\\x08\\x08\\x08 53\\x08\\x08\\x08 52\\x08\\x08\\x08 51\\x08\\x08\\x08 50\\x08\\x08\\x08 49\\x08\\x08\\x08 48\\x08\\x08\\x08 47\\x08\\x08\\x08 46\\x08\\x08\\x08 45\\x08\\x08\\x08 44\\x08\\x08\\x08 43\\x08\\x08\\x08 42\\x08\\x08\\x08 41\\x08\\x08\\x08 40\\x08\\x08\\x08 39\\x08\\x08\\x08 38\\x08\\x08\\x08 37\\x08\\x08\\x08 36\\x08\\x08\\x08 35\\x08\\x08\\x08 34\\x08\\x08\\x08 33\\x08\\x08\\x08 32\\x08\\x08\\x08 31\\x08\\x08\\x08 30\\x08\\x08\\x08 29\\x08\\x08\\x08 28\\x08\\x08\\x08 27\\x08\\x08\\x08 26\\x08\\x08\\x08 25\\x08\\x08\\x08 24\\x08\\x08\\x08 23\\x08\\x08\\x08 22\\x08\\x08\\x08 21\\x08\\x08\\x08 20\\x08\\x08\\x08 19\\x08\\x08\\x08 18\\x08\\x08\\x08 17\\x08\\x08\\x08 16\\x08\\x08\\x08 15\\x08\\x08\\x08 14\\x08\\x08\\x08 13\\x08\\x08\\x08 12\\x08\\x08\\x08 11\\x08\\x08\\x08 10\\x08\\x08\\x08  9\\x08\\x08\\x08  8\\x08\\x08\\x08  7\\x08\\x08\\x08  6\\x08\\x08\\x08  5\\x08\\x08\\x08  4\\x08\\x08\\x08  3\\x08\\x08\\x08  2\\x08\\x08\\x08  1\\x08\\x08\\x08  0\\n', stderr=b'')\n",
      "Saving /neurospin/dico/tsanchez/preprocessed/ataxia/00002PV/ICBM2009c/00002PV_mean_curvature_icbm.nii.gz\n",
      "Overwriting : /neurospin/dico/tsanchez/preprocessed/ataxia/00002PV/ICBM2009c/00002PV_tresh_mc.nii.gz\n",
      "Saving to /neurospin/dico/tsanchez/preprocessed/ataxia/00002PV/ICBM2009c/00002PV_tresh_mc.nii.gz\n",
      "Overwriting : /neurospin/dico/tsanchez/preprocessed/ataxia/00002PV/masked/cerebellum/00002PV_masked_tresh_cerebellum.nii.gz \n",
      "boolean index did not match indexed array along dimension 0; dimension is 193 but corresponding boolean dimension is 386\n",
      "Overwriting : /neurospin/dico/tsanchez/preprocessed/ataxia/00005PS/ICBM2009c/00005PS_resampled_icbm.nii.gz \n",
      "Saving /neurospin/dico/tsanchez/preprocessed/ataxia/00005PS/ICBM2009c/00005PS_resampled_icbm.nii.gz\n"
     ]
    },
    {
     "ename": "KeyboardInterrupt",
     "evalue": "",
     "output_type": "error",
     "traceback": [
      "\u001b[0;31m---------------------------------------------------------------------------\u001b[0m",
      "\u001b[0;31mKeyboardInterrupt\u001b[0m                         Traceback (most recent call last)",
      "\u001b[0;32m<ipython-input-6-4b4a7c4ec4a1>\u001b[0m in \u001b[0;36m<module>\u001b[0;34m\u001b[0m\n\u001b[1;32m     11\u001b[0m         \u001b[0mverbose\u001b[0m \u001b[0;34m=\u001b[0m \u001b[0;32mTrue\u001b[0m\u001b[0;34m\u001b[0m\u001b[0;34m\u001b[0m\u001b[0m\n\u001b[1;32m     12\u001b[0m     )\n\u001b[0;32m---> 13\u001b[0;31m     \u001b[0mpipe\u001b[0m\u001b[0;34m.\u001b[0m\u001b[0mrun_pipe\u001b[0m\u001b[0;34m(\u001b[0m\u001b[0moverwrite\u001b[0m\u001b[0;34m=\u001b[0m\u001b[0;32mTrue\u001b[0m\u001b[0;34m)\u001b[0m\u001b[0;34m\u001b[0m\u001b[0;34m\u001b[0m\u001b[0m\n\u001b[0m",
      "\u001b[0;32m/neurospin/dico/tsanchez/2025_tsanchez_cerrebellum/Runs/04_compare_ataxia/Program/cerebellum_folding/data/preprocess.py\u001b[0m in \u001b[0;36mrun_pipe\u001b[0;34m(self, overwrite, dilatation)\u001b[0m\n\u001b[1;32m    236\u001b[0m     \u001b[0;32mdef\u001b[0m \u001b[0mrun_pipe\u001b[0m\u001b[0;34m(\u001b[0m\u001b[0mself\u001b[0m\u001b[0;34m,\u001b[0m \u001b[0moverwrite\u001b[0m \u001b[0;34m:\u001b[0m \u001b[0mbool\u001b[0m \u001b[0;34m=\u001b[0m \u001b[0;32mFalse\u001b[0m\u001b[0;34m,\u001b[0m \u001b[0mdilatation\u001b[0m \u001b[0;34m:\u001b[0m \u001b[0mint\u001b[0m \u001b[0;34m=\u001b[0m \u001b[0;36m2\u001b[0m\u001b[0;34m)\u001b[0m\u001b[0;34m:\u001b[0m\u001b[0;34m\u001b[0m\u001b[0;34m\u001b[0m\u001b[0m\n\u001b[1;32m    237\u001b[0m         \u001b[0;32mtry\u001b[0m \u001b[0;34m:\u001b[0m\u001b[0;34m\u001b[0m\u001b[0;34m\u001b[0m\u001b[0m\n\u001b[0;32m--> 238\u001b[0;31m             \u001b[0mself\u001b[0m\u001b[0;34m.\u001b[0m\u001b[0mresample\u001b[0m\u001b[0;34m(\u001b[0m\u001b[0moverwrite\u001b[0m\u001b[0;34m=\u001b[0m\u001b[0moverwrite\u001b[0m\u001b[0;34m)\u001b[0m\u001b[0;34m\u001b[0m\u001b[0;34m\u001b[0m\u001b[0m\n\u001b[0m\u001b[1;32m    239\u001b[0m         \u001b[0;32mexcept\u001b[0m \u001b[0mException\u001b[0m \u001b[0;32mas\u001b[0m \u001b[0me\u001b[0m \u001b[0;34m:\u001b[0m\u001b[0;34m\u001b[0m\u001b[0;34m\u001b[0m\u001b[0m\n\u001b[1;32m    240\u001b[0m             \u001b[0mself\u001b[0m\u001b[0;34m.\u001b[0m\u001b[0mprint\u001b[0m\u001b[0;34m(\u001b[0m\u001b[0me\u001b[0m\u001b[0;34m)\u001b[0m\u001b[0;34m\u001b[0m\u001b[0;34m\u001b[0m\u001b[0m\n",
      "\u001b[0;32m/neurospin/dico/tsanchez/2025_tsanchez_cerrebellum/Runs/04_compare_ataxia/Program/cerebellum_folding/data/preprocess.py\u001b[0m in \u001b[0;36mresample\u001b[0;34m(self, overwrite)\u001b[0m\n\u001b[1;32m    170\u001b[0m \u001b[0;34m\u001b[0m\u001b[0m\n\u001b[1;32m    171\u001b[0m         \u001b[0mself\u001b[0m\u001b[0;34m.\u001b[0m\u001b[0mprint\u001b[0m\u001b[0;34m(\u001b[0m\u001b[0;34mf\"Saving {self.path.icbm['resampled_icbm']}\"\u001b[0m\u001b[0;34m)\u001b[0m\u001b[0;34m\u001b[0m\u001b[0;34m\u001b[0m\u001b[0m\n\u001b[0;32m--> 172\u001b[0;31m         \u001b[0maims\u001b[0m\u001b[0;34m.\u001b[0m\u001b[0mwrite\u001b[0m\u001b[0;34m(\u001b[0m\u001b[0mresampled\u001b[0m\u001b[0;34m,\u001b[0m \u001b[0mfilename\u001b[0m \u001b[0;34m=\u001b[0m \u001b[0mstr\u001b[0m\u001b[0;34m(\u001b[0m\u001b[0mself\u001b[0m\u001b[0;34m.\u001b[0m\u001b[0mpath\u001b[0m\u001b[0;34m.\u001b[0m\u001b[0micbm\u001b[0m\u001b[0;34m[\u001b[0m\u001b[0;34m\"resampled_icbm\"\u001b[0m\u001b[0;34m]\u001b[0m\u001b[0;34m)\u001b[0m\u001b[0;34m)\u001b[0m\u001b[0;34m\u001b[0m\u001b[0;34m\u001b[0m\u001b[0m\n\u001b[0m\u001b[1;32m    173\u001b[0m         \u001b[0;32mdel\u001b[0m \u001b[0mheader\u001b[0m\u001b[0;34m\u001b[0m\u001b[0;34m\u001b[0m\u001b[0m\n\u001b[1;32m    174\u001b[0m         \u001b[0mgc\u001b[0m\u001b[0;34m.\u001b[0m\u001b[0mcollect\u001b[0m\u001b[0;34m(\u001b[0m\u001b[0;34m)\u001b[0m\u001b[0;34m\u001b[0m\u001b[0;34m\u001b[0m\u001b[0m\n",
      "\u001b[0;32m/casa/host/build/python/soma/aims/__init__.py\u001b[0m in \u001b[0;36mwrite\u001b[0;34m(obj, filename, format, options)\u001b[0m\n\u001b[1;32m    576\u001b[0m     '''\n\u001b[1;32m    577\u001b[0m     \u001b[0mw\u001b[0m \u001b[0;34m=\u001b[0m \u001b[0mWriter\u001b[0m\u001b[0;34m(\u001b[0m\u001b[0;34m)\u001b[0m\u001b[0;34m\u001b[0m\u001b[0;34m\u001b[0m\u001b[0m\n\u001b[0;32m--> 578\u001b[0;31m     \u001b[0mw\u001b[0m\u001b[0;34m.\u001b[0m\u001b[0mwrite\u001b[0m\u001b[0;34m(\u001b[0m\u001b[0mobj\u001b[0m\u001b[0;34m,\u001b[0m \u001b[0mfilename\u001b[0m\u001b[0;34m,\u001b[0m \u001b[0mformat\u001b[0m\u001b[0;34m=\u001b[0m\u001b[0mformat\u001b[0m\u001b[0;34m,\u001b[0m \u001b[0moptions\u001b[0m\u001b[0;34m=\u001b[0m\u001b[0moptions\u001b[0m\u001b[0;34m)\u001b[0m\u001b[0;34m\u001b[0m\u001b[0;34m\u001b[0m\u001b[0m\n\u001b[0m\u001b[1;32m    579\u001b[0m \u001b[0;34m\u001b[0m\u001b[0m\n\u001b[1;32m    580\u001b[0m \u001b[0;32mdef\u001b[0m \u001b[0mcheck\u001b[0m\u001b[0;34m(\u001b[0m\u001b[0mfilename\u001b[0m\u001b[0;34m)\u001b[0m\u001b[0;34m:\u001b[0m\u001b[0;34m\u001b[0m\u001b[0;34m\u001b[0m\u001b[0m\n",
      "\u001b[0;32m/casa/host/build/python/soma/aims/__init__.py\u001b[0m in \u001b[0;36mwrite\u001b[0;34m(self, obj, filename, format, options)\u001b[0m\n\u001b[1;32m    500\u001b[0m                                      obj.__class__.__name__)\n\u001b[1;32m    501\u001b[0m         \u001b[0mw\u001b[0m \u001b[0;34m=\u001b[0m \u001b[0mW\u001b[0m\u001b[0;34m(\u001b[0m\u001b[0mfilename\u001b[0m\u001b[0;34m,\u001b[0m \u001b[0moptions\u001b[0m\u001b[0;34m)\u001b[0m\u001b[0;34m\u001b[0m\u001b[0;34m\u001b[0m\u001b[0m\n\u001b[0;32m--> 502\u001b[0;31m         \u001b[0mw\u001b[0m\u001b[0;34m.\u001b[0m\u001b[0mwrite\u001b[0m\u001b[0;34m(\u001b[0m\u001b[0mobj\u001b[0m\u001b[0;34m,\u001b[0m \u001b[0;32mFalse\u001b[0m\u001b[0;34m,\u001b[0m \u001b[0mformat\u001b[0m\u001b[0;34m)\u001b[0m\u001b[0;34m\u001b[0m\u001b[0;34m\u001b[0m\u001b[0m\n\u001b[0m\u001b[1;32m    503\u001b[0m         \u001b[0;32mtry\u001b[0m\u001b[0;34m:\u001b[0m\u001b[0;34m\u001b[0m\u001b[0;34m\u001b[0m\u001b[0m\n\u001b[1;32m    504\u001b[0m             \u001b[0mself\u001b[0m\u001b[0;34m.\u001b[0m\u001b[0m_objectType\u001b[0m \u001b[0;34m=\u001b[0m \u001b[0mw\u001b[0m\u001b[0;34m.\u001b[0m\u001b[0mwrittenObjectType\u001b[0m\u001b[0;34m(\u001b[0m\u001b[0;34m)\u001b[0m\u001b[0;34m\u001b[0m\u001b[0;34m\u001b[0m\u001b[0m\n",
      "\u001b[0;31mKeyboardInterrupt\u001b[0m: "
     ]
    }
   ],
   "source": [
    "# TODO : Understand why I need to restart kernel to run other pipe each time\n",
    "for sub_path in paths_subjects :\n",
    "    pipe = PipelineSubject(\n",
    "        subject_path= sub_path,\n",
    "        masks_path=masks,\n",
    "        white_matter_threshold=WM_THRESH,\n",
    "        sulci_threshold=SULCI_THRESH,\n",
    "        resample_values_icbm = RESAMPLE_VALUES,\n",
    "        resample_values_bin=RESAMPLE_BIN,\n",
    "        output_voxel=OUTPUT_VOXEL_SIZE,\n",
    "        verbose = True\n",
    "    )\n",
    "    pipe.run_pipe(overwrite=True)\n"
   ]
  },
  {
   "cell_type": "code",
   "execution_count": 7,
   "metadata": {},
   "outputs": [
    {
     "name": "stdout",
     "output_type": "stream",
     "text": [
      "Overwriting : /neurospin/dico/tsanchez/preprocessed/ataxia/00020CT/ICBM2009c/00020CT_resampled_icbm.nii.gz \n",
      "Saving /neurospin/dico/tsanchez/preprocessed/ataxia/00020CT/ICBM2009c/00020CT_resampled_icbm.nii.gz\n",
      "Overwriting : /neurospin/dico/tsanchez/preprocessed/ataxia/00020CT/ICBM2009c/00020CT_mean_curvature_icbm.nii.gz \n",
      "CompletedProcess(args=['VipGeometry', '-m', 'mc', '-s', '1', '-i', PosixPath('/neurospin/dico/tsanchez/preprocessed/ataxia/00020CT/ICBM2009c/00020CT_resampled_icbm.nii.gz'), '-o', PosixPath('/neurospin/dico/tsanchez/preprocessed/ataxia/00020CT/ICBM2009c/00020CT_mean_curvature_icbm.nii.gz')], returncode=0, stdout=b'             Slice:   \\x08\\x08\\x08381\\x08\\x08\\x08380\\x08\\x08\\x08379\\x08\\x08\\x08378\\x08\\x08\\x08377\\x08\\x08\\x08376\\x08\\x08\\x08375\\x08\\x08\\x08374\\x08\\x08\\x08373\\x08\\x08\\x08372\\x08\\x08\\x08371\\x08\\x08\\x08370\\x08\\x08\\x08369\\x08\\x08\\x08368\\x08\\x08\\x08367\\x08\\x08\\x08366\\x08\\x08\\x08365\\x08\\x08\\x08364\\x08\\x08\\x08363\\x08\\x08\\x08362\\x08\\x08\\x08361\\x08\\x08\\x08360\\x08\\x08\\x08359\\x08\\x08\\x08358\\x08\\x08\\x08357\\x08\\x08\\x08356\\x08\\x08\\x08355\\x08\\x08\\x08354\\x08\\x08\\x08353\\x08\\x08\\x08352\\x08\\x08\\x08351\\x08\\x08\\x08350\\x08\\x08\\x08349\\x08\\x08\\x08348\\x08\\x08\\x08347\\x08\\x08\\x08346\\x08\\x08\\x08345\\x08\\x08\\x08344\\x08\\x08\\x08343\\x08\\x08\\x08342\\x08\\x08\\x08341\\x08\\x08\\x08340\\x08\\x08\\x08339\\x08\\x08\\x08338\\x08\\x08\\x08337\\x08\\x08\\x08336\\x08\\x08\\x08335\\x08\\x08\\x08334\\x08\\x08\\x08333\\x08\\x08\\x08332\\x08\\x08\\x08331\\x08\\x08\\x08330\\x08\\x08\\x08329\\x08\\x08\\x08328\\x08\\x08\\x08327\\x08\\x08\\x08326\\x08\\x08\\x08325\\x08\\x08\\x08324\\x08\\x08\\x08323\\x08\\x08\\x08322\\x08\\x08\\x08321\\x08\\x08\\x08320\\x08\\x08\\x08319\\x08\\x08\\x08318\\x08\\x08\\x08317\\x08\\x08\\x08316\\x08\\x08\\x08315\\x08\\x08\\x08314\\x08\\x08\\x08313\\x08\\x08\\x08312\\x08\\x08\\x08311\\x08\\x08\\x08310\\x08\\x08\\x08309\\x08\\x08\\x08308\\x08\\x08\\x08307\\x08\\x08\\x08306\\x08\\x08\\x08305\\x08\\x08\\x08304\\x08\\x08\\x08303\\x08\\x08\\x08302\\x08\\x08\\x08301\\x08\\x08\\x08300\\x08\\x08\\x08299\\x08\\x08\\x08298\\x08\\x08\\x08297\\x08\\x08\\x08296\\x08\\x08\\x08295\\x08\\x08\\x08294\\x08\\x08\\x08293\\x08\\x08\\x08292\\x08\\x08\\x08291\\x08\\x08\\x08290\\x08\\x08\\x08289\\x08\\x08\\x08288\\x08\\x08\\x08287\\x08\\x08\\x08286\\x08\\x08\\x08285\\x08\\x08\\x08284\\x08\\x08\\x08283\\x08\\x08\\x08282\\x08\\x08\\x08281\\x08\\x08\\x08280\\x08\\x08\\x08279\\x08\\x08\\x08278\\x08\\x08\\x08277\\x08\\x08\\x08276\\x08\\x08\\x08275\\x08\\x08\\x08274\\x08\\x08\\x08273\\x08\\x08\\x08272\\x08\\x08\\x08271\\x08\\x08\\x08270\\x08\\x08\\x08269\\x08\\x08\\x08268\\x08\\x08\\x08267\\x08\\x08\\x08266\\x08\\x08\\x08265\\x08\\x08\\x08264\\x08\\x08\\x08263\\x08\\x08\\x08262\\x08\\x08\\x08261\\x08\\x08\\x08260\\x08\\x08\\x08259\\x08\\x08\\x08258\\x08\\x08\\x08257\\x08\\x08\\x08256\\x08\\x08\\x08255\\x08\\x08\\x08254\\x08\\x08\\x08253\\x08\\x08\\x08252\\x08\\x08\\x08251\\x08\\x08\\x08250\\x08\\x08\\x08249\\x08\\x08\\x08248\\x08\\x08\\x08247\\x08\\x08\\x08246\\x08\\x08\\x08245\\x08\\x08\\x08244\\x08\\x08\\x08243\\x08\\x08\\x08242\\x08\\x08\\x08241\\x08\\x08\\x08240\\x08\\x08\\x08239\\x08\\x08\\x08238\\x08\\x08\\x08237\\x08\\x08\\x08236\\x08\\x08\\x08235\\x08\\x08\\x08234\\x08\\x08\\x08233\\x08\\x08\\x08232\\x08\\x08\\x08231\\x08\\x08\\x08230\\x08\\x08\\x08229\\x08\\x08\\x08228\\x08\\x08\\x08227\\x08\\x08\\x08226\\x08\\x08\\x08225\\x08\\x08\\x08224\\x08\\x08\\x08223\\x08\\x08\\x08222\\x08\\x08\\x08221\\x08\\x08\\x08220\\x08\\x08\\x08219\\x08\\x08\\x08218\\x08\\x08\\x08217\\x08\\x08\\x08216\\x08\\x08\\x08215\\x08\\x08\\x08214\\x08\\x08\\x08213\\x08\\x08\\x08212\\x08\\x08\\x08211\\x08\\x08\\x08210\\x08\\x08\\x08209\\x08\\x08\\x08208\\x08\\x08\\x08207\\x08\\x08\\x08206\\x08\\x08\\x08205\\x08\\x08\\x08204\\x08\\x08\\x08203\\x08\\x08\\x08202\\x08\\x08\\x08201\\x08\\x08\\x08200\\x08\\x08\\x08199\\x08\\x08\\x08198\\x08\\x08\\x08197\\x08\\x08\\x08196\\x08\\x08\\x08195\\x08\\x08\\x08194\\x08\\x08\\x08193\\x08\\x08\\x08192\\x08\\x08\\x08191\\x08\\x08\\x08190\\x08\\x08\\x08189\\x08\\x08\\x08188\\x08\\x08\\x08187\\x08\\x08\\x08186\\x08\\x08\\x08185\\x08\\x08\\x08184\\x08\\x08\\x08183\\x08\\x08\\x08182\\x08\\x08\\x08181\\x08\\x08\\x08180\\x08\\x08\\x08179\\x08\\x08\\x08178\\x08\\x08\\x08177\\x08\\x08\\x08176\\x08\\x08\\x08175\\x08\\x08\\x08174\\x08\\x08\\x08173\\x08\\x08\\x08172\\x08\\x08\\x08171\\x08\\x08\\x08170\\x08\\x08\\x08169\\x08\\x08\\x08168\\x08\\x08\\x08167\\x08\\x08\\x08166\\x08\\x08\\x08165\\x08\\x08\\x08164\\x08\\x08\\x08163\\x08\\x08\\x08162\\x08\\x08\\x08161\\x08\\x08\\x08160\\x08\\x08\\x08159\\x08\\x08\\x08158\\x08\\x08\\x08157\\x08\\x08\\x08156\\x08\\x08\\x08155\\x08\\x08\\x08154\\x08\\x08\\x08153\\x08\\x08\\x08152\\x08\\x08\\x08151\\x08\\x08\\x08150\\x08\\x08\\x08149\\x08\\x08\\x08148\\x08\\x08\\x08147\\x08\\x08\\x08146\\x08\\x08\\x08145\\x08\\x08\\x08144\\x08\\x08\\x08143\\x08\\x08\\x08142\\x08\\x08\\x08141\\x08\\x08\\x08140\\x08\\x08\\x08139\\x08\\x08\\x08138\\x08\\x08\\x08137\\x08\\x08\\x08136\\x08\\x08\\x08135\\x08\\x08\\x08134\\x08\\x08\\x08133\\x08\\x08\\x08132\\x08\\x08\\x08131\\x08\\x08\\x08130\\x08\\x08\\x08129\\x08\\x08\\x08128\\x08\\x08\\x08127\\x08\\x08\\x08126\\x08\\x08\\x08125\\x08\\x08\\x08124\\x08\\x08\\x08123\\x08\\x08\\x08122\\x08\\x08\\x08121\\x08\\x08\\x08120\\x08\\x08\\x08119\\x08\\x08\\x08118\\x08\\x08\\x08117\\x08\\x08\\x08116\\x08\\x08\\x08115\\x08\\x08\\x08114\\x08\\x08\\x08113\\x08\\x08\\x08112\\x08\\x08\\x08111\\x08\\x08\\x08110\\x08\\x08\\x08109\\x08\\x08\\x08108\\x08\\x08\\x08107\\x08\\x08\\x08106\\x08\\x08\\x08105\\x08\\x08\\x08104\\x08\\x08\\x08103\\x08\\x08\\x08102\\x08\\x08\\x08101\\x08\\x08\\x08100\\x08\\x08\\x08 99\\x08\\x08\\x08 98\\x08\\x08\\x08 97\\x08\\x08\\x08 96\\x08\\x08\\x08 95\\x08\\x08\\x08 94\\x08\\x08\\x08 93\\x08\\x08\\x08 92\\x08\\x08\\x08 91\\x08\\x08\\x08 90\\x08\\x08\\x08 89\\x08\\x08\\x08 88\\x08\\x08\\x08 87\\x08\\x08\\x08 86\\x08\\x08\\x08 85\\x08\\x08\\x08 84\\x08\\x08\\x08 83\\x08\\x08\\x08 82\\x08\\x08\\x08 81\\x08\\x08\\x08 80\\x08\\x08\\x08 79\\x08\\x08\\x08 78\\x08\\x08\\x08 77\\x08\\x08\\x08 76\\x08\\x08\\x08 75\\x08\\x08\\x08 74\\x08\\x08\\x08 73\\x08\\x08\\x08 72\\x08\\x08\\x08 71\\x08\\x08\\x08 70\\x08\\x08\\x08 69\\x08\\x08\\x08 68\\x08\\x08\\x08 67\\x08\\x08\\x08 66\\x08\\x08\\x08 65\\x08\\x08\\x08 64\\x08\\x08\\x08 63\\x08\\x08\\x08 62\\x08\\x08\\x08 61\\x08\\x08\\x08 60\\x08\\x08\\x08 59\\x08\\x08\\x08 58\\x08\\x08\\x08 57\\x08\\x08\\x08 56\\x08\\x08\\x08 55\\x08\\x08\\x08 54\\x08\\x08\\x08 53\\x08\\x08\\x08 52\\x08\\x08\\x08 51\\x08\\x08\\x08 50\\x08\\x08\\x08 49\\x08\\x08\\x08 48\\x08\\x08\\x08 47\\x08\\x08\\x08 46\\x08\\x08\\x08 45\\x08\\x08\\x08 44\\x08\\x08\\x08 43\\x08\\x08\\x08 42\\x08\\x08\\x08 41\\x08\\x08\\x08 40\\x08\\x08\\x08 39\\x08\\x08\\x08 38\\x08\\x08\\x08 37\\x08\\x08\\x08 36\\x08\\x08\\x08 35\\x08\\x08\\x08 34\\x08\\x08\\x08 33\\x08\\x08\\x08 32\\x08\\x08\\x08 31\\x08\\x08\\x08 30\\x08\\x08\\x08 29\\x08\\x08\\x08 28\\x08\\x08\\x08 27\\x08\\x08\\x08 26\\x08\\x08\\x08 25\\x08\\x08\\x08 24\\x08\\x08\\x08 23\\x08\\x08\\x08 22\\x08\\x08\\x08 21\\x08\\x08\\x08 20\\x08\\x08\\x08 19\\x08\\x08\\x08 18\\x08\\x08\\x08 17\\x08\\x08\\x08 16\\x08\\x08\\x08 15\\x08\\x08\\x08 14\\x08\\x08\\x08 13\\x08\\x08\\x08 12\\x08\\x08\\x08 11\\x08\\x08\\x08 10\\x08\\x08\\x08  9\\x08\\x08\\x08  8\\x08\\x08\\x08  7\\x08\\x08\\x08  6\\x08\\x08\\x08  5\\x08\\x08\\x08  4\\x08\\x08\\x08  3\\x08\\x08\\x08  2\\x08\\x08\\x08  1\\x08\\x08\\x08  0\\n', stderr=b'')\n",
      "Saving /neurospin/dico/tsanchez/preprocessed/ataxia/00020CT/ICBM2009c/00020CT_mean_curvature_icbm.nii.gz\n",
      "Overwriting : /neurospin/dico/tsanchez/preprocessed/ataxia/00020CT/ICBM2009c/00020CT_tresh_mc.nii.gz\n",
      "Saving to /neurospin/dico/tsanchez/preprocessed/ataxia/00020CT/ICBM2009c/00020CT_tresh_mc.nii.gz\n",
      "Saving /neurospin/dico/tsanchez/preprocessed/ataxia/00020CT/masked/cerebellum/00020CT_masked_tresh_cerebellum.nii.gz\n",
      "Saving /neurospin/dico/tsanchez/preprocessed/ataxia/00020CT/masked/cerebellum/00020CT_masked_t1mri_cerebellum.nii.gz\n",
      "Saving /neurospin/dico/tsanchez/preprocessed/ataxia/00020CT/masked/vermis/00020CT_masked_tresh_vermis.nii.gz\n",
      "Saving /neurospin/dico/tsanchez/preprocessed/ataxia/00020CT/masked/vermis/00020CT_masked_t1mri_vermis.nii.gz\n"
     ]
    }
   ],
   "source": [
    "pipe = PipelineSubject(\n",
    "    subject_path= paths_subjects[4],\n",
    "    masks_path=masks,\n",
    "    white_matter_threshold=WM_THRESH,\n",
    "    sulci_threshold=SULCI_THRESH,\n",
    "    resample_values_icbm = RESAMPLE_VALUES,\n",
    "    resample_values_bin=RESAMPLE_BIN,\n",
    "    output_voxel=OUTPUT_VOXEL_SIZE,\n",
    "    verbose = True\n",
    ")\n",
    "pipe.run_pipe(overwrite=True, dilatation=5)"
   ]
  }
 ],
 "metadata": {
  "kernelspec": {
   "display_name": "venv",
   "language": "python",
   "name": "python3"
  },
  "language_info": {
   "codemirror_mode": {
    "name": "ipython",
    "version": 3
   },
   "file_extension": ".py",
   "mimetype": "text/x-python",
   "name": "python",
   "nbconvert_exporter": "python",
   "pygments_lexer": "ipython3",
   "version": "3.10.12"
  }
 },
 "nbformat": 4,
 "nbformat_minor": 2
}
