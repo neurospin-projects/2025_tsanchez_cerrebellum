{
 "cells": [
  {
   "cell_type": "code",
   "execution_count": 63,
   "metadata": {},
   "outputs": [],
   "source": [
    "from soma import aims\n",
    "from pathlib import Path\n",
    "import numpy as np\n",
    "import matplotlib.pyplot as plt"
   ]
  },
  {
   "cell_type": "code",
   "execution_count": 127,
   "metadata": {},
   "outputs": [],
   "source": [
    "%matplotlib inline"
   ]
  },
  {
   "cell_type": "code",
   "execution_count": 64,
   "metadata": {},
   "outputs": [],
   "source": [
    "#import anatomist.direct.api as ana\n",
    "#a = ana.Anatomist()"
   ]
  },
  {
   "cell_type": "code",
   "execution_count": 65,
   "metadata": {},
   "outputs": [
    {
     "data": {
      "text/plain": [
       "(256, 256, 124, 1)"
      ]
     },
     "execution_count": 65,
     "metadata": {},
     "output_type": "execute_result"
    }
   ],
   "source": [
    "path_mean_curv = Path(\"/neurospin/tmp/tsanchez/mean_curvature_ammon.nii.gz\")\n",
    "obj = aims.read(str(path_mean_curv))\n",
    "obj.np.shape"
   ]
  },
  {
   "cell_type": "code",
   "execution_count": 66,
   "metadata": {},
   "outputs": [
    {
     "data": {
      "text/plain": [
       "PosixPath('/neurospin/tmp/tsanchez')"
      ]
     },
     "execution_count": 66,
     "metadata": {},
     "output_type": "execute_result"
    }
   ],
   "source": [
    "path_mean_curv.parent"
   ]
  },
  {
   "cell_type": "code",
   "execution_count": 67,
   "metadata": {},
   "outputs": [],
   "source": [
    "#win = a.createWindow(\"Axial\")\n",
    "#view_anatomist = a.toAObject(obj) \n",
    "#win.addObjects(view_anatomist)"
   ]
  },
  {
   "cell_type": "code",
   "execution_count": 68,
   "metadata": {},
   "outputs": [],
   "source": [
    "val = obj.np"
   ]
  },
  {
   "cell_type": "markdown",
   "metadata": {},
   "source": [
    "To retrieve the differents parts of the cerebellum : \n",
    "- White matter : -1\n",
    "- Sulci : 1\n",
    "- 0 : The rest"
   ]
  },
  {
   "cell_type": "code",
   "execution_count": 69,
   "metadata": {},
   "outputs": [],
   "source": [
    "WM_RANGE = -0.3967\n",
    "SULCI_RANGE = 0.464\n"
   ]
  },
  {
   "cell_type": "code",
   "execution_count": 70,
   "metadata": {},
   "outputs": [],
   "source": [
    "# Mask for WM and Sulci\n",
    "WM_mask = (val <= WM_RANGE) \n",
    "SULCI_mask = (val >= SULCI_RANGE)\n",
    "Other_mask = (val > WM_RANGE) & (val < SULCI_RANGE) "
   ]
  },
  {
   "cell_type": "code",
   "execution_count": 71,
   "metadata": {},
   "outputs": [
    {
     "data": {
      "text/plain": [
       "(array([-1.,  0.,  1.], dtype=float32), array([ 737904, 6760262,  628298]))"
      ]
     },
     "execution_count": 71,
     "metadata": {},
     "output_type": "execute_result"
    }
   ],
   "source": [
    "# Changing the values according to what is mentionned above\n",
    "val[WM_mask] = -1\n",
    "val[SULCI_mask] = 1\n",
    "val[Other_mask] = 0\n",
    "np.unique(val, return_counts=True)"
   ]
  },
  {
   "cell_type": "code",
   "execution_count": 72,
   "metadata": {},
   "outputs": [
    {
     "data": {
      "text/plain": [
       "PosixPath('/neurospin/tmp/tsanchez/threshold_mean_curve_ammon.nii.gz')"
      ]
     },
     "execution_count": 72,
     "metadata": {},
     "output_type": "execute_result"
    }
   ],
   "source": [
    "filename = path_mean_curv.parent / \"threshold_mean_curve_ammon.nii.gz\"\n",
    "filename"
   ]
  },
  {
   "cell_type": "code",
   "execution_count": 73,
   "metadata": {},
   "outputs": [],
   "source": [
    "aims.write(obj, str(filename))"
   ]
  },
  {
   "cell_type": "markdown",
   "metadata": {},
   "source": [
    "## On HCP\n",
    "Subjects :\n"
   ]
  },
  {
   "cell_type": "markdown",
   "metadata": {},
   "source": [
    "Commande pour produire les fichiers de mean_curvatures : \n",
    "`VipGeometry -i <input_path> -m mc -o <output_path>`  \n",
    "\n",
    "Few exemples are in the `/neurospin/tmp/tsanchez` folder to check if the threshold is right"
   ]
  },
  {
   "cell_type": "code",
   "execution_count": 77,
   "metadata": {},
   "outputs": [
    {
     "data": {
      "text/plain": [
       "(PosixPath('/neurospin/tmp/tsanchez/hcp'),\n",
       " PosixPath('/neurospin/tmp/tsanchez/pclean'))"
      ]
     },
     "execution_count": 77,
     "metadata": {},
     "output_type": "execute_result"
    }
   ],
   "source": [
    "path_data = Path(\"/neurospin/tmp/tsanchez\")\n",
    "path_hcp = path_data / \"hcp\" \n",
    "path_pclean = path_data / \"pclean\" \n",
    "path_hcp, path_pclean"
   ]
  },
  {
   "cell_type": "code",
   "execution_count": 78,
   "metadata": {},
   "outputs": [
    {
     "data": {
      "text/plain": [
       "([PosixPath('/neurospin/tmp/tsanchez/hcp/mean_curvature/mean_curvature_163331.nii.gz'),\n",
       "  PosixPath('/neurospin/tmp/tsanchez/hcp/mean_curvature/mean_curvature_518746.nii.gz'),\n",
       "  PosixPath('/neurospin/tmp/tsanchez/hcp/mean_curvature/mean_curvature_991267.nii.gz')],\n",
       " [PosixPath('/neurospin/tmp/tsanchez/pclean/mean_curvature/mean_curvature_s12158.nii.gz'),\n",
       "  PosixPath('/neurospin/tmp/tsanchez/pclean/mean_curvature/mean_curvature_s12401.nii.gz'),\n",
       "  PosixPath('/neurospin/tmp/tsanchez/pclean/mean_curvature/mean_curvature_s12635.nii.gz')])"
      ]
     },
     "execution_count": 78,
     "metadata": {},
     "output_type": "execute_result"
    }
   ],
   "source": [
    "subjects_hcp = [\n",
    "    \"163331\", \n",
    "    \"518746\", \n",
    "    \"991267\", \n",
    "]\n",
    "\n",
    "subjects_pclean = [\n",
    "    \"s12158\", \n",
    "    \"s12401\", \n",
    "    \"s12635\", \n",
    "]\n",
    "\n",
    "path_subjects_hcp = [path_hcp / \"mean_curvature\" / f\"mean_curvature_{subject}.nii.gz\" for subject in subjects_hcp]\n",
    "path_subjects_pclean = [path_pclean /\"mean_curvature\" / f\"mean_curvature_{subject}.nii.gz\" for subject in subjects_pclean]\n",
    "\n",
    "path_subjects_hcp, path_subjects_pclean"
   ]
  },
  {
   "cell_type": "code",
   "execution_count": 108,
   "metadata": {},
   "outputs": [],
   "source": [
    "def apply_mask(obj, WM_thresh : int, Sulci_thresh : int,saving_path : Path, to_save : bool = False) -> np.ndarray :\n",
    "    #To numpy \n",
    "    vol = obj.np\n",
    "\n",
    "    # Mask for WM and Sulci\n",
    "    WM_mask = (vol <= WM_thresh) \n",
    "    Sulci_mask = (vol >= Sulci_thresh)\n",
    "    Other_mask = (vol > WM_thresh) & (vol < Sulci_thresh) \n",
    "\n",
    "    #Apply Mask : \n",
    "    vol[WM_mask] = -1\n",
    "    vol[Sulci_mask] = 1\n",
    "    vol[Other_mask] = 0\n",
    "\n",
    "    if to_save : \n",
    "        print(f\"Saving to {saving_path}\")\n",
    "        aims.write(obj, filename=str(saving_path))\n",
    "    \n",
    "    return vol\n"
   ]
  },
  {
   "cell_type": "code",
   "execution_count": 109,
   "metadata": {},
   "outputs": [
    {
     "data": {
      "text/plain": [
       "'163331'"
      ]
     },
     "execution_count": 109,
     "metadata": {},
     "output_type": "execute_result"
    }
   ],
   "source": [
    "path_subjects_hcp[0].name[-13:-7]"
   ]
  },
  {
   "cell_type": "code",
   "execution_count": 129,
   "metadata": {},
   "outputs": [],
   "source": [
    "# Loading file to dict\n",
    "dict_hcp = dict([(path.name[-13:-7],aims.read(str(path))) for path in path_subjects_hcp])\n",
    "dict_pclean = dict([(path.name[-13:-7],aims.read(str(path))) for path in path_subjects_pclean])"
   ]
  },
  {
   "cell_type": "code",
   "execution_count": 111,
   "metadata": {},
   "outputs": [
    {
     "data": {
      "text/plain": [
       "(PosixPath('/neurospin/tmp/tsanchez/hcp/thresh'),\n",
       " PosixPath('/neurospin/tmp/tsanchez/pclean/thresh'))"
      ]
     },
     "execution_count": 111,
     "metadata": {},
     "output_type": "execute_result"
    }
   ],
   "source": [
    "hcp_saving_fold = path_hcp / \"thresh\"\n",
    "pclean_saving_fold = path_pclean / \"thresh\"\n",
    "hcp_saving_fold, pclean_saving_fold"
   ]
  },
  {
   "cell_type": "code",
   "execution_count": 113,
   "metadata": {},
   "outputs": [
    {
     "name": "stdout",
     "output_type": "stream",
     "text": [
      "Saving to /neurospin/tmp/tsanchez/hcp/thresh/threshold_cerebellum_163331.nii.gz\n",
      "Saving to /neurospin/tmp/tsanchez/hcp/thresh/threshold_cerebellum_518746.nii.gz\n",
      "Saving to /neurospin/tmp/tsanchez/hcp/thresh/threshold_cerebellum_991267.nii.gz\n",
      "Saving to /neurospin/tmp/tsanchez/pclean/thresh/threshold_cerebellum_s12158.nii.gz\n",
      "Saving to /neurospin/tmp/tsanchez/pclean/thresh/threshold_cerebellum_s12401.nii.gz\n",
      "Saving to /neurospin/tmp/tsanchez/pclean/thresh/threshold_cerebellum_s12635.nii.gz\n"
     ]
    }
   ],
   "source": [
    "WM_RANGE = -0.3967\n",
    "SULCI_RANGE = 0.464\n",
    "\n",
    "hcp_dict_thresh = dict(\n",
    "    [\n",
    "        (key, apply_mask(dict_hcp[key],\n",
    "                         WM_thresh= WM_RANGE,\n",
    "                         Sulci_thresh=SULCI_RANGE,\n",
    "                         saving_path= hcp_saving_fold / f\"threshold_cerebellum_{key}.nii.gz\",\n",
    "                         to_save=True)) for key in dict_hcp.keys()\n",
    "    ]\n",
    ")\n",
    "\n",
    "\n",
    "pclean_dict_thresh = dict(\n",
    "    [\n",
    "        (key, apply_mask(dict_pclean[key],\n",
    "                         WM_thresh= WM_RANGE,\n",
    "                         Sulci_thresh=SULCI_RANGE,\n",
    "                         saving_path= pclean_saving_fold / f\"threshold_cerebellum_{key}.nii.gz\",\n",
    "                         to_save=True)) for key in dict_pclean.keys()\n",
    "    ]\n",
    ")"
   ]
  }
 ],
 "metadata": {
  "kernelspec": {
   "display_name": "venv",
   "language": "python",
   "name": "python3"
  },
  "language_info": {
   "codemirror_mode": {
    "name": "ipython",
    "version": 3
   },
   "file_extension": ".py",
   "mimetype": "text/x-python",
   "name": "python",
   "nbconvert_exporter": "python",
   "pygments_lexer": "ipython3",
   "version": "3.10.12"
  }
 },
 "nbformat": 4,
 "nbformat_minor": 2
}
