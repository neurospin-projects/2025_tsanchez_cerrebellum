{
 "cells": [
  {
   "cell_type": "code",
   "execution_count": null,
   "metadata": {},
   "outputs": [],
   "source": []
  },
  {
   "cell_type": "code",
   "execution_count": 6,
   "metadata": {},
   "outputs": [],
   "source": [
    "from pathlib import Path\n",
    "### Paths\n",
    "dict_subjects = {\n",
    "                \"hcp\" : [\n",
    "                        \"163331\", \n",
    "                        \"518746\", \n",
    "                        \"991267\", \n",
    "                        ],\n",
    "                \"pclean\" : [\n",
    "                        \"s12158\", \n",
    "                        \"s12401\", \n",
    "                        \"s12635\", \n",
    "                        ],\n",
    "                \"ukb\" : [\n",
    "                    \"sub-1000021\",\n",
    "                    \"sub-1000325\",\n",
    "                    \"sub-1000458\",\n",
    "                        ]\n",
    "                }\n",
    "\n",
    "\n",
    "# Paths for the different DBs\n",
    "GRAPH_FOLDER_PCLEAN = Path(\"/neurospin/dico/data/bv_databases/human/manually_labeled/pclean/all\")\n",
    "GRAPH_FOLDER_HCP =  Path(\"/neurospin/dico/data/bv_databases/human/automatically_labeled/hcp/hcp\")\n",
    "GRAPH_FOLDER_UKB = Path(\"/tmp/tsanchez\") #Mounted on the local server\n",
    "\n",
    "TREE_GRAPH_PCLEAN = Path(\"t1mri/t1/default_analysis/folds/3.1\") \n",
    "TREE_GRAPH_HCP = Path(\"t1mri/BL/default_analysis/folds/3.1\")\n",
    "TREE_GRAPH_UKB = Path(\"ses-2/anat/t1mri/default_acquisition/default_analysis/folds/3.1\")\n",
    "\n",
    "RAW_FOLDER_PCLEAN = Path(\"/neurospin/dico/data/bv_databases/human/manually_labeled/pclean/all\")\n",
    "RAW_FOLDER_HCP = Path(\"/neurospin/dico/data/bv_databases/human/automatically_labeled/hcp/hcp\")\n",
    "RAW_FOLDER_UKB = Path(\"/tmp/tsanchez\")\n",
    "\n",
    "TREE_RAW_PCLEAN = Path(\"t1mri/t1\")\n",
    "TREE_RAW_HCP = Path(\"t1mri/BL\")\n",
    "TREE_RAW_UKB = Path(\"ses-2/anat/t1mri/default_acquisition\")\n",
    "\n",
    "# Paths for the masks\n",
    "GRAPH_FOLDER_MASK = Path(\"/neurospin/dico/zsun/ataxie/etudes_AlexandraDurr/database_brainvisa/cermoi\")\n",
    "TREE_GRAPH_MASK = Path(\"t1mri/V1/default_analysis/folds/3.1\")\n",
    "\n",
    "RAW_FOLDER_MASK = Path(\"/neurospin/cati/cati_members/studies_cati/cermoi/database_brainvisa/00\")\n",
    "TREE_RAW_MASK = Path(\"cereb_bs4/V1\")\n",
    "\n",
    "NOMENCLATURE_RAW = \".nii.gz\"\n",
    "NOMENCLATURE_MASK = \"_cerebellum_brainstem_split_mask.nii.gz\"\n",
    " \n",
    "# Saving folder \n",
    "\n",
    "SAVING_HCP = Path(\"/neurospin/tmp/tsanchez/tmp_pipe/hcp\")\n",
    "SAVING_PCLEAN = Path(\"/neurospin/tmp/tsanchez/tmp_pipe/pclean\")\n",
    "SAVING_UKB = Path(\"/neurospin/tmp/tsanchez/tmp_pipe/ukb\")\n",
    "SAVING_MASK = Path(\"/neurospin/tmp/tsanchez/tmp_pipe/mask\")\n"
   ]
  },
  {
   "cell_type": "code",
   "execution_count": 7,
   "metadata": {},
   "outputs": [
    {
     "data": {
      "text/plain": [
       "('163331', 's12158', 'sub-1000021')"
      ]
     },
     "execution_count": 7,
     "metadata": {},
     "output_type": "execute_result"
    }
   ],
   "source": [
    "test_hcp, test_pclean, test_ukb = dict_subjects[\"hcp\"][0], dict_subjects[\"pclean\"][0], dict_subjects[\"ukb\"][0]\n",
    "test_hcp, test_pclean, test_ukb"
   ]
  },
  {
   "cell_type": "code",
   "execution_count": 8,
   "metadata": {},
   "outputs": [],
   "source": [
    "from cerebellum_folding.data.path import SubjectPath\n",
    "subject_hcp = SubjectPath(\n",
    "    subject_id = test_hcp,\n",
    "    graph_folder = GRAPH_FOLDER_HCP,\n",
    "    tree_graph = TREE_GRAPH_HCP,\n",
    "    raw_folder = RAW_FOLDER_HCP,\n",
    "    tree_raw = TREE_RAW_HCP,\n",
    "    nomenclature_raw = NOMENCLATURE_RAW,\n",
    "    saving_folder= SAVING_HCP\n",
    ")"
   ]
  },
  {
   "cell_type": "code",
   "execution_count": 9,
   "metadata": {},
   "outputs": [],
   "source": [
    "dict_path = {\n",
    "    \"hcp\" : [\n",
    "        SubjectPath(\n",
    "            subject_id = subject,\n",
    "            graph_folder = GRAPH_FOLDER_HCP,\n",
    "            tree_graph = TREE_GRAPH_HCP,\n",
    "            raw_folder = RAW_FOLDER_HCP,\n",
    "            tree_raw = TREE_RAW_HCP,\n",
    "            nomenclature_raw = NOMENCLATURE_RAW,\n",
    "            saving_folder= SAVING_HCP\n",
    "        ) for subject in dict_subjects[\"hcp\"] \n",
    "    ],\n",
    "    \"pclean\" : [\n",
    "        SubjectPath(\n",
    "            subject_id = subject,\n",
    "            graph_folder = GRAPH_FOLDER_PCLEAN,\n",
    "            tree_graph = TREE_GRAPH_PCLEAN,\n",
    "            raw_folder = RAW_FOLDER_PCLEAN,\n",
    "            tree_raw = TREE_RAW_PCLEAN,\n",
    "            nomenclature_raw = NOMENCLATURE_RAW,\n",
    "            saving_folder= SAVING_PCLEAN\n",
    "        ) for subject in dict_subjects[\"pclean\"]\n",
    "    ],\n",
    "    \"ukb\" : [\n",
    "        SubjectPath(\n",
    "            subject_id = subject,\n",
    "            graph_folder = GRAPH_FOLDER_UKB,\n",
    "            tree_graph = TREE_GRAPH_UKB,\n",
    "            raw_folder = RAW_FOLDER_UKB,\n",
    "            tree_raw = TREE_RAW_UKB,\n",
    "            nomenclature_raw = NOMENCLATURE_RAW,\n",
    "            saving_folder= SAVING_UKB\n",
    "        ) for subject in dict_subjects[\"ukb\"]\n",
    "    ]\n",
    "}"
   ]
  },
  {
   "cell_type": "code",
   "execution_count": null,
   "metadata": {},
   "outputs": [],
   "source": []
  }
 ],
 "metadata": {
  "kernelspec": {
   "display_name": "venv",
   "language": "python",
   "name": "python3"
  },
  "language_info": {
   "codemirror_mode": {
    "name": "ipython",
    "version": 3
   },
   "file_extension": ".py",
   "mimetype": "text/x-python",
   "name": "python",
   "nbconvert_exporter": "python",
   "pygments_lexer": "ipython3",
   "version": "3.10.12"
  }
 },
 "nbformat": 4,
 "nbformat_minor": 2
}
