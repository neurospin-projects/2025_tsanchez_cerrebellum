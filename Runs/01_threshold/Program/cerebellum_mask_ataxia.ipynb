{
 "cells": [
  {
   "cell_type": "code",
   "execution_count": 1,
   "metadata": {},
   "outputs": [],
   "source": [
    "from soma import aims\n",
    "import pandas as pd\n",
    "import numpy as np\n",
    "from pathlib import Path\n",
    "\n",
    "from typing import Dict"
   ]
  },
  {
   "cell_type": "markdown",
   "metadata": {},
   "source": [
    "# Paths for the analysis\n",
    "\n",
    "<span style=\"color:red\"> Analysis on V1 subject in ataxia, and on PN (it's a preprocessing done on the data -> cf. Clara)</span>"
   ]
  },
  {
   "cell_type": "code",
   "execution_count": 2,
   "metadata": {},
   "outputs": [],
   "source": [
    "class PathSubjectAtaxia : \n",
    "    def __init__(self, subject_id): \n",
    "        # Paths template\n",
    "        # DB location\n",
    "        ATAXIA_ZSUN = Path(\"/neurospin/dico/zsun/ataxie/etudes_AlexandraDurr/database_brainvisa/cermoi\")\n",
    "        CATI_CERMOI_DB = Path(\"/neurospin/cati/cati_members/studies_cati/cermoi/database_brainvisa/00\")\n",
    "\n",
    "        # Tree in the DB to access the graphs \n",
    "        # Ataxia zsun\n",
    "        TREE_GRAPH = Path(\"t1mri/V1/default_analysis/folds/3.1\")\n",
    "        # Cati processed\n",
    "        TREE_CERES = Path(\"cereb_bs4/V1\")\n",
    "        NOMENCLATURE_CEREBELLUM_SEG = \"_cerebellum_brainstem_split_mask.nii.gz\"\n",
    "\n",
    "        # subject specific paths\n",
    "        self.id = subject_id\n",
    "        self.graph = ATAXIA_ZSUN / subject_id / TREE_GRAPH / f\"R{subject_id}.arg\"\n",
    "        self.cerebellum_mask = CATI_CERMOI_DB / subject_id / TREE_CERES / f\"{subject_id}{NOMENCLATURE_CEREBELLUM_SEG}\""
   ]
  },
  {
   "cell_type": "code",
   "execution_count": 3,
   "metadata": {},
   "outputs": [
    {
     "data": {
      "text/plain": [
       "(PosixPath('/neurospin/dico/zsun/ataxie/etudes_AlexandraDurr/database_brainvisa/cermoi/00001PJ/t1mri/V1/default_analysis/folds/3.1/R00001PJ.arg'),\n",
       " PosixPath('/neurospin/cati/cati_members/studies_cati/cermoi/database_brainvisa/00/00001PJ/cereb_bs4/V1/00001PJ_cerebellum_brainstem_split_mask.nii.gz'))"
      ]
     },
     "execution_count": 3,
     "metadata": {},
     "output_type": "execute_result"
    }
   ],
   "source": [
    "SUBJECT = \"00001PJ\"\n",
    "sub_path = PathSubjectAtaxia(SUBJECT)\n",
    "sub_path.graph, sub_path.cerebellum_mask"
   ]
  },
  {
   "cell_type": "markdown",
   "metadata": {},
   "source": [
    "# Retrieving cerebllum mask from CERES\n",
    "\n",
    "We are working with the segmentation that has been done with by Clara Fischer in the ataxia project.\n",
    "\n",
    "The segmentation has been done using Ceres for the lobes of the brain and in addition to that, the vermis have segmented using vol2brain, those 2 segmentation have been merged to have those parts : \n",
    "- Two hemispheres (separated components)\n",
    "- Vermis \n",
    "- Brain stem structure (3 different components)\n",
    "\n",
    "Only the 2 cerebellum hemisphere and the vermis are interesting for us."
   ]
  },
  {
   "cell_type": "markdown",
   "metadata": {},
   "source": [
    "### Cerebellum mask"
   ]
  },
  {
   "cell_type": "code",
   "execution_count": 4,
   "metadata": {},
   "outputs": [
    {
     "data": {
      "text/plain": [
       "array([0, 1, 2, 3, 5, 6, 7, 8], dtype=int16)"
      ]
     },
     "execution_count": 4,
     "metadata": {},
     "output_type": "execute_result"
    }
   ],
   "source": [
    "aims_obj = aims.read(str(sub_path.cerebellum_mask))\n",
    "vol_np = aims_obj.np\n",
    "np.unique(vol_np)"
   ]
  },
  {
   "cell_type": "markdown",
   "metadata": {},
   "source": [
    "Detail of the encoding of the different parts : \n",
    "- `0` : Background\n",
    "- `1` : Hemisphere\n",
    "- `2` : Hemisphere\n",
    "- `3` : Vermis \n",
    "- `[5-8]` : Brainstem"
   ]
  },
  {
   "cell_type": "code",
   "execution_count": 5,
   "metadata": {},
   "outputs": [],
   "source": [
    "# Changing the values of the volume\n",
    "def only_mask_cerebellum(vol : np.ndarray) -> None :\n",
    "    cerebellum = np.isin(vol_np, [1,2,3])\n",
    "    rest = np.isin(vol_np, [0,5,6,7,8])\n",
    "\n",
    "    vol_np[cerebellum] = 1\n",
    "    vol_np[rest] = 0"
   ]
  },
  {
   "cell_type": "code",
   "execution_count": 6,
   "metadata": {},
   "outputs": [
    {
     "data": {
      "text/plain": [
       "array([0, 1], dtype=int16)"
      ]
     },
     "execution_count": 6,
     "metadata": {},
     "output_type": "execute_result"
    }
   ],
   "source": [
    "only_mask_cerebellum(vol_np)\n",
    "np.unique(vol_np)"
   ]
  },
  {
   "cell_type": "code",
   "execution_count": 7,
   "metadata": {},
   "outputs": [],
   "source": [
    "SAVING_FOLDER = Path(\"/neurospin/tmp/tsanchez/cerebellum_mask/ataxia\")\n",
    "# aims.write(obj = aims_obj, filename= str(SAVING_FOLDER / f\"{SUBJECT}_cereb_bs4_cerebellum_only.nii.gz\"))"
   ]
  },
  {
   "cell_type": "markdown",
   "metadata": {},
   "source": [
    "### Retreiving transform matrix to ICBM2009c w/ `deep_folding`\n",
    "\n",
    "We need to transform to register the mask we obtained to IBCM2009c"
   ]
  },
  {
   "cell_type": "code",
   "execution_count": 8,
   "metadata": {},
   "outputs": [],
   "source": [
    "def get_ICBM2009c_transform(graph_path) : \n",
    "    graph = aims.read(str(graph_path))\n",
    "    transf = aims.GraphManip.getICBM2009cTemplateTransform(graph)\n",
    "    return transf"
   ]
  },
  {
   "cell_type": "code",
   "execution_count": 9,
   "metadata": {},
   "outputs": [],
   "source": [
    "mask_transform = get_ICBM2009c_transform(sub_path.graph)"
   ]
  },
  {
   "cell_type": "code",
   "execution_count": 10,
   "metadata": {},
   "outputs": [],
   "source": [
    "from deep_folding.brainvisa.utils.resample import resample"
   ]
  },
  {
   "cell_type": "code",
   "execution_count": 11,
   "metadata": {},
   "outputs": [
    {
     "name": "stderr",
     "output_type": "stream",
     "text": [
      "DEBUG:resample.py: Time before resampling: 0.12787437438964844s\n",
      "DEBUG:resample.py: Background resampling: 0.01322031021118164s\n",
      "DEBUG:resample.py: Time: 0.7795796394348145s\n",
      "DEBUG:resample.py: \t0.19052863121032715s to create the bucket\n",
      "\t0.30269503593444824s to resample bucket\n",
      "\t0.03833889961242676s to assign values\n"
     ]
    },
    {
     "name": "stdout",
     "output_type": "stream",
     "text": [
      "restoring values\n"
     ]
    }
   ],
   "source": [
    "RESAMPLE_VALUES = [1]\n",
    "OUTPUT_VOXEL_SIZE = (1,1,1)\n",
    "resampled_cereb_mask = resample(\n",
    "    input_image=aims_obj, \n",
    "    transformation=mask_transform,\n",
    "    output_vs=OUTPUT_VOXEL_SIZE,\n",
    "    background=0,\n",
    "    values= RESAMPLE_VALUES,\n",
    "    verbose=True\n",
    ")"
   ]
  },
  {
   "cell_type": "code",
   "execution_count": 12,
   "metadata": {},
   "outputs": [],
   "source": [
    "import deep_folding.brainvisa.utils.dilate_mask as dl \n",
    "\n",
    "DILATATION = 5 #mm\n",
    "dilated_mask = dl.dilate(resampled_cereb_mask, radius=DILATATION)\n",
    "aims.write(dilated_mask, filename = str(SAVING_FOLDER / f\"{SUBJECT}_ICBM2009c_cerebellum_mask_{DILATATION}mm_dilatation.nii.gz\"))"
   ]
  },
  {
   "cell_type": "markdown",
   "metadata": {},
   "source": [
    "### Register pclean and hcp subjects to ICBM2009c"
   ]
  },
  {
   "cell_type": "code",
   "execution_count": 13,
   "metadata": {},
   "outputs": [],
   "source": [
    "class PathSubject:\n",
    "    def __init__(self, subject_id : str, db : str):\n",
    "        assert db in [\"hcp\", \"pclean\"]\n",
    "\n",
    "        PATH_DATA = Path(\"/neurospin/dico/data/bv_databases/human\")\n",
    "        PATH_LOCAL = Path(f\"/neurospin/tmp/tsanchez/{db}\")\n",
    "\n",
    "\n",
    "        if db == \"pclean\" :\n",
    "            PATH_DB = PATH_DATA / \"manually_labeled\" / \"pclean\" / \"all\" \n",
    "            TREE_GRAPH = Path(\"t1mri/t1/default_analysis/folds/3.1\")\n",
    "        else :\n",
    "            PATH_DB = PATH_DATA / \"automatically_labeled\" / \"hcp\"/ \"hcp\"\n",
    "            TREE_GRAPH = Path(\"t1mri/BL/default_analysis/folds/3.1\")\n",
    "\n",
    "        self.id = subject_id\n",
    "        self.local = PATH_LOCAL\n",
    "        self.graph = PATH_DB / subject_id / TREE_GRAPH / f\"R{subject_id}.arg\"\n",
    "        self.thresh = PATH_LOCAL / \"thresh\" / f\"threshold_cerebellum_{subject_id}.nii.gz\"\n",
    "        self.ICBM2009c = PATH_LOCAL / \"ICBM2009c_thresh\" / f\"{subject_id}_ICBM2009c_thresh.nii.gz\"\n",
    "        self.final = PATH_LOCAL / \"cerebellum_thresholded\" / f\"{subject_id}_cerebellum_only_thresh.nii.gz\"\n",
    "        self.white_matter = PATH_LOCAL / \"cerebellum_thresholded\" / f\"{subject_id}_white_matter.nii.gz\"\n",
    "        self.sulci = PATH_LOCAL / \"cerebellum_thresholded\" / f\"{subject_id}_sulci.nii.gz\"\n",
    "    \n",
    "    def __repr__(self) : \n",
    "        return f\"Paths({self.id})\""
   ]
  },
  {
   "cell_type": "code",
   "execution_count": 14,
   "metadata": {},
   "outputs": [
    {
     "data": {
      "text/plain": [
       "('518746',\n",
       " PosixPath('/neurospin/tmp/tsanchez/hcp'),\n",
       " PosixPath('/neurospin/dico/data/bv_databases/human/automatically_labeled/hcp/hcp/518746/t1mri/BL/default_analysis/folds/3.1/R518746.arg'),\n",
       " PosixPath('/neurospin/tmp/tsanchez/hcp/thresh/threshold_cerebellum_518746.nii.gz'),\n",
       " PosixPath('/neurospin/tmp/tsanchez/hcp/ICBM2009c_thresh/518746_ICBM2009c_thresh.nii.gz'),\n",
       " PosixPath('/neurospin/tmp/tsanchez/hcp/cerebellum_thresholded/518746_cerebellum_only_thresh.nii.gz'))"
      ]
     },
     "execution_count": 14,
     "metadata": {},
     "output_type": "execute_result"
    }
   ],
   "source": [
    "test = 518746\n",
    "path_test = PathSubject(str(test), db = \"hcp\")\n",
    "path_test.id, path_test.local, path_test.graph, path_test.thresh, path_test.ICBM2009c, path_test.final\n"
   ]
  },
  {
   "cell_type": "code",
   "execution_count": 15,
   "metadata": {},
   "outputs": [
    {
     "data": {
      "text/plain": [
       "{'hcp': [Paths(163331), Paths(518746), Paths(991267)],\n",
       " 'pclean': [Paths(s12158), Paths(s12401), Paths(s12635)]}"
      ]
     },
     "execution_count": 15,
     "metadata": {},
     "output_type": "execute_result"
    }
   ],
   "source": [
    "### Subjects \n",
    "dict_subjects = {\n",
    "                \"hcp\" : [\n",
    "                        \"163331\", \n",
    "                        \"518746\", \n",
    "                        \"991267\", \n",
    "                        ],\n",
    "                \"pclean\" : [\n",
    "                        \"s12158\", \n",
    "                        \"s12401\", \n",
    "                        \"s12635\", \n",
    "                        ]\n",
    "                }\n",
    "\n",
    "dict_path = {\n",
    "    \"hcp\" : [PathSubject(sub_id, \"hcp\") for sub_id in dict_subjects[\"hcp\"]],\n",
    "    \"pclean\" : [PathSubject(sub_id, \"pclean\") for sub_id in dict_subjects[\"pclean\"]],\n",
    "}\n",
    "\n",
    "dict_path"
   ]
  },
  {
   "cell_type": "code",
   "execution_count": 18,
   "metadata": {},
   "outputs": [],
   "source": [
    "def transform_ICBM2009c(paths : PathSubject, save : bool = False) : \n",
    "\n",
    "    # TODO : Add this as arguments\n",
    "    RESAMPLE_VALUES = [0, -1, 1]\n",
    "    OUTPUT_VOXEL_SIZE = (1,1,1)\n",
    "\n",
    "    # !!! Not really the native object here\n",
    "    native_obj = aims.read(str(paths.thresh))\n",
    "    c = aims.Converter(intype=native_obj, outtype=aims.Volume('S16'))\n",
    "    native_obj = c(native_obj)\n",
    "\n",
    "    # Apply transform\n",
    "    transf = get_ICBM2009c_transform(paths.graph)\n",
    "    resampled_to_ICBM2009c = resample(\n",
    "        input_image=native_obj, \n",
    "        transformation=transf,\n",
    "        output_vs=OUTPUT_VOXEL_SIZE,\n",
    "        background=0,\n",
    "        values= RESAMPLE_VALUES,\n",
    "        verbose=True\n",
    "    )\n",
    "\n",
    "    if save : \n",
    "        aims.write(resampled_to_ICBM2009c, filename=str(paths.ICBM2009c))\n",
    "\n",
    "    return resampled_to_ICBM2009c\n"
   ]
  },
  {
   "cell_type": "code",
   "execution_count": 19,
   "metadata": {},
   "outputs": [
    {
     "name": "stderr",
     "output_type": "stream",
     "text": [
      "DEBUG:resample.py: Time before resampling: 0.027959823608398438s\n",
      "DEBUG:resample.py: Background resampling: 0.004275321960449219s\n",
      "DEBUG:resample.py: Time: 16.01353168487549s\n",
      "DEBUG:resample.py: \t5.679744482040405s to create the bucket\n",
      "\t9.257164478302002s to resample bucket\n",
      "\t0.5303919315338135s to assign values\n"
     ]
    },
    {
     "name": "stdout",
     "output_type": "stream",
     "text": [
      "restoring values\n"
     ]
    },
    {
     "name": "stderr",
     "output_type": "stream",
     "text": [
      "DEBUG:resample.py: Time before resampling: 0.01725602149963379s\n",
      "DEBUG:resample.py: Background resampling: 0.007330417633056641s\n",
      "DEBUG:resample.py: Time: 14.994313478469849s\n",
      "DEBUG:resample.py: \t5.458379507064819s to create the bucket\n",
      "\t8.518330335617065s to resample bucket\n",
      "\t0.48970842361450195s to assign values\n"
     ]
    },
    {
     "name": "stdout",
     "output_type": "stream",
     "text": [
      "restoring values\n"
     ]
    },
    {
     "name": "stderr",
     "output_type": "stream",
     "text": [
      "DEBUG:resample.py: Time before resampling: 0.01785731315612793s\n",
      "DEBUG:resample.py: Background resampling: 0.005156993865966797s\n",
      "DEBUG:resample.py: Time: 13.820917844772339s\n",
      "DEBUG:resample.py: \t5.182499647140503s to create the bucket\n",
      "\t7.669177532196045s to resample bucket\n",
      "\t0.44927072525024414s to assign values\n"
     ]
    },
    {
     "name": "stdout",
     "output_type": "stream",
     "text": [
      "restoring values\n"
     ]
    },
    {
     "name": "stderr",
     "output_type": "stream",
     "text": [
      "DEBUG:resample.py: Time before resampling: 0.013228178024291992s\n",
      "DEBUG:resample.py: Background resampling: 0.005300760269165039s\n",
      "DEBUG:resample.py: Time: 8.711182832717896s\n",
      "DEBUG:resample.py: \t1.3903510570526123s to create the bucket\n",
      "\t6.872084856033325s to resample bucket\n",
      "\t0.23924970626831055s to assign values\n"
     ]
    },
    {
     "name": "stdout",
     "output_type": "stream",
     "text": [
      "restoring values\n"
     ]
    },
    {
     "name": "stderr",
     "output_type": "stream",
     "text": [
      "DEBUG:resample.py: Time before resampling: 0.008360862731933594s\n",
      "DEBUG:resample.py: Background resampling: 0.0048902034759521484s\n",
      "DEBUG:resample.py: Time: 6.896492958068848s\n",
      "DEBUG:resample.py: \t1.4144809246063232s to create the bucket\n",
      "\t5.034775018692017s to resample bucket\n",
      "\t0.22500848770141602s to assign values\n"
     ]
    },
    {
     "name": "stdout",
     "output_type": "stream",
     "text": [
      "restoring values\n"
     ]
    },
    {
     "name": "stderr",
     "output_type": "stream",
     "text": [
      "DEBUG:resample.py: Time before resampling: 0.008545875549316406s\n",
      "DEBUG:resample.py: Background resampling: 0.0051822662353515625s\n",
      "DEBUG:resample.py: Time: 7.577647686004639s\n",
      "DEBUG:resample.py: \t1.4006574153900146s to create the bucket\n",
      "\t5.6677632331848145s to resample bucket\n",
      "\t0.287036657333374s to assign values\n"
     ]
    },
    {
     "name": "stdout",
     "output_type": "stream",
     "text": [
      "restoring values\n"
     ]
    }
   ],
   "source": [
    "dict_registered_ICBMc2009 = {\n",
    "    \"hcp\" : [transform_ICBM2009c(path_sub, save=True) for path_sub in dict_path[\"hcp\"]],\n",
    "    \"pclean\" : [transform_ICBM2009c(path_sub, save=True) for path_sub in dict_path[\"pclean\"]],\n",
    "}"
   ]
  },
  {
   "cell_type": "markdown",
   "metadata": {},
   "source": [
    "### Applying Mask to ICBM2009c Threshold"
   ]
  },
  {
   "cell_type": "code",
   "execution_count": 20,
   "metadata": {},
   "outputs": [
    {
     "data": {
      "text/plain": [
       "PosixPath('/neurospin/tmp/tsanchez/cerebellum_mask/ataxia/00001PJ_ICBM2009c_cerebellum_mask_5mm_dilatation.nii.gz')"
      ]
     },
     "execution_count": 20,
     "metadata": {},
     "output_type": "execute_result"
    }
   ],
   "source": [
    "# Mask file path\n",
    "mask_file = SAVING_FOLDER / f\"{SUBJECT}_ICBM2009c_cerebellum_mask_{DILATATION}mm_dilatation.nii.gz\"\n",
    "mask_file"
   ]
  },
  {
   "cell_type": "code",
   "execution_count": 21,
   "metadata": {},
   "outputs": [
    {
     "data": {
      "text/plain": [
       "array([0, 1], dtype=int16)"
      ]
     },
     "execution_count": 21,
     "metadata": {},
     "output_type": "execute_result"
    }
   ],
   "source": [
    "# Readgin mask file\n",
    "mask = aims.read(str(mask_file))\n",
    "mask_np = mask.np\n",
    "np.unique(mask_np)"
   ]
  },
  {
   "cell_type": "code",
   "execution_count": 22,
   "metadata": {},
   "outputs": [
    {
     "data": {
      "text/plain": [
       "(Paths(163331), Paths(s12158))"
      ]
     },
     "execution_count": 22,
     "metadata": {},
     "output_type": "execute_result"
    }
   ],
   "source": [
    "# Selecting hcp subject\n",
    "subject_hcp = dict_path[\"hcp\"][0]\n",
    "subject_pclean = dict_path[\"pclean\"][0]\n",
    "subject_hcp, subject_pclean"
   ]
  },
  {
   "cell_type": "code",
   "execution_count": 23,
   "metadata": {},
   "outputs": [
    {
     "data": {
      "text/plain": [
       "array([False,  True])"
      ]
     },
     "execution_count": 23,
     "metadata": {},
     "output_type": "execute_result"
    }
   ],
   "source": [
    "# Settings mask to bool \n",
    "mask_bool = np.where(mask_np == 1, True, False)\n",
    "np.unique(mask_bool)"
   ]
  },
  {
   "cell_type": "code",
   "execution_count": 24,
   "metadata": {},
   "outputs": [],
   "source": [
    "# Reding files\n",
    "vol_hcp, vol_pclean = aims.read(str(subject_hcp.ICBM2009c)), aims.read(str(subject_pclean.ICBM2009c)) \n",
    "vol_hcp_np, vol_pclean_np = vol_hcp.np, vol_pclean.np "
   ]
  },
  {
   "cell_type": "code",
   "execution_count": 25,
   "metadata": {},
   "outputs": [],
   "source": [
    "# Applying cerebellum mask\n",
    "vol_hcp_np[~mask_bool] = 0\n",
    "vol_pclean_np[~mask_bool] = 0"
   ]
  },
  {
   "cell_type": "code",
   "execution_count": 26,
   "metadata": {},
   "outputs": [],
   "source": [
    "# Saving files \n",
    "aims.write(vol_hcp, str(subject_hcp.final))\n",
    "aims.write(vol_pclean, str(subject_pclean.final))"
   ]
  },
  {
   "cell_type": "markdown",
   "metadata": {},
   "source": [
    "### Select only white matter and sulci\n"
   ]
  },
  {
   "cell_type": "code",
   "execution_count": 36,
   "metadata": {},
   "outputs": [],
   "source": [
    "# Loading files\n",
    "hcp_sulci , hcp_white_matter = aims.read(str(subject_hcp.ICBM2009c)), aims.read(str(subject_hcp.ICBM2009c))\n",
    "pclean_sulci , pclean_white_matter = aims.read(str(subject_pclean.ICBM2009c)), aims.read(str(subject_pclean.ICBM2009c))"
   ]
  },
  {
   "cell_type": "code",
   "execution_count": 37,
   "metadata": {},
   "outputs": [],
   "source": [
    "# Retrieving np volumes\n",
    "hcp_sulci_np = hcp_sulci.np \n",
    "hcp_white_matter_np = hcp_white_matter.np \n",
    "pclean_sulci_np = pclean_sulci.np \n",
    "pclean_white_matter_np = pclean_white_matter.np "
   ]
  },
  {
   "cell_type": "code",
   "execution_count": 40,
   "metadata": {},
   "outputs": [],
   "source": [
    "# TODO : check why it need to run 2 times ? \n",
    "# Retrieving only white matter\n",
    "hcp_white_matter_np[:] = np.where(hcp_white_matter_np == -1, 1,0)\n",
    "pclean_white_matter_np[:] = np.where(pclean_white_matter_np == -1, 1,0)\n",
    "\n",
    "# Retrieving only sulci\n",
    "hcp_sulci_np[:] = np.where(hcp_sulci_np == 1, 1,0)\n",
    "pclean_sulci_np[:] = np.where(pclean_sulci_np == 1, 1,0)\n",
    "\n",
    "\n",
    "# Retrieving only white matter\n",
    "hcp_white_matter_np[~mask_bool] = 0\n",
    "pclean_white_matter_np[~mask_bool] = 0\n",
    "\n",
    "# Retrieving only sulci\n",
    "hcp_sulci_np[~mask_bool] = 0\n",
    "pclean_sulci_np[~mask_bool] = 0\n"
   ]
  },
  {
   "cell_type": "code",
   "execution_count": 41,
   "metadata": {},
   "outputs": [
    {
     "data": {
      "text/plain": [
       "(array([0, 1], dtype=int16),\n",
       " array([0, 1], dtype=int16),\n",
       " array([0, 1], dtype=int16),\n",
       " array([0, 1], dtype=int16))"
      ]
     },
     "execution_count": 41,
     "metadata": {},
     "output_type": "execute_result"
    }
   ],
   "source": [
    "# Need to be [0,1] every where\n",
    "np.unique(hcp_sulci_np), np.unique(hcp_white_matter_np), np.unique(pclean_white_matter_np), np.unique(pclean_sulci_np)"
   ]
  },
  {
   "cell_type": "code",
   "execution_count": 43,
   "metadata": {},
   "outputs": [
    {
     "data": {
      "text/plain": [
       "<soma.aims.Volume_S16 at 0x7f77b4d63a30>"
      ]
     },
     "execution_count": 43,
     "metadata": {},
     "output_type": "execute_result"
    }
   ],
   "source": [
    "hcp_sulci"
   ]
  },
  {
   "cell_type": "code",
   "execution_count": 42,
   "metadata": {},
   "outputs": [],
   "source": [
    "aims.write(hcp_sulci, filename = str(subject_hcp.sulci))\n",
    "aims.write(hcp_white_matter, filename = str(subject_hcp.white_matter))\n",
    "aims.write(pclean_sulci, filename = str(subject_pclean.sulci))\n",
    "aims.write(pclean_white_matter, filename = str(subject_pclean.white_matter))"
   ]
  },
  {
   "cell_type": "code",
   "execution_count": null,
   "metadata": {},
   "outputs": [],
   "source": []
  }
 ],
 "metadata": {
  "kernelspec": {
   "display_name": "venv",
   "language": "python",
   "name": "python3"
  },
  "language_info": {
   "codemirror_mode": {
    "name": "ipython",
    "version": 3
   },
   "file_extension": ".py",
   "mimetype": "text/x-python",
   "name": "python",
   "nbconvert_exporter": "python",
   "pygments_lexer": "ipython3",
   "version": "3.10.12"
  }
 },
 "nbformat": 4,
 "nbformat_minor": 2
}
