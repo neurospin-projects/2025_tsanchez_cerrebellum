{
 "cells": [
  {
   "cell_type": "markdown",
   "metadata": {},
   "source": [
    "# Test pipeline for one subject\n",
    "\n",
    "Tests are done on UKB"
   ]
  },
  {
   "cell_type": "code",
   "execution_count": 1,
   "metadata": {},
   "outputs": [],
   "source": [
    "from pathlib import Path\n",
    "SUBJECT = \"sub-1000715\"\n",
    "GRAPH_FOLDER_UKB = Path(\"/tmp/tsanchez\") #Mounted on the local server\n",
    "TREE_GRAPH_UKB = Path(\"ses-2/anat/t1mri/default_acquisition/default_analysis/folds/3.1\")\n",
    "RAW_FOLDER_UKB = Path(\"/tmp/tsanchez\")\n",
    "TREE_RAW_UKB = Path(\"ses-2/anat/t1mri/default_acquisition\")\n",
    "\n",
    "# Paths for the masks\n",
    "GRAPH_FOLDER_MASK = Path(\"/neurospin/dico/zsun/ataxie/etudes_AlexandraDurr/database_brainvisa/cermoi\")\n",
    "TREE_GRAPH_MASK = Path(\"t1mri/V1/default_analysis/folds/3.1\")\n",
    "\n",
    "RAW_FOLDER_MASK = Path(\"/neurospin/cati/cati_members/studies_cati/cermoi/database_brainvisa/00\")\n",
    "TREE_RAW_MASK = Path(\"cereb_bs4/V1\")\n",
    "\n",
    "NOMENCLATURE_RAW = \".nii.gz\"\n",
    "NOMENCLATURE_MASK = \"_cerebellum_brainstem_split_mask.nii.gz\"\n",
    "\n",
    "SAVING_UKB = Path(\"/neurospin/tmp/tsanchez/tmp_pipe/ukb\")\n",
    "SAVING_MASK = Path(\"/neurospin/tmp/tsanchez/tmp_pipe/mask\")\n",
    "\n",
    "MASKS_TYPE = [\"cerebellum\", \"vermis\"] "
   ]
  },
  {
   "cell_type": "code",
   "execution_count": 2,
   "metadata": {},
   "outputs": [],
   "source": [
    "from cerebellum_folding.data.path import SubjectPath, MaskPath\n",
    "\n",
    "\n",
    "sub_path = SubjectPath(\n",
    "            subject_id = SUBJECT,\n",
    "            graph_folder = GRAPH_FOLDER_UKB,\n",
    "            tree_graph = TREE_GRAPH_UKB,\n",
    "            raw_folder = RAW_FOLDER_UKB,\n",
    "            tree_raw = TREE_RAW_UKB,\n",
    "            nomenclature_raw = NOMENCLATURE_RAW,\n",
    "            masks_type = MASKS_TYPE,\n",
    "            saving_folder= SAVING_UKB\n",
    ")"
   ]
  },
  {
   "cell_type": "code",
   "execution_count": 3,
   "metadata": {},
   "outputs": [
    {
     "data": {
      "text/plain": [
       "(PosixPath('/tmp/tsanchez/sub-1000715/ses-2/anat/t1mri/default_acquisition/sub-1000715.nii.gz'),\n",
       " {'resampled_icbm': PosixPath('/neurospin/tmp/tsanchez/tmp_pipe/ukb/sub-1000715/ICBM2009c/sub-1000715_resampled_icbm.nii.gz'),\n",
       "  'mean_curvature': PosixPath('/neurospin/tmp/tsanchez/tmp_pipe/ukb/sub-1000715/ICBM2009c/sub-1000715_mean_curvature_icbm.nii.gz'),\n",
       "  'threshold': PosixPath('/neurospin/tmp/tsanchez/tmp_pipe/ukb/sub-1000715/ICBM2009c/sub-1000715_tresh_mc.nii.gz')},\n",
       " {'cerebellum': {'threshold': PosixPath('/neurospin/tmp/tsanchez/tmp_pipe/ukb/sub-1000715/masked/cerebellum/sub-1000715_masked_tresh_cerebellum.nii.gz'),\n",
       "   'resampled_icbm': PosixPath('/neurospin/tmp/tsanchez/tmp_pipe/ukb/sub-1000715/masked/cerebellum/sub-1000715_masked_t1mri_cerebellum.nii.gz')},\n",
       "  'vermis': {'threshold': PosixPath('/neurospin/tmp/tsanchez/tmp_pipe/ukb/sub-1000715/masked/vermis/sub-1000715_masked_tresh_vermis.nii.gz'),\n",
       "   'resampled_icbm': PosixPath('/neurospin/tmp/tsanchez/tmp_pipe/ukb/sub-1000715/masked/vermis/sub-1000715_masked_t1mri_vermis.nii.gz')}})"
      ]
     },
     "execution_count": 3,
     "metadata": {},
     "output_type": "execute_result"
    }
   ],
   "source": [
    "sub_path.raw, sub_path.icbm, sub_path.masked"
   ]
  },
  {
   "cell_type": "code",
   "execution_count": 4,
   "metadata": {},
   "outputs": [],
   "source": [
    "from cerebellum_folding.data.path import MaskPath\n",
    "# Mask treatment\n",
    "mask_subject = \"00001PJ\"\n",
    "masks = {\n",
    "    \"cerebellum\" : MaskPath(\n",
    "        subject_id=mask_subject,\n",
    "        graph_folder=GRAPH_FOLDER_MASK,\n",
    "        tree_graph=TREE_GRAPH_MASK,\n",
    "        raw_folder=RAW_FOLDER_MASK,\n",
    "        tree_raw=TREE_RAW_MASK,\n",
    "        nomenclature_raw=NOMENCLATURE_MASK,\n",
    "        mask_type=\"cerebellum\",\n",
    "        saving_path=SAVING_MASK\n",
    "    ), \n",
    "    \"vermis\" : MaskPath(\n",
    "        subject_id=mask_subject,\n",
    "        graph_folder=GRAPH_FOLDER_MASK,\n",
    "        tree_graph=TREE_GRAPH_MASK,\n",
    "        raw_folder=RAW_FOLDER_MASK,\n",
    "        tree_raw=TREE_RAW_MASK,\n",
    "        nomenclature_raw=NOMENCLATURE_MASK,\n",
    "        mask_type=\"vermis\",\n",
    "        saving_path=SAVING_MASK\n",
    "    ),\n",
    "}"
   ]
  },
  {
   "cell_type": "code",
   "execution_count": 5,
   "metadata": {},
   "outputs": [],
   "source": [
    "WM_THRESH = -0.3967\n",
    "SULCI_THRESH = 0.464\n",
    "RESAMPLE_VALUES = [0, -1, 1]\n",
    "RESAMPLE_BIN = [0,1]\n",
    "OUTPUT_VOXEL_SIZE = (0.5,0.5,0.5)\n",
    "\n",
    "from cerebellum_folding.data.preprocess import PipelineSubject\n",
    "\n",
    "pipe_sub = PipelineSubject(\n",
    "                subject_path = sub_path,\n",
    "                masks_path = masks,\n",
    "                white_matter_threshold = WM_THRESH,\n",
    "                sulci_threshold = SULCI_THRESH,\n",
    "                resample_values_icbm = RESAMPLE_VALUES,\n",
    "                resample_values_bin = RESAMPLE_BIN,\n",
    "                output_voxel = OUTPUT_VOXEL_SIZE,\n",
    "                verbose = True,\n",
    ")"
   ]
  },
  {
   "cell_type": "code",
   "execution_count": 6,
   "metadata": {},
   "outputs": [],
   "source": [
    "OW = False #Overwrite"
   ]
  },
  {
   "cell_type": "code",
   "execution_count": 7,
   "metadata": {},
   "outputs": [
    {
     "name": "stdout",
     "output_type": "stream",
     "text": [
      "File already exists\n"
     ]
    }
   ],
   "source": [
    "try :\n",
    "    pipe_sub.resample(overwrite=OW)\n",
    "except Exception as e :\n",
    "    print(e)"
   ]
  },
  {
   "cell_type": "code",
   "execution_count": 8,
   "metadata": {},
   "outputs": [
    {
     "name": "stdout",
     "output_type": "stream",
     "text": [
      "File already exists\n"
     ]
    }
   ],
   "source": [
    "try :\n",
    "    pipe_sub.compute_mean_curvature(overwrite=OW)\n",
    "except Exception as e :\n",
    "    print(e)"
   ]
  },
  {
   "cell_type": "code",
   "execution_count": 9,
   "metadata": {},
   "outputs": [
    {
     "name": "stdout",
     "output_type": "stream",
     "text": [
      "File already exists\n"
     ]
    }
   ],
   "source": [
    "try : \n",
    "    pipe_sub.threshold_mean_curvature(overwrite=OW)\n",
    "except Exception as e :\n",
    "    print(e)"
   ]
  },
  {
   "cell_type": "code",
   "execution_count": 23,
   "metadata": {},
   "outputs": [
    {
     "name": "stdout",
     "output_type": "stream",
     "text": [
      "Saving /neurospin/tmp/tsanchez/tmp_pipe/ukb/sub-1000715/masked/cerebellum/sub-1000715_masked_tresh_cerebellum.nii.gz\n",
      "Saving /neurospin/tmp/tsanchez/tmp_pipe/ukb/sub-1000715/masked/cerebellum/sub-1000715_masked_t1mri_cerebellum.nii.gz\n",
      "Saving /neurospin/tmp/tsanchez/tmp_pipe/ukb/sub-1000715/masked/vermis/sub-1000715_masked_tresh_vermis.nii.gz\n",
      "Saving /neurospin/tmp/tsanchez/tmp_pipe/ukb/sub-1000715/masked/vermis/sub-1000715_masked_t1mri_vermis.nii.gz\n"
     ]
    }
   ],
   "source": [
    "try : \n",
    "    pipe_sub.apply_masks(overwrite=OW)\n",
    "except Exception as e :\n",
    "    print(e)"
   ]
  },
  {
   "cell_type": "markdown",
   "metadata": {},
   "source": [
    "# Mask pipeline\n"
   ]
  },
  {
   "cell_type": "code",
   "execution_count": 17,
   "metadata": {},
   "outputs": [],
   "source": [
    "from cerebellum_folding.data.path import MaskPath\n",
    "\n",
    "MASK_SUBJECT = \"00001PJ\"\n",
    "mask_path = MaskPath(\n",
    "        subject_id=MASK_SUBJECT,\n",
    "        graph_folder=GRAPH_FOLDER_MASK,\n",
    "        tree_graph=TREE_GRAPH_MASK,\n",
    "        raw_folder=RAW_FOLDER_MASK,\n",
    "        tree_raw=TREE_RAW_MASK,\n",
    "        nomenclature_raw=NOMENCLATURE_MASK,\n",
    "        mask_type=\"cerebellum\",\n",
    "        saving_path=SAVING_MASK\n",
    "    )"
   ]
  },
  {
   "cell_type": "code",
   "execution_count": 18,
   "metadata": {},
   "outputs": [
    {
     "data": {
      "text/plain": [
       "(PosixPath('/neurospin/cati/cati_members/studies_cati/cermoi/database_brainvisa/00/00001PJ/cereb_bs4/V1/00001PJ_cerebellum_brainstem_split_mask.nii.gz'),\n",
       " PosixPath('/neurospin/tmp/tsanchez/tmp_pipe/mask/cerebellum/00001PJ_cerebellum_native.nii.gz'),\n",
       " PosixPath('/neurospin/tmp/tsanchez/tmp_pipe/mask/cerebellum/00001PJ_cerebellum_ICBM2009c.nii.gz'),\n",
       " PosixPath('/neurospin/tmp/tsanchez/tmp_pipe/mask/cerebellum/00001PJ_cerebellum_native_dilatation.nii.gz'))"
      ]
     },
     "execution_count": 18,
     "metadata": {},
     "output_type": "execute_result"
    }
   ],
   "source": [
    "mask_path.raw, mask_path.native, mask_path.icbm2009, mask_path.dilated"
   ]
  },
  {
   "cell_type": "code",
   "execution_count": 19,
   "metadata": {},
   "outputs": [],
   "source": [
    "from cerebellum_folding.data.preprocess import PipelineMask\n",
    "pipe_mask = PipelineMask(\n",
    "    mask_path=mask_path,\n",
    "    sub_struct_mask=[3],\n",
    "    resample_values=[0,1],\n",
    "    output_voxel=(0.5,0.5,0.5),\n",
    "    dilatation=5,\n",
    "    verbose = True,\n",
    ")"
   ]
  },
  {
   "cell_type": "code",
   "execution_count": 20,
   "metadata": {},
   "outputs": [
    {
     "data": {
      "text/plain": [
       "PosixPath('/neurospin/tmp/tsanchez/tmp_pipe/mask/cerebellum/00001PJ_cerebellum_native.nii.gz')"
      ]
     },
     "execution_count": 20,
     "metadata": {},
     "output_type": "execute_result"
    }
   ],
   "source": [
    "pipe_mask.path.native"
   ]
  },
  {
   "cell_type": "code",
   "execution_count": 21,
   "metadata": {},
   "outputs": [
    {
     "name": "stdout",
     "output_type": "stream",
     "text": [
      "Overwriting : /neurospin/tmp/tsanchez/tmp_pipe/mask/cerebellum/00001PJ_cerebellum_native.nii.gz \n",
      "Saving : /neurospin/tmp/tsanchez/tmp_pipe/mask/cerebellum/00001PJ_cerebellum_native.nii.gz\n"
     ]
    }
   ],
   "source": [
    "try :\n",
    "    pipe_mask.retrieve_structure_mask(overwrite=True)\n",
    "except Exception as e: \n",
    "    print(e)"
   ]
  },
  {
   "cell_type": "code",
   "execution_count": 22,
   "metadata": {},
   "outputs": [
    {
     "name": "stdout",
     "output_type": "stream",
     "text": [
      "Overwriting : /neurospin/tmp/tsanchez/tmp_pipe/mask/cerebellum/00001PJ_cerebellum_ICBM2009c.nii.gz \n"
     ]
    },
    {
     "name": "stderr",
     "output_type": "stream",
     "text": [
      "DEBUG:resample.py: Time before resampling: 0.026790857315063477s\n",
      "DEBUG:resample.py: Background resampling: 0.08208203315734863s\n",
      "DEBUG:resample.py: Time: 3.5378384590148926s\n",
      "DEBUG:resample.py: \t0.31404995918273926s to create the bucket\n",
      "\t2.5927724838256836s to resample bucket\n",
      "\t0.37885117530822754s to assign values\n"
     ]
    },
    {
     "name": "stdout",
     "output_type": "stream",
     "text": [
      "restoring values\n",
      "Saving /neurospin/tmp/tsanchez/tmp_pipe/mask/cerebellum/00001PJ_cerebellum_ICBM2009c.nii.gz\n"
     ]
    }
   ],
   "source": [
    "# try :\n",
    "pipe_mask.transform_ICBM2009c(overwrite=True)\n",
    "# except Exception as e: \n",
    "#     print(e)"
   ]
  },
  {
   "cell_type": "code",
   "execution_count": null,
   "metadata": {},
   "outputs": [],
   "source": []
  }
 ],
 "metadata": {
  "kernelspec": {
   "display_name": "venv",
   "language": "python",
   "name": "python3"
  },
  "language_info": {
   "codemirror_mode": {
    "name": "ipython",
    "version": 3
   },
   "file_extension": ".py",
   "mimetype": "text/x-python",
   "name": "python",
   "nbconvert_exporter": "python",
   "pygments_lexer": "ipython3",
   "version": "3.10.12"
  }
 },
 "nbformat": 4,
 "nbformat_minor": 2
}
