{
 "cells": [
  {
   "cell_type": "code",
   "execution_count": 1,
   "metadata": {},
   "outputs": [
    {
     "name": "stdout",
     "output_type": "stream",
     "text": [
      "numpy                         1.21.5\n",
      "numpydoc                      1.2\n",
      "\n",
      "\u001b[1m[\u001b[0m\u001b[34;49mnotice\u001b[0m\u001b[1;39;49m]\u001b[0m\u001b[39;49m A new release of pip is available: \u001b[0m\u001b[31;49m23.3.2\u001b[0m\u001b[39;49m -> \u001b[0m\u001b[32;49m25.0.1\u001b[0m\n",
      "\u001b[1m[\u001b[0m\u001b[34;49mnotice\u001b[0m\u001b[1;39;49m]\u001b[0m\u001b[39;49m To update, run: \u001b[0m\u001b[32;49mpython3 -m pip install --upgrade pip\u001b[0m\n"
     ]
    }
   ],
   "source": [
    "# Should be numpy <2 for it to work with aims\n",
    "!pip list | grep numpy "
   ]
  },
  {
   "cell_type": "code",
   "execution_count": 2,
   "metadata": {},
   "outputs": [
    {
     "name": "stdout",
     "output_type": "stream",
     "text": [
      "/usr/bin/sh: 1: source: not found\n"
     ]
    }
   ],
   "source": [
    "!source ~/.bashrc && pixi list | grep ipython "
   ]
  },
  {
   "cell_type": "code",
   "execution_count": 3,
   "metadata": {},
   "outputs": [],
   "source": [
    "from soma.qt_gui.qt_backend import Qt\n",
    "from soma import aims\n",
    "import anatomist.api as ana\n",
    "import numpy as np\n",
    "import matplotlib.pyplot as plt\n",
    "import torch\n",
    "%matplotlib qt5"
   ]
  },
  {
   "cell_type": "code",
   "execution_count": 4,
   "metadata": {},
   "outputs": [
    {
     "data": {
      "text/plain": [
       "((1, 60, 120, 144),\n",
       " array([-1.,  0.,  1.], dtype=float32),\n",
       " (1, 60, 120, 144),\n",
       " array([0, 1]))"
      ]
     },
     "execution_count": 4,
     "metadata": {},
     "output_type": "execute_result"
    }
   ],
   "source": [
    "from pathlib import Path\n",
    "# Loading tmp npy data : \n",
    "\n",
    "root_tmp = Path(\"/neurospin/dico/tsanchez/tmp/\")\n",
    "argmax_inf = np.load(root_tmp / \"output_inference.npy\")\n",
    "inputs = np.load(root_tmp / \"input_inference.npy\")\n",
    "inputs.shape, np.unique(inputs), argmax_inf.shape, np.unique(argmax_inf)"
   ]
  },
  {
   "cell_type": "code",
   "execution_count": 10,
   "metadata": {},
   "outputs": [
    {
     "data": {
      "text/plain": [
       "PosixPath('/neurospin/dico/tsanchez/tmp/input_inference.npy')"
      ]
     },
     "execution_count": 10,
     "metadata": {},
     "output_type": "execute_result"
    },
    {
     "ename": "",
     "evalue": "",
     "output_type": "error",
     "traceback": [
      "\u001b[1;31mThe Kernel crashed while executing code in the current cell or a previous cell. \n",
      "\u001b[1;31mPlease review the code in the cell(s) to identify a possible cause of the failure. \n",
      "\u001b[1;31mClick <a href='https://aka.ms/vscodeJupyterKernelCrash'>here</a> for more info. \n",
      "\u001b[1;31mView Jupyter <a href='command:jupyter.viewOutput'>log</a> for further details."
     ]
    }
   ],
   "source": [
    "root_tmp / \"input_inference.npy\""
   ]
  },
  {
   "cell_type": "code",
   "execution_count": 5,
   "metadata": {},
   "outputs": [
    {
     "name": "stdout",
     "output_type": "stream",
     "text": [
      "global modules: /casa/host/build/share/anatomist-5.2/python_plugins\n",
      "home   modules: /casa/home/.anatomist/python_plugins\n",
      "loading module gltf_io\n",
      "loading module palettecontrols\n",
      "loading module paletteViewer\n",
      "loading module meshsplit\n",
      "loading module profilewindow\n",
      "loading module ana_image_math\n",
      "loading module anacontrolmenu\n",
      "loading module foldsplit\n",
      "loading module modelGraphs\n",
      "loading module bsa_proba\n",
      "loading module histogram\n",
      "loading module gradientpalette\n",
      "loading module infowindow\n",
      "loading module simple_controls\n",
      "loading module volumepalettes\n",
      "loading module statsplotwindow\n",
      "loading module save_resampled\n",
      "loading module valuesplotwindow\n",
      "loading module selection\n",
      "all python modules loaded\n",
      "Anatomist started.\n"
     ]
    }
   ],
   "source": [
    "a = ana.Anatomist()"
   ]
  },
  {
   "cell_type": "code",
   "execution_count": 6,
   "metadata": {},
   "outputs": [
    {
     "data": {
      "text/plain": [
       "torch.Size([60, 120, 144, 1])"
      ]
     },
     "execution_count": 6,
     "metadata": {},
     "output_type": "execute_result"
    }
   ],
   "source": [
    "inputs_tens = torch.from_numpy(inputs)\n",
    "inputs_tens = inputs_tens.squeeze(0) \n",
    "inputs_reshaped = inputs_tens.unsqueeze(-1)\n",
    "inputs_reshaped.shape"
   ]
  },
  {
   "cell_type": "code",
   "execution_count": 7,
   "metadata": {},
   "outputs": [
    {
     "data": {
      "text/plain": [
       "({ 'volume_dimension' : [ 60, 120, 144, 1 ], 'sizeX' : 60, 'sizeY' : 120, 'sizeZ' : 144, 'sizeT' : 1, 'referential' : 'e8ada048-21a4-11f0-99ba-e43d1ab1cb49' },\n",
       " array([-1,  0,  1], dtype=int16))"
      ]
     },
     "execution_count": 7,
     "metadata": {},
     "output_type": "execute_result"
    }
   ],
   "source": [
    "vol_inputs = aims.Volume(inputs_reshaped.numpy().astype(np.int16))\n",
    "np.unique(vol_inputs.np, return_counts=True)\n",
    "vol_inputs.header(), np.unique(vol_inputs.np)"
   ]
  },
  {
   "cell_type": "code",
   "execution_count": 8,
   "metadata": {},
   "outputs": [],
   "source": [
    "A_inputs = a.toAObject(vol_inputs)"
   ]
  },
  {
   "cell_type": "code",
   "execution_count": 9,
   "metadata": {},
   "outputs": [],
   "source": [
    "vol_3d = a.fusionObjects(\n",
    "    objects=[A_inputs],\n",
    "    method= \"VolumeRenderingFusionMethod\"\n",
    ")\n",
    "\n",
    "clipped = a.fusionObjects(\n",
    "    objects=[vol_3d],\n",
    "    method= \"FusionClipMethod\"\n",
    ")\n",
    "\n",
    "clipped.releaseAppRef()"
   ]
  },
  {
   "cell_type": "code",
   "execution_count": 10,
   "metadata": {},
   "outputs": [],
   "source": [
    "colors = [0, 0, 0] * 512\n",
    "palette = a.createPalette(\"customPal\")\n",
    "palette.setColors(colors) #Value of 512\n",
    "\n",
    "palette.np[\"v\"][100:400,:,:,:,3] = 0 # Settings middle alpha to 0\n",
    "palette.np[\"v\"][:100,:,:,:,2] = 255 # Settings begin to blue max\n",
    "palette.np[\"v\"][:100,:,:,:,1] = 255 # Settings begin to green max\n",
    "palette.np[\"v\"][400:,:,:,:,0] = 255 # Settings end to red max\n",
    "\n",
    "# palette_array = np.zeros((512,1,1,1,4))\n",
    "# palette_array[100:400,:,:,:,3] = 0 # Settings middle alpha to 0\n",
    "# palette_array[:100,:,:,:,2] = 255 # Settings begin to blue max\n",
    "# palette_array[:100,:,:,:,1] = 255 # Settings begin to green max\n",
    "# palette_array[400:,:,:,:,0] = 255 # Settings end to red max\n",
    "\n",
    "# palette.np[\"v\"][:] = palette_array[:]"
   ]
  },
  {
   "cell_type": "code",
   "execution_count": 11,
   "metadata": {},
   "outputs": [
    {
     "data": {
      "text/plain": [
       "(512, 1, 1, 1, 4)"
      ]
     },
     "execution_count": 11,
     "metadata": {},
     "output_type": "execute_result"
    }
   ],
   "source": [
    "palette.np[\"v\"].shape"
   ]
  },
  {
   "cell_type": "code",
   "execution_count": 12,
   "metadata": {},
   "outputs": [],
   "source": [
    "clipped.setPalette(palette,\n",
    "                  absoluteMode = True)"
   ]
  },
  {
   "cell_type": "code",
   "execution_count": 13,
   "metadata": {},
   "outputs": [
    {
     "data": {
      "text/plain": [
       "<anatomist.cpp.rc_ptr_APalette object at 0x7f0e6c21c5e0>"
      ]
     },
     "execution_count": 13,
     "metadata": {},
     "output_type": "execute_result"
    }
   ],
   "source": [
    "palette"
   ]
  },
  {
   "cell_type": "code",
   "execution_count": 14,
   "metadata": {},
   "outputs": [],
   "source": [
    "clipped.setQuaternion(aims.Quaternion([0.6427876096865394,\n",
    "  -0.3420201433256688,\n",
    "  0.6427876096865394,\n",
    "  0.3420201433256688]))"
   ]
  },
  {
   "cell_type": "code",
   "execution_count": 15,
   "metadata": {},
   "outputs": [],
   "source": [
    "win = a.createWindow(\"3D\")\n",
    "win.setHasCursor(0)\n",
    "win.addObjects(clipped)"
   ]
  },
  {
   "cell_type": "code",
   "execution_count": 16,
   "metadata": {},
   "outputs": [
    {
     "data": {
      "text/plain": [
       "{'children': [3],\n",
       " 'copy': 0,\n",
       " 'loadDate': 1745507077,\n",
       " 'material': {'ambient': [0.100000001490116,\n",
       "   0.100000001490116,\n",
       "   0.100000001490116,\n",
       "   1],\n",
       "  'diffuse': [0.800000011920929,\n",
       "   0.800000011920929,\n",
       "   0.800000011920929,\n",
       "   0.200000002980232],\n",
       "  'emission': [0, 0, 0, 1],\n",
       "  'face_culling': 0,\n",
       "  'selectable_mode': 'selectable_when_opaque',\n",
       "  'shininess': 20,\n",
       "  'specular': [0.200000002980232, 0.200000002980232, 0.200000002980232, 1],\n",
       "  'unlit_color': [0, 0, 0, 1]},\n",
       " 'multiObject': 1,\n",
       " 'name': 'ClippedObject: VolumeRendering: Volume_S16',\n",
       " 'objectType': 'ClippedObject',\n",
       " 'palette': {'colorMixSize': 512,\n",
       "  'linMixFactor': 0.5,\n",
       "  'max': 1,\n",
       "  'max2': 1,\n",
       "  'min': 0.25,\n",
       "  'min2': 0,\n",
       "  'mixMethod': 'GEOMETRIC',\n",
       "  'palette': 'customPal',\n",
       "  'palette1Dmapping': 'FirstLine',\n",
       "  'sizex': 0,\n",
       "  'sizey': 0},\n",
       " 'referential': 2,\n",
       " 'slice_plane': [1, 0, 0, -29.5],\n",
       " 'slice_position': [29.5, 59.5, 71.5],\n",
       " 'slice_quaternion': [0.642787635326385,\n",
       "  -0.342020153999329,\n",
       "  0.642787635326385,\n",
       "  0.342020153999329],\n",
       " 'texture': {},\n",
       " 'type': 'AObject',\n",
       " 'windows': [1]}"
      ]
     },
     "execution_count": 16,
     "metadata": {},
     "output_type": "execute_result"
    }
   ],
   "source": [
    "clipped.getInfos()"
   ]
  },
  {
   "cell_type": "code",
   "execution_count": 17,
   "metadata": {},
   "outputs": [
    {
     "data": {
      "text/plain": [
       "{'boundingbox_max': [30, 72, 61.2120018005371],\n",
       " 'boundingbox_min': [-30, -72, -61.2000007629395],\n",
       " 'geometry': [2, 82, 424, 477],\n",
       " 'group': 0,\n",
       " 'objects': [0],\n",
       " 'observer_position': [29.5, 59.5, 71.5],\n",
       " 'position': [29.5, 59.5, 71.5, 0],\n",
       " 'referential': 2,\n",
       " 'selected': 0,\n",
       " 'slice_quaternion': [0, 0, 0, 1],\n",
       " 'type': 'AWindow',\n",
       " 'view_quaternion': [0.70710676908493, 0, 0, 0.70710676908493],\n",
       " 'view_size': [384, 384],\n",
       " 'windowType': '3D',\n",
       " 'zoom': 1}"
      ]
     },
     "execution_count": 17,
     "metadata": {},
     "output_type": "execute_result"
    }
   ],
   "source": [
    "win.getInfos()\n"
   ]
  },
  {
   "cell_type": "code",
   "execution_count": 20,
   "metadata": {},
   "outputs": [],
   "source": [
    "quat = [0.5,-0.5,-0.5,0.5] # Sagittal view\n",
    "# quat = [0.6,-0.2,-0.25,0.75] # Sagittal view"
   ]
  },
  {
   "cell_type": "code",
   "execution_count": 21,
   "metadata": {},
   "outputs": [
    {
     "ename": "",
     "evalue": "",
     "output_type": "error",
     "traceback": [
      "\u001b[1;31mThe Kernel crashed while executing code in the current cell or a previous cell. \n",
      "\u001b[1;31mPlease review the code in the cell(s) to identify a possible cause of the failure. \n",
      "\u001b[1;31mClick <a href='https://aka.ms/vscodeJupyterKernelCrash'>here</a> for more info. \n",
      "\u001b[1;31mView Jupyter <a href='command:jupyter.viewOutput'>log</a> for further details."
     ]
    }
   ],
   "source": [
    "# quat = [-0.52179491519928, -0.373378068208694, 0.757112264633179,0.122882008552551] # Random\n",
    "win.camera(view_quaternion=quat, zoom=0.67)"
   ]
  },
  {
   "cell_type": "code",
   "execution_count": null,
   "metadata": {},
   "outputs": [],
   "source": []
  }
 ],
 "metadata": {
  "kernelspec": {
   "display_name": "venv",
   "language": "python",
   "name": "python3"
  },
  "language_info": {
   "codemirror_mode": {
    "name": "ipython",
    "version": 3
   },
   "file_extension": ".py",
   "mimetype": "text/x-python",
   "name": "python",
   "nbconvert_exporter": "python",
   "pygments_lexer": "ipython3",
   "version": "3.10.12"
  }
 },
 "nbformat": 4,
 "nbformat_minor": 2
}
