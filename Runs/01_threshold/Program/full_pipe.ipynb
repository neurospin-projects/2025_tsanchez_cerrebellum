{
 "cells": [
  {
   "cell_type": "code",
   "execution_count": 2,
   "metadata": {},
   "outputs": [],
   "source": [
    "from pathlib import Path\n",
    "### Paths\n",
    "dict_subjects = {\n",
    "                \"hcp\" : [\n",
    "                        \"163331\", \n",
    "                        \"518746\", \n",
    "                        \"991267\", \n",
    "                        ],\n",
    "                \"pclean\" : [\n",
    "                        \"s12158\", \n",
    "                        \"s12401\", \n",
    "                        \"s12635\", \n",
    "                        ],\n",
    "                \"ukb\" : [\n",
    "                    \"sub-1000021\",\n",
    "                    \"sub-1000325\",\n",
    "                    \"sub-1000458\",\n",
    "                        ],\n",
    "                \"ataxia\" :[\n",
    "                    \"00002PV\",\n",
    "                    \"00003OA\",\n",
    "                    \"00032DL\",\n",
    "                        ]\n",
    "                }\n",
    "\n",
    "\n",
    "# Paths for the different DBs\n",
    "GRAPH_FOLDER_PCLEAN = Path(\"/neurospin/dico/data/bv_databases/human/manually_labeled/pclean/all\")\n",
    "GRAPH_FOLDER_HCP =  Path(\"/neurospin/dico/data/bv_databases/human/automatically_labeled/hcp/hcp\")\n",
    "GRAPH_FOLDER_UKB = Path(\"/tmp/tsanchez\") #Mounted on the local server\n",
    "GRAPH_FOLDER_ATAXIA = Path(\"/neurospin/dico/zsun/ataxie/etudes_AlexandraDurr/database_brainvisa/cermoi\")\n",
    "\n",
    "TREE_GRAPH_PCLEAN = Path(\"t1mri/t1/default_analysis/folds/3.1\") \n",
    "TREE_GRAPH_HCP = Path(\"t1mri/BL/default_analysis/folds/3.1\")\n",
    "TREE_GRAPH_UKB = Path(\"ses-2/anat/t1mri/default_acquisition/default_analysis/folds/3.1\")\n",
    "TREE_GRAPH_ATAXIA = Path(\"t1mri/V1/default_analysis/folds/3.1\")\n",
    "\n",
    "RAW_FOLDER_PCLEAN = Path(\"/neurospin/dico/data/bv_databases/human/manually_labeled/pclean/all\")\n",
    "RAW_FOLDER_HCP = Path(\"/neurospin/dico/data/bv_databases/human/automatically_labeled/hcp/hcp\")\n",
    "RAW_FOLDER_UKB = Path(\"/tmp/tsanchez\")\n",
    "RAW_FOLDER_ATAXIA = Path(\"/neurospin/dico/zsun/ataxie/etudes_AlexandraDurr/database_brainvisa/cermoi\")\n",
    "\n",
    "TREE_RAW_PCLEAN = Path(\"t1mri/t1\")\n",
    "TREE_RAW_HCP = Path(\"t1mri/BL\")\n",
    "TREE_RAW_UKB = Path(\"ses-2/anat/t1mri/default_acquisition\")\n",
    "TREE_RAW_ATAXIA = Path(\"t1mri/V1\")\n",
    "\n",
    "# Paths for the masks\n",
    "GRAPH_FOLDER_MASK = Path(\"/neurospin/dico/zsun/ataxie/etudes_AlexandraDurr/database_brainvisa/cermoi\")\n",
    "TREE_GRAPH_MASK = Path(\"t1mri/V1/default_analysis/folds/3.1\")\n",
    "\n",
    "RAW_FOLDER_MASK = Path(\"/neurospin/cati/cati_members/studies_cati/cermoi/database_brainvisa/00\")\n",
    "TREE_RAW_MASK = Path(\"cereb_bs4/V1\")\n",
    "\n",
    "NOMENCLATURE_RAW = \".nii.gz\"\n",
    "NOMENCLATURE_MASK = \"_cerebellum_brainstem_split_mask.nii.gz\"\n",
    " \n",
    "# Saving folder \n",
    "\n",
    "SAVING_HCP = Path(\"/neurospin/tmp/tsanchez/tmp_pipe/hcp\")\n",
    "SAVING_PCLEAN = Path(\"/neurospin/tmp/tsanchez/tmp_pipe/pclean\")\n",
    "SAVING_UKB = Path(\"/neurospin/tmp/tsanchez/tmp_pipe/ukb\")\n",
    "SAVING_ATAXIA = Path(\"/neurospin/tmp/tsanchez/tmp_pipe/ataxia\")\n",
    "\n",
    "SAVING_MASK = Path(\"/neurospin/tmp/tsanchez/tmp_pipe/mask\")\n"
   ]
  },
  {
   "cell_type": "markdown",
   "metadata": {},
   "source": [
    "# Native Space Preprocess"
   ]
  },
  {
   "cell_type": "markdown",
   "metadata": {},
   "source": [
    "## Subjects"
   ]
  },
  {
   "cell_type": "code",
   "execution_count": 3,
   "metadata": {},
   "outputs": [],
   "source": [
    "from cerebellum_folding.data.path import SubjectPath\n",
    "dict_path = {\n",
    "    \"hcp\" : [\n",
    "        SubjectPath(\n",
    "            subject_id = subject,\n",
    "            graph_folder = GRAPH_FOLDER_HCP,\n",
    "            tree_graph = TREE_GRAPH_HCP,\n",
    "            raw_folder = RAW_FOLDER_HCP,\n",
    "            tree_raw = TREE_RAW_HCP,\n",
    "            nomenclature_raw = NOMENCLATURE_RAW,\n",
    "            saving_folder= SAVING_HCP\n",
    "        ) for subject in dict_subjects[\"hcp\"] \n",
    "    ],\n",
    "    \"pclean\" : [\n",
    "        SubjectPath(\n",
    "            subject_id = subject,\n",
    "            graph_folder = GRAPH_FOLDER_PCLEAN,\n",
    "            tree_graph = TREE_GRAPH_PCLEAN,\n",
    "            raw_folder = RAW_FOLDER_PCLEAN,\n",
    "            tree_raw = TREE_RAW_PCLEAN,\n",
    "            nomenclature_raw = NOMENCLATURE_RAW,\n",
    "            saving_folder= SAVING_PCLEAN\n",
    "        ) for subject in dict_subjects[\"pclean\"]\n",
    "    ],\n",
    "    \"ukb\" : [\n",
    "        SubjectPath(\n",
    "            subject_id = subject,\n",
    "            graph_folder = GRAPH_FOLDER_UKB,\n",
    "            tree_graph = TREE_GRAPH_UKB,\n",
    "            raw_folder = RAW_FOLDER_UKB,\n",
    "            tree_raw = TREE_RAW_UKB,\n",
    "            nomenclature_raw = NOMENCLATURE_RAW,\n",
    "            saving_folder= SAVING_UKB\n",
    "        ) for subject in dict_subjects[\"ukb\"]\n",
    "    ],\n",
    "    \"ataxia\" : [\n",
    "        SubjectPath(\n",
    "            subject_id = subject,\n",
    "            graph_folder = GRAPH_FOLDER_ATAXIA,\n",
    "            tree_graph = TREE_GRAPH_ATAXIA,\n",
    "            raw_folder = RAW_FOLDER_ATAXIA,\n",
    "            tree_raw = TREE_RAW_ATAXIA,\n",
    "            nomenclature_raw = NOMENCLATURE_RAW,\n",
    "            saving_folder= SAVING_ATAXIA\n",
    "        ) for subject in dict_subjects[\"ataxia\"]\n",
    "    ]\n",
    "}"
   ]
  },
  {
   "cell_type": "code",
   "execution_count": 3,
   "metadata": {},
   "outputs": [
    {
     "name": "stdout",
     "output_type": "stream",
     "text": [
      "Saving to /neurospin/tmp/tsanchez/tmp_pipe/hcp/163331/native/163331_thresh_native.nii.gz\n",
      "Saving to /neurospin/tmp/tsanchez/tmp_pipe/hcp/518746/native/518746_thresh_native.nii.gz\n",
      "Saving to /neurospin/tmp/tsanchez/tmp_pipe/hcp/991267/native/991267_thresh_native.nii.gz\n",
      "Saving to /neurospin/tmp/tsanchez/tmp_pipe/pclean/s12158/native/s12158_thresh_native.nii.gz\n",
      "Saving to /neurospin/tmp/tsanchez/tmp_pipe/pclean/s12401/native/s12401_thresh_native.nii.gz\n",
      "Saving to /neurospin/tmp/tsanchez/tmp_pipe/pclean/s12635/native/s12635_thresh_native.nii.gz\n",
      "Saving to /neurospin/tmp/tsanchez/tmp_pipe/ukb/sub-1000021/native/sub-1000021_thresh_native.nii.gz\n",
      "Saving to /neurospin/tmp/tsanchez/tmp_pipe/ukb/sub-1000325/native/sub-1000325_thresh_native.nii.gz\n",
      "Saving to /neurospin/tmp/tsanchez/tmp_pipe/ukb/sub-1000458/native/sub-1000458_thresh_native.nii.gz\n",
      "Saving to /neurospin/tmp/tsanchez/tmp_pipe/ataxia/00002PV/native/00002PV_thresh_native.nii.gz\n",
      "Saving to /neurospin/tmp/tsanchez/tmp_pipe/ataxia/00003OA/native/00003OA_thresh_native.nii.gz\n",
      "Saving to /neurospin/tmp/tsanchez/tmp_pipe/ataxia/00032DL/native/00032DL_thresh_native.nii.gz\n"
     ]
    }
   ],
   "source": [
    "from cerebellum_folding.preprocess.threshold import *\n",
    "\n",
    "# Treshold mean_curvature : \n",
    "\n",
    "WM_THRESH = -0.3967\n",
    "SULCI_THRESH = 0.464\n",
    "\n",
    "dict_thresh = {\n",
    "    \"hcp\" : [threshold_mean_curv(\n",
    "        subject_path=sub_path,\n",
    "        to_save=True,\n",
    "        white_matter_thresh=WM_THRESH,\n",
    "        sulci_thresh=SULCI_THRESH\n",
    "    ) for sub_path in dict_path[\"hcp\"]],\n",
    "    \"pclean\" : [threshold_mean_curv(\n",
    "        subject_path=sub_path,\n",
    "        to_save=True,\n",
    "        white_matter_thresh=WM_THRESH,\n",
    "        sulci_thresh=SULCI_THRESH\n",
    "    ) for sub_path in dict_path[\"pclean\"]],\n",
    "    \"ukb\" : [threshold_mean_curv(\n",
    "        subject_path=sub_path,\n",
    "        to_save=True,\n",
    "        white_matter_thresh=WM_THRESH,\n",
    "        sulci_thresh=SULCI_THRESH\n",
    "    ) for sub_path in dict_path[\"ukb\"]],\n",
    "    \"ataxia\" : [threshold_mean_curv(\n",
    "        subject_path=sub_path,\n",
    "        to_save=True,\n",
    "        white_matter_thresh=WM_THRESH,\n",
    "        sulci_thresh=SULCI_THRESH\n",
    "    ) for sub_path in dict_path[\"ataxia\"]],\n",
    "}"
   ]
  },
  {
   "cell_type": "code",
   "execution_count": 4,
   "metadata": {},
   "outputs": [
    {
     "name": "stdout",
     "output_type": "stream",
     "text": [
      "_______________ SULCI _______________\n",
      "Computing : 163331\n",
      "Computing : 518746\n",
      "Computing : 991267\n",
      "Computing : s12158\n",
      "Computing : s12401\n",
      "Computing : s12635\n",
      "Computing : sub-1000021\n",
      "Computing : sub-1000325\n",
      "Computing : sub-1000458\n",
      "Computing : 00002PV\n",
      "Computing : 00003OA\n",
      "Computing : 00032DL\n",
      "_______________ WHITE_MATTER _______________\n",
      "Computing : 163331\n",
      "Computing : 518746\n",
      "Computing : 991267\n",
      "Computing : s12158\n",
      "Computing : s12401\n",
      "Computing : s12635\n",
      "Computing : sub-1000021\n",
      "Computing : sub-1000325\n",
      "Computing : sub-1000458\n",
      "Computing : 00002PV\n",
      "Computing : 00003OA\n",
      "Computing : 00032DL\n"
     ]
    }
   ],
   "source": [
    "for to_isolate in [\"sulci\", \"white_matter\"] :\n",
    "     print(f\"_______________ {to_isolate.upper()} _______________\")\n",
    "     for db in dict_path.keys() :\n",
    "         for sub_path in dict_path[db]:\n",
    "            print(f\"Computing : {sub_path.id}\")\n",
    "            if to_isolate == \"sulci\" :\n",
    "                get_binary_val(sub_path.thresh, to_isolate=to_isolate, saving_path=sub_path.sulci_native, to_save=True)\n",
    "            else :\n",
    "                get_binary_val(sub_path.thresh, to_isolate=to_isolate, saving_path=sub_path.white_matter_native, to_save=True)\n"
   ]
  },
  {
   "cell_type": "markdown",
   "metadata": {},
   "source": [
    "## Masks "
   ]
  },
  {
   "cell_type": "code",
   "execution_count": 4,
   "metadata": {},
   "outputs": [],
   "source": [
    "from cerebellum_folding.data.path import MaskPath\n",
    "# Mask treatment\n",
    "mask_subjects = [\"00001PJ\",\"00004PA\",\"00011EG\"]\n",
    "mask_paths = [\n",
    "    MaskPath(\n",
    "        subject_id=sub_path,\n",
    "        graph_folder=GRAPH_FOLDER_MASK,\n",
    "        tree_graph=TREE_GRAPH_MASK,\n",
    "        raw_folder=RAW_FOLDER_MASK,\n",
    "        tree_raw=TREE_RAW_MASK,\n",
    "        nomenclature_raw=NOMENCLATURE_MASK,\n",
    "        mask_type=\"cerebellum\",\n",
    "        saving_path=SAVING_MASK\n",
    "    ) for sub_path in mask_subjects\n",
    "]\n"
   ]
  },
  {
   "cell_type": "code",
   "execution_count": 6,
   "metadata": {},
   "outputs": [
    {
     "name": "stdout",
     "output_type": "stream",
     "text": [
      "Saving mask to : /neurospin/tmp/tsanchez/tmp_pipe/mask/cerebellum/00001PJ_cerebellum_native.nii.gz\n",
      "Saving mask to : /neurospin/tmp/tsanchez/tmp_pipe/mask/cerebellum/00004PA_cerebellum_native.nii.gz\n",
      "Saving mask to : /neurospin/tmp/tsanchez/tmp_pipe/mask/cerebellum/00011EG_cerebellum_native.nii.gz\n"
     ]
    }
   ],
   "source": [
    "for mask_path in mask_paths : \n",
    "    mask_cerebellum_from_file(mask_path=mask_path, to_save=True)"
   ]
  },
  {
   "cell_type": "code",
   "execution_count": 7,
   "metadata": {},
   "outputs": [
    {
     "name": "stdout",
     "output_type": "stream",
     "text": [
      "Saving to /neurospin/tmp/tsanchez/tmp_pipe/mask/cerebellum/00001PJ_cerebellum_native_dilatation.nii.gz\n",
      "Saving to /neurospin/tmp/tsanchez/tmp_pipe/mask/cerebellum/00004PA_cerebellum_native_dilatation.nii.gz\n",
      "Saving to /neurospin/tmp/tsanchez/tmp_pipe/mask/cerebellum/00011EG_cerebellum_native_dilatation.nii.gz\n"
     ]
    }
   ],
   "source": [
    "DILATATION = 5\n",
    "for mask_path in mask_paths :\n",
    "    dilatate_mask(mask_path,dilatation= DILATATION, to_save=True)"
   ]
  },
  {
   "cell_type": "markdown",
   "metadata": {},
   "source": [
    "# ICBM2009c"
   ]
  },
  {
   "cell_type": "markdown",
   "metadata": {},
   "source": [
    "## Subjects"
   ]
  },
  {
   "cell_type": "code",
   "execution_count": 6,
   "metadata": {},
   "outputs": [
    {
     "data": {
      "text/plain": [
       "PosixPath('/neurospin/tmp/tsanchez/tmp_pipe/hcp/163331/ICBM2009c/163331_sulci_icbm2009.nii.gz')"
      ]
     },
     "execution_count": 6,
     "metadata": {},
     "output_type": "execute_result"
    }
   ],
   "source": [
    "dict_path[\"hcp\"][0]"
   ]
  },
  {
   "cell_type": "code",
   "execution_count": 22,
   "metadata": {},
   "outputs": [
    {
     "name": "stdout",
     "output_type": "stream",
     "text": [
      "Paths(163331)\n",
      "restoring values\n",
      "restoring values\n",
      "restoring values\n",
      "Paths(518746)\n",
      "restoring values\n",
      "restoring values\n",
      "restoring values\n",
      "Paths(991267)\n",
      "restoring values\n",
      "restoring values\n",
      "restoring values\n",
      "Paths(s12158)\n",
      "restoring values\n",
      "restoring values\n",
      "restoring values\n",
      "Paths(s12401)\n",
      "restoring values\n",
      "restoring values\n",
      "restoring values\n",
      "Paths(s12635)\n",
      "restoring values\n",
      "restoring values\n",
      "restoring values\n",
      "Paths(sub-1000021)\n",
      "restoring values\n",
      "restoring values\n",
      "restoring values\n",
      "Paths(sub-1000325)\n",
      "restoring values\n",
      "restoring values\n",
      "restoring values\n",
      "Paths(sub-1000458)\n",
      "restoring values\n",
      "restoring values\n",
      "restoring values\n",
      "Paths(00002PV)\n",
      "restoring values\n",
      "restoring values\n",
      "restoring values\n",
      "Paths(00003OA)\n",
      "restoring values\n",
      "restoring values\n",
      "restoring values\n",
      "Paths(00032DL)\n",
      "restoring values\n",
      "restoring values\n",
      "restoring values\n"
     ]
    }
   ],
   "source": [
    "from cerebellum_folding.preprocess.threshold import transform_ICBM2009c\n",
    "# RESAMPLE_VALUES = [0, -1, 1]\n",
    "OUTPUT_VOXEL_SIZE = (1,1,1)\n",
    "\n",
    "\n",
    "for db_path in dict_path.values():\n",
    "    for sub_path in db_path:\n",
    "        print(sub_path)\n",
    "        # All Thresh wout skel \n",
    "        transform_ICBM2009c(\n",
    "            path=sub_path.thresh,\n",
    "            graph_path=sub_path.graph,\n",
    "            saving_path=sub_path.thresh_ICBM,\n",
    "            do_skel=False,\n",
    "            immortals= [],\n",
    "            output_voxel= OUTPUT_VOXEL_SIZE,\n",
    "            resample_values=[0,-1,1],\n",
    "            save = True\n",
    "        )\n",
    "\n",
    "        # # With skel\n",
    "        # transform_ICBM2009c(\n",
    "        #     path=sub_path.thresh,\n",
    "        #     graph_path=sub_path.graph,\n",
    "        #     saving_path=sub_path.thresh_wSkel_ICBM,\n",
    "        #     do_skel=True,\n",
    "        #     immortals= [],\n",
    "        #     output_voxel= OUTPUT_VOXEL_SIZE,\n",
    "        #     resample_values=[-1,1,0]\n",
    "        # )\n",
    "\n",
    "        ## SULCI\n",
    "        transform_ICBM2009c(\n",
    "            path=sub_path.sulci_native,\n",
    "            graph_path=sub_path.graph,\n",
    "            saving_path=sub_path.sulci_ICBM,\n",
    "            do_skel=False,\n",
    "            immortals= [],\n",
    "            output_voxel= OUTPUT_VOXEL_SIZE,\n",
    "            resample_values=[0,1],\n",
    "            save = True\n",
    "        )\n",
    "        # transform_ICBM2009c(\n",
    "        #     path=sub_path.sulci_native,\n",
    "        #     graph_path=sub_path.graph,\n",
    "        #     saving_path=sub_path.sulci_wSkel_ICBM,\n",
    "        #     do_skel=True,\n",
    "        #     immortals= [],\n",
    "        #     output_voxel= OUTPUT_VOXEL_SIZE,\n",
    "        #     resample_values=[1,0]\n",
    "\n",
    "        # )\n",
    "\n",
    "        # WHITE MATTER\n",
    "        transform_ICBM2009c(\n",
    "            path=sub_path.white_matter_native,\n",
    "            graph_path=sub_path.graph,\n",
    "            saving_path=sub_path.white_matter_ICBM,\n",
    "            do_skel=False,\n",
    "            immortals= [],\n",
    "            output_voxel= OUTPUT_VOXEL_SIZE,\n",
    "            resample_values=[0,1],\n",
    "            save = True\n",
    "        )\n",
    "        # transform_ICBM2009c(\n",
    "        #     path=sub_path.white_matter_native,\n",
    "        #     graph_path=sub_path.graph,\n",
    "        #     saving_path=sub_path.white_matter_wSkel_ICBM,\n",
    "        #     do_skel=True,\n",
    "        #     immortals= [],\n",
    "        #     output_voxel= OUTPUT_VOXEL_SIZE,\n",
    "        #     resample_values=[1,0]\n",
    "        # )\n",
    "\n",
    "\n"
   ]
  },
  {
   "cell_type": "code",
   "execution_count": 13,
   "metadata": {},
   "outputs": [
    {
     "name": "stdout",
     "output_type": "stream",
     "text": [
      "restoring values\n",
      "restoring values\n",
      "restoring values\n"
     ]
    }
   ],
   "source": [
    "for mask_path in mask_paths :\n",
    "    transform_ICBM2009c(\n",
    "        path=mask_path.native,\n",
    "        graph_path=mask_path.graph,\n",
    "        saving_path=mask_path.icbm2009,\n",
    "        do_skel=False,\n",
    "        immortals= [],\n",
    "        output_voxel= OUTPUT_VOXEL_SIZE,\n",
    "        resample_values=[0,1],\n",
    "        save = True\n",
    "    )\n"
   ]
  },
  {
   "cell_type": "markdown",
   "metadata": {},
   "source": [
    "# Apply mask to subjects"
   ]
  },
  {
   "cell_type": "code",
   "execution_count": 14,
   "metadata": {},
   "outputs": [
    {
     "name": "stdout",
     "output_type": "stream",
     "text": [
      "Control ataxia mask : 00001PJ\n"
     ]
    },
    {
     "data": {
      "text/plain": [
       "PosixPath('/neurospin/tmp/tsanchez/tmp_pipe/mask/cerebellum/00001PJ_cerebellum_ICBM2009c.nii.gz')"
      ]
     },
     "execution_count": 14,
     "metadata": {},
     "output_type": "execute_result"
    }
   ],
   "source": [
    "SUBJECT_MASK = 0\n",
    "print(f\"Control ataxia mask : {mask_paths[SUBJECT_MASK].id}\")\n",
    "mask_path = mask_paths[SUBJECT_MASK]\n",
    "mask_path.icbm2009"
   ]
  },
  {
   "cell_type": "code",
   "execution_count": null,
   "metadata": {},
   "outputs": [
    {
     "name": "stdout",
     "output_type": "stream",
     "text": [
      "Saving at : /neurospin/tmp/tsanchez/tmp_pipe/hcp/163331/crop/163331_crop_tresh.nii.gz\n",
      "Saving at : /neurospin/tmp/tsanchez/tmp_pipe/hcp/163331/crop/163331_crop_white_matter.nii.gz\n",
      "Saving at : /neurospin/tmp/tsanchez/tmp_pipe/hcp/163331/crop/163331_crop_sulci.nii.gz\n",
      "Saving at : /neurospin/tmp/tsanchez/tmp_pipe/hcp/518746/crop/518746_crop_tresh.nii.gz\n",
      "Saving at : /neurospin/tmp/tsanchez/tmp_pipe/hcp/518746/crop/518746_crop_white_matter.nii.gz\n",
      "Saving at : /neurospin/tmp/tsanchez/tmp_pipe/hcp/518746/crop/518746_crop_sulci.nii.gz\n",
      "Saving at : /neurospin/tmp/tsanchez/tmp_pipe/hcp/991267/crop/991267_crop_tresh.nii.gz\n",
      "Saving at : /neurospin/tmp/tsanchez/tmp_pipe/hcp/991267/crop/991267_crop_white_matter.nii.gz\n",
      "Saving at : /neurospin/tmp/tsanchez/tmp_pipe/hcp/991267/crop/991267_crop_sulci.nii.gz\n",
      "Saving at : /neurospin/tmp/tsanchez/tmp_pipe/pclean/s12158/crop/s12158_crop_tresh.nii.gz\n",
      "Saving at : /neurospin/tmp/tsanchez/tmp_pipe/pclean/s12158/crop/s12158_crop_white_matter.nii.gz\n",
      "Saving at : /neurospin/tmp/tsanchez/tmp_pipe/pclean/s12158/crop/s12158_crop_sulci.nii.gz\n",
      "Saving at : /neurospin/tmp/tsanchez/tmp_pipe/pclean/s12401/crop/s12401_crop_tresh.nii.gz\n",
      "Saving at : /neurospin/tmp/tsanchez/tmp_pipe/pclean/s12401/crop/s12401_crop_white_matter.nii.gz\n",
      "Saving at : /neurospin/tmp/tsanchez/tmp_pipe/pclean/s12401/crop/s12401_crop_sulci.nii.gz\n",
      "Saving at : /neurospin/tmp/tsanchez/tmp_pipe/pclean/s12635/crop/s12635_crop_tresh.nii.gz\n",
      "Saving at : /neurospin/tmp/tsanchez/tmp_pipe/pclean/s12635/crop/s12635_crop_white_matter.nii.gz\n",
      "Saving at : /neurospin/tmp/tsanchez/tmp_pipe/pclean/s12635/crop/s12635_crop_sulci.nii.gz\n",
      "Saving at : /neurospin/tmp/tsanchez/tmp_pipe/ukb/sub-1000021/crop/sub-1000021_crop_tresh.nii.gz\n",
      "Saving at : /neurospin/tmp/tsanchez/tmp_pipe/ukb/sub-1000021/crop/sub-1000021_crop_white_matter.nii.gz\n",
      "Saving at : /neurospin/tmp/tsanchez/tmp_pipe/ukb/sub-1000021/crop/sub-1000021_crop_sulci.nii.gz\n",
      "Saving at : /neurospin/tmp/tsanchez/tmp_pipe/ukb/sub-1000325/crop/sub-1000325_crop_tresh.nii.gz\n",
      "Saving at : /neurospin/tmp/tsanchez/tmp_pipe/ukb/sub-1000325/crop/sub-1000325_crop_white_matter.nii.gz\n",
      "Saving at : /neurospin/tmp/tsanchez/tmp_pipe/ukb/sub-1000325/crop/sub-1000325_crop_sulci.nii.gz\n",
      "Saving at : /neurospin/tmp/tsanchez/tmp_pipe/ukb/sub-1000458/crop/sub-1000458_crop_tresh.nii.gz\n",
      "Saving at : /neurospin/tmp/tsanchez/tmp_pipe/ukb/sub-1000458/crop/sub-1000458_crop_white_matter.nii.gz\n",
      "Saving at : /neurospin/tmp/tsanchez/tmp_pipe/ukb/sub-1000458/crop/sub-1000458_crop_sulci.nii.gz\n",
      "Saving at : /neurospin/tmp/tsanchez/tmp_pipe/ataxia/00002PV/crop/00002PV_crop_tresh.nii.gz\n",
      "Saving at : /neurospin/tmp/tsanchez/tmp_pipe/ataxia/00002PV/crop/00002PV_crop_white_matter.nii.gz\n",
      "Saving at : /neurospin/tmp/tsanchez/tmp_pipe/ataxia/00002PV/crop/00002PV_crop_sulci.nii.gz\n",
      "Saving at : /neurospin/tmp/tsanchez/tmp_pipe/ataxia/00003OA/crop/00003OA_crop_tresh.nii.gz\n",
      "Saving at : /neurospin/tmp/tsanchez/tmp_pipe/ataxia/00003OA/crop/00003OA_crop_white_matter.nii.gz\n",
      "Saving at : /neurospin/tmp/tsanchez/tmp_pipe/ataxia/00003OA/crop/00003OA_crop_sulci.nii.gz\n",
      "Saving at : /neurospin/tmp/tsanchez/tmp_pipe/ataxia/00032DL/crop/00032DL_crop_tresh.nii.gz\n",
      "Saving at : /neurospin/tmp/tsanchez/tmp_pipe/ataxia/00032DL/crop/00032DL_crop_white_matter.nii.gz\n",
      "Saving at : /neurospin/tmp/tsanchez/tmp_pipe/ataxia/00032DL/crop/00032DL_crop_sulci.nii.gz\n"
     ]
    }
   ],
   "source": [
    "from cerebellum_folding.preprocess.threshold import apply_mask\n",
    "for db, db_paths in dict_path.items():\n",
    "    for sub_path in db_paths : \n",
    "        apply_mask(\n",
    "            path = sub_path.thresh_ICBM,\n",
    "            mask_path=mask_path.icbm2009,\n",
    "            saving_path=sub_path.thresh_crop,\n",
    "            to_save=True\n",
    "        )\n",
    "\n",
    "        apply_mask(\n",
    "            path = sub_path.white_matter_ICBM,\n",
    "            mask_path=mask_path.icbm2009,\n",
    "            saving_path=sub_path.white_matter_crop,\n",
    "            to_save=True\n",
    "        )\n",
    "\n",
    "        apply_mask(\n",
    "            path = sub_path.sulci_ICBM,\n",
    "            mask_path=mask_path.icbm2009,\n",
    "            saving_path=sub_path.sulci_crop,\n",
    "            to_save=True\n",
    "        )"
   ]
  },
  {
   "cell_type": "code",
   "execution_count": 19,
   "metadata": {},
   "outputs": [],
   "source": [
    "def add_one_pixel(path):\n",
    "    obj = aims.read(str(path))\n",
    "    obj.np[0,0,0,0] = -1\n",
    "    aims.write(obj, filename=str(path))"
   ]
  },
  {
   "cell_type": "code",
   "execution_count": 20,
   "metadata": {},
   "outputs": [],
   "source": [
    "from soma import aims\n",
    "for db in dict_path.values():\n",
    "    for subpath in db: \n",
    "        add_one_pixel(subpath.sulci_crop)\n",
    "        add_one_pixel(subpath.white_matter_crop)"
   ]
  },
  {
   "cell_type": "code",
   "execution_count": null,
   "metadata": {},
   "outputs": [],
   "source": []
  }
 ],
 "metadata": {
  "kernelspec": {
   "display_name": "venv",
   "language": "python",
   "name": "python3"
  },
  "language_info": {
   "codemirror_mode": {
    "name": "ipython",
    "version": 3
   },
   "file_extension": ".py",
   "mimetype": "text/x-python",
   "name": "python",
   "nbconvert_exporter": "python",
   "pygments_lexer": "ipython3",
   "version": "3.10.12"
  }
 },
 "nbformat": 4,
 "nbformat_minor": 2
}
