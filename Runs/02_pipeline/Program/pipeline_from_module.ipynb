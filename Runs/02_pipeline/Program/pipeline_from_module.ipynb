{
 "cells": [
  {
   "cell_type": "markdown",
   "metadata": {},
   "source": [
    "# Test pipeline for one subject\n",
    "\n",
    "Tests are done on UKB"
   ]
  },
  {
   "cell_type": "code",
   "execution_count": 9,
   "metadata": {},
   "outputs": [],
   "source": [
    "from pathlib import Path\n",
    "SUBJECT = \"sub-1000715\"\n",
    "GRAPH_FOLDER_UKB = Path(\"/tmp/tsanchez\") #Mounted on the local server\n",
    "TREE_GRAPH_UKB = Path(\"ses-2/anat/t1mri/default_acquisition/default_analysis/folds/3.1\")\n",
    "RAW_FOLDER_UKB = Path(\"/tmp/tsanchez\")\n",
    "TREE_RAW_UKB = Path(\"ses-2/anat/t1mri/default_acquisition\")\n",
    "\n",
    "# Paths for the masks\n",
    "GRAPH_FOLDER_MASK = Path(\"/neurospin/dico/zsun/ataxie/etudes_AlexandraDurr/database_brainvisa/cermoi\")\n",
    "TREE_GRAPH_MASK = Path(\"t1mri/V1/default_analysis/folds/3.1\")\n",
    "\n",
    "RAW_FOLDER_MASK = Path(\"/neurospin/cati/cati_members/studies_cati/cermoi/database_brainvisa/00\")\n",
    "TREE_RAW_MASK = Path(\"cereb_bs4/V1\")\n",
    "\n",
    "NOMENCLATURE_RAW = \".nii.gz\"\n",
    "NOMENCLATURE_MASK = \"_cerebellum_brainstem_split_mask.nii.gz\"\n",
    "\n",
    "SAVING_UKB = Path(\"/neurospin/tmp/tsanchez/tmp_pipe/ukb\")\n",
    "SAVING_MASK = Path(\"/neurospin/tmp/tsanchez/tmp_pipe/mask\")\n",
    "\n",
    "MASKS_TYPE = [\"cerebellum\", \"vermis\"] "
   ]
  },
  {
   "cell_type": "code",
   "execution_count": 10,
   "metadata": {},
   "outputs": [],
   "source": [
    "from cerebellum_folding.data.path import SubjectPath, MaskPath\n",
    "\n",
    "\n",
    "sub_path = SubjectPath(\n",
    "            subject_id = SUBJECT,\n",
    "            graph_folder = GRAPH_FOLDER_UKB,\n",
    "            tree_graph = TREE_GRAPH_UKB,\n",
    "            raw_folder = RAW_FOLDER_UKB,\n",
    "            tree_raw = TREE_RAW_UKB,\n",
    "            nomenclature_raw = NOMENCLATURE_RAW,\n",
    "            masks_type = MASKS_TYPE,\n",
    "            saving_folder= SAVING_UKB\n",
    ")"
   ]
  },
  {
   "cell_type": "code",
   "execution_count": 11,
   "metadata": {},
   "outputs": [],
   "source": [
    "from cerebellum_folding.data.path import MaskPath\n",
    "# Mask treatment\n",
    "mask_subject = \"00001PJ\"\n",
    "masks = {\n",
    "    \"cerebellum\" : MaskPath(\n",
    "        subject_id=mask_subject,\n",
    "        graph_folder=GRAPH_FOLDER_MASK,\n",
    "        tree_graph=TREE_GRAPH_MASK,\n",
    "        raw_folder=RAW_FOLDER_MASK,\n",
    "        tree_raw=TREE_RAW_MASK,\n",
    "        nomenclature_raw=NOMENCLATURE_MASK,\n",
    "        mask_type=\"cerebellum\",\n",
    "        saving_path=SAVING_MASK\n",
    "    ), \n",
    "    \"vermis\" : MaskPath(\n",
    "        subject_id=mask_subject,\n",
    "        graph_folder=GRAPH_FOLDER_MASK,\n",
    "        tree_graph=TREE_GRAPH_MASK,\n",
    "        raw_folder=RAW_FOLDER_MASK,\n",
    "        tree_raw=TREE_RAW_MASK,\n",
    "        nomenclature_raw=NOMENCLATURE_MASK,\n",
    "        mask_type=\"vermis\",\n",
    "        saving_path=SAVING_MASK\n",
    "    ),\n",
    "}"
   ]
  },
  {
   "cell_type": "code",
   "execution_count": 12,
   "metadata": {},
   "outputs": [],
   "source": [
    "WM_THRESH = -0.3967\n",
    "SULCI_THRESH = 0.464\n",
    "RESAMPLE_VALUES = [0, -1, 1]\n",
    "RESAMPLE_BIN = [0,1]\n",
    "OUTPUT_VOXEL_SIZE = (1,1,1)\n",
    "\n",
    "from cerebellum_folding.data.preprocess import PipelineSubject\n",
    "\n",
    "pipe_sub = PipelineSubject(\n",
    "                subject_path = sub_path,\n",
    "                masks_path = masks,\n",
    "                white_matter_threshold = WM_THRESH,\n",
    "                sulci_threshold = SULCI_THRESH,\n",
    "                resample_values_icbm = RESAMPLE_VALUES,\n",
    "                resample_values_bin = RESAMPLE_BIN,\n",
    "                output_voxel = OUTPUT_VOXEL_SIZE,\n",
    "                verbose = True,\n",
    ")"
   ]
  },
  {
   "cell_type": "code",
   "execution_count": 13,
   "metadata": {},
   "outputs": [
    {
     "name": "stdout",
     "output_type": "stream",
     "text": [
      "Overwriting : /neurospin/tmp/tsanchez/tmp_pipe/ukb/sub-1000715/native/sub-1000715_thresh_native.nii.gz\n",
      "Saving to /neurospin/tmp/tsanchez/tmp_pipe/ukb/sub-1000715/native/sub-1000715_thresh_native.nii.gz\n"
     ]
    }
   ],
   "source": [
    "OW = True #Overwrite\n",
    "try :\n",
    "    pipe_sub.threshold_mean_curvature(overwrite=OW)\n",
    "except Exception as e :\n",
    "    print(e)"
   ]
  },
  {
   "cell_type": "code",
   "execution_count": 14,
   "metadata": {},
   "outputs": [
    {
     "name": "stdout",
     "output_type": "stream",
     "text": [
      "Overwriting : /neurospin/tmp/tsanchez/tmp_pipe/ukb/sub-1000715/native/sub-1000715_sulci_native.nii.gz \n",
      "Saving /neurospin/tmp/tsanchez/tmp_pipe/ukb/sub-1000715/native/sub-1000715_sulci_native.nii.gz\n",
      "Overwriting : /neurospin/tmp/tsanchez/tmp_pipe/ukb/sub-1000715/native/sub-1000715_white_matter_native.nii.gz \n",
      "Saving /neurospin/tmp/tsanchez/tmp_pipe/ukb/sub-1000715/native/sub-1000715_white_matter_native.nii.gz\n"
     ]
    }
   ],
   "source": [
    "try :\n",
    "    pipe_sub.get_binary_val(overwrite=OW)\n",
    "except Exception as e :\n",
    "    print(e)"
   ]
  },
  {
   "cell_type": "code",
   "execution_count": 15,
   "metadata": {},
   "outputs": [
    {
     "name": "stdout",
     "output_type": "stream",
     "text": [
      "Overwriting : /neurospin/tmp/tsanchez/tmp_pipe/ukb/sub-1000715/ICBM2009c/sub-1000715_thresh_icbm2009.nii.gz \n"
     ]
    },
    {
     "name": "stderr",
     "output_type": "stream",
     "text": [
      "DEBUG:resample.py: Time before resampling: 0.012061595916748047s\n",
      "DEBUG:resample.py: Background resampling: 0.009447574615478516s\n",
      "DEBUG:resample.py: Time: 6.903014183044434s\n",
      "DEBUG:resample.py: \t1.034771203994751s to create the bucket\n",
      "\t5.485042333602905s to resample bucket\n",
      "\t0.230607271194458s to assign values\n"
     ]
    },
    {
     "name": "stdout",
     "output_type": "stream",
     "text": [
      "restoring values\n",
      "Saving /neurospin/tmp/tsanchez/tmp_pipe/ukb/sub-1000715/ICBM2009c/sub-1000715_thresh_icbm2009.nii.gz\n",
      "Overwriting : /neurospin/tmp/tsanchez/tmp_pipe/ukb/sub-1000715/ICBM2009c/sub-1000715_sulci_icbm2009.nii.gz \n"
     ]
    },
    {
     "name": "stderr",
     "output_type": "stream",
     "text": [
      "DEBUG:resample.py: Time before resampling: 0.006620168685913086s\n",
      "DEBUG:resample.py: Background resampling: 0.004358530044555664s\n",
      "DEBUG:resample.py: Time: 3.150270938873291s\n",
      "DEBUG:resample.py: \t0.45066070556640625s to create the bucket\n",
      "\t2.4769222736358643s to resample bucket\n",
      "\t0.09872293472290039s to assign values\n"
     ]
    },
    {
     "name": "stdout",
     "output_type": "stream",
     "text": [
      "restoring values\n",
      "Saving /neurospin/tmp/tsanchez/tmp_pipe/ukb/sub-1000715/ICBM2009c/sub-1000715_sulci_icbm2009.nii.gz\n",
      "Overwriting : /neurospin/tmp/tsanchez/tmp_pipe/ukb/sub-1000715/ICBM2009c/sub-1000715_white_matter_icbm2009.nii.gz \n"
     ]
    },
    {
     "name": "stderr",
     "output_type": "stream",
     "text": [
      "DEBUG:resample.py: Time before resampling: 0.009244918823242188s\n",
      "DEBUG:resample.py: Background resampling: 0.0042934417724609375s\n",
      "DEBUG:resample.py: Time: 3.7976455688476562s\n",
      "DEBUG:resample.py: \t0.6221246719360352s to create the bucket\n",
      "\t2.930835485458374s to resample bucket\n",
      "\t0.12672853469848633s to assign values\n"
     ]
    },
    {
     "name": "stdout",
     "output_type": "stream",
     "text": [
      "restoring values\n",
      "Saving /neurospin/tmp/tsanchez/tmp_pipe/ukb/sub-1000715/ICBM2009c/sub-1000715_white_matter_icbm2009.nii.gz\n"
     ]
    }
   ],
   "source": [
    "try : \n",
    "    pipe_sub.transform_ICBM2009c(overwrite=OW)\n",
    "except Exception as e :\n",
    "    print(e)"
   ]
  },
  {
   "cell_type": "code",
   "execution_count": 16,
   "metadata": {},
   "outputs": [
    {
     "name": "stdout",
     "output_type": "stream",
     "text": [
      "Overwriting : /neurospin/tmp/tsanchez/tmp_pipe/ukb/sub-1000715/masked/cerebellum/sub-1000715_masked_tresh_cerebellum.nii.gz \n",
      "Saving /neurospin/tmp/tsanchez/tmp_pipe/ukb/sub-1000715/masked/cerebellum/sub-1000715_masked_tresh_cerebellum.nii.gz\n",
      "Overwriting : /neurospin/tmp/tsanchez/tmp_pipe/ukb/sub-1000715/masked/cerebellum/sub-1000715_masked_sulci_cerebellum.nii.gz \n",
      "Saving /neurospin/tmp/tsanchez/tmp_pipe/ukb/sub-1000715/masked/cerebellum/sub-1000715_masked_sulci_cerebellum.nii.gz\n",
      "Overwriting : /neurospin/tmp/tsanchez/tmp_pipe/ukb/sub-1000715/masked/cerebellum/sub-1000715_masked_white_matter_cerebellum.nii.gz \n",
      "Saving /neurospin/tmp/tsanchez/tmp_pipe/ukb/sub-1000715/masked/cerebellum/sub-1000715_masked_white_matter_cerebellum.nii.gz\n",
      "Overwriting : /neurospin/tmp/tsanchez/tmp_pipe/ukb/sub-1000715/masked/vermis/sub-1000715_masked_tresh_vermis.nii.gz \n",
      "Saving /neurospin/tmp/tsanchez/tmp_pipe/ukb/sub-1000715/masked/vermis/sub-1000715_masked_tresh_vermis.nii.gz\n",
      "Overwriting : /neurospin/tmp/tsanchez/tmp_pipe/ukb/sub-1000715/masked/vermis/sub-1000715_masked_sulci_vermis.nii.gz \n",
      "Saving /neurospin/tmp/tsanchez/tmp_pipe/ukb/sub-1000715/masked/vermis/sub-1000715_masked_sulci_vermis.nii.gz\n",
      "Overwriting : /neurospin/tmp/tsanchez/tmp_pipe/ukb/sub-1000715/masked/vermis/sub-1000715_masked_white_matter_vermis.nii.gz \n",
      "Saving /neurospin/tmp/tsanchez/tmp_pipe/ukb/sub-1000715/masked/vermis/sub-1000715_masked_white_matter_vermis.nii.gz\n"
     ]
    }
   ],
   "source": [
    "try : \n",
    "    pipe_sub.apply_masks(overwrite=OW)\n",
    "except Exception as e :\n",
    "    print(e)"
   ]
  },
  {
   "cell_type": "code",
   "execution_count": null,
   "metadata": {},
   "outputs": [],
   "source": []
  }
 ],
 "metadata": {
  "kernelspec": {
   "display_name": "venv",
   "language": "python",
   "name": "python3"
  },
  "language_info": {
   "codemirror_mode": {
    "name": "ipython",
    "version": 3
   },
   "file_extension": ".py",
   "mimetype": "text/x-python",
   "name": "python",
   "nbconvert_exporter": "python",
   "pygments_lexer": "ipython3",
   "version": "3.10.12"
  }
 },
 "nbformat": 4,
 "nbformat_minor": 2
}
