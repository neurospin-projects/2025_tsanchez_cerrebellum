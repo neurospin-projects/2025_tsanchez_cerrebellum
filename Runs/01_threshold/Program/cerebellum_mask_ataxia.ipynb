{
 "cells": [
  {
   "cell_type": "code",
   "execution_count": 2,
   "metadata": {},
   "outputs": [],
   "source": [
    "from soma import aims\n",
    "import pandas as pd\n",
    "import numpy as np\n",
    "from pathlib import Path\n",
    "\n",
    "from typing import Dict"
   ]
  },
  {
   "cell_type": "markdown",
   "metadata": {},
   "source": [
    "# Paths for the analysis\n",
    "\n",
    "<span style=\"color:red\"> Analysis on V1 subject in ataxia, and on PN (it's a preprocessing done on the data -> cf. Clara)</span>"
   ]
  },
  {
   "cell_type": "code",
   "execution_count": 3,
   "metadata": {},
   "outputs": [],
   "source": [
    "class PathSubjectAtaxia : \n",
    "    def __init__(self, subject_id): \n",
    "        # Paths template\n",
    "        # DB location\n",
    "        ATAXIA_ZSUN = Path(\"/neurospin/dico/zsun/ataxie/etudes_AlexandraDurr/database_brainvisa/cermoi\")\n",
    "        CATI_CERMOI_DB = Path(\"/neurospin/cati/cati_members/studies_cati/cermoi/database_brainvisa/00\")\n",
    "\n",
    "        # Tree in the DB to access the graphs \n",
    "        # Ataxia zsun\n",
    "        TREE_GRAPH = Path(\"t1mri/V1/default_analysis/folds/3.1\")\n",
    "        # Cati processed\n",
    "        TREE_CERES = Path(\"cereb_bs4/V1\")\n",
    "        NOMENCLATURE_CEREBELLUM_SEG = \"_cerebellum_brainstem_split_mask.nii.gz\"\n",
    "\n",
    "        # subject specific paths\n",
    "        self.id = subject_id\n",
    "        self.graph = ATAXIA_ZSUN / subject_id / TREE_GRAPH / f\"R{subject_id}.arg\"\n",
    "        self.cerebellum_mask = CATI_CERMOI_DB / subject_id / TREE_CERES / f\"{subject_id}{NOMENCLATURE_CEREBELLUM_SEG}\""
   ]
  },
  {
   "cell_type": "code",
   "execution_count": 4,
   "metadata": {},
   "outputs": [
    {
     "data": {
      "text/plain": [
       "(PosixPath('/neurospin/dico/zsun/ataxie/etudes_AlexandraDurr/database_brainvisa/cermoi/00001PJ/t1mri/V1/default_analysis/folds/3.1/R00001PJ.arg'),\n",
       " PosixPath('/neurospin/cati/cati_members/studies_cati/cermoi/database_brainvisa/00/00001PJ/cereb_bs4/V1/00001PJ_cerebellum_brainstem_split_mask.nii.gz'))"
      ]
     },
     "execution_count": 4,
     "metadata": {},
     "output_type": "execute_result"
    }
   ],
   "source": [
    "SUBJECT = \"00001PJ\"\n",
    "sub_path = PathSubjectAtaxia(SUBJECT)\n",
    "sub_path.graph, sub_path.cerebellum_mask"
   ]
  },
  {
   "cell_type": "markdown",
   "metadata": {},
   "source": [
    "# Retrieving cerebllum mask from CERES\n",
    "\n",
    "We are working with the segmentation that has been done with by Clara Fischer in the ataxia project.\n",
    "\n",
    "The segmentation has been done using Ceres for the lobes of the brain and in addition to that, the vermis have segmented using vol2brain, those 2 segmentation have been merged to have those parts : \n",
    "- Two hemispheres (separated components)\n",
    "- Vermis \n",
    "- Brain stem structure (3 different components)\n",
    "\n",
    "Only the 2 cerebellum hemisphere and the vermis are interesting for us."
   ]
  },
  {
   "cell_type": "markdown",
   "metadata": {},
   "source": [
    "### Cerebellum mask"
   ]
  },
  {
   "cell_type": "code",
   "execution_count": 5,
   "metadata": {},
   "outputs": [
    {
     "data": {
      "text/plain": [
       "array([0, 1, 2, 3, 5, 6, 7, 8], dtype=int16)"
      ]
     },
     "execution_count": 5,
     "metadata": {},
     "output_type": "execute_result"
    }
   ],
   "source": [
    "aims_obj = aims.read(str(sub_path.cerebellum_mask))\n",
    "vol_np = aims_obj.np\n",
    "np.unique(vol_np)"
   ]
  },
  {
   "cell_type": "markdown",
   "metadata": {},
   "source": [
    "Detail of the encoding of the different parts : \n",
    "- `0` : Background\n",
    "- `1` : Hemisphere\n",
    "- `2` : Hemisphere\n",
    "- `3` : Vermis \n",
    "- `[5-8]` : Brainstem"
   ]
  },
  {
   "cell_type": "code",
   "execution_count": 6,
   "metadata": {},
   "outputs": [],
   "source": [
    "# Changing the values of the volume\n",
    "def only_mask_cerebellum(vol : np.ndarray) -> None :\n",
    "    cerebellum = np.isin(vol_np, [1,2,3])\n",
    "    rest = np.isin(vol_np, [0,5,6,7,8])\n",
    "\n",
    "    vol_np[cerebellum] = 1\n",
    "    vol_np[rest] = 0"
   ]
  },
  {
   "cell_type": "code",
   "execution_count": 7,
   "metadata": {},
   "outputs": [
    {
     "data": {
      "text/plain": [
       "array([0, 1], dtype=int16)"
      ]
     },
     "execution_count": 7,
     "metadata": {},
     "output_type": "execute_result"
    }
   ],
   "source": [
    "only_mask_cerebellum(vol_np)\n",
    "np.unique(vol_np)"
   ]
  },
  {
   "cell_type": "code",
   "execution_count": 8,
   "metadata": {},
   "outputs": [],
   "source": [
    "SAVING_FOLDER = Path(\"/neurospin/tmp/tsanchez/cerebellum_mask/ataxia\")\n",
    "# aims.write(obj = aims_obj, filename= str(SAVING_FOLDER / f\"{SUBJECT}_cereb_bs4_cerebellum_only.nii.gz\"))"
   ]
  },
  {
   "cell_type": "markdown",
   "metadata": {},
   "source": [
    "### Retreiving transform matrix to ICBM2009c w/ `deep_folding`\n",
    "\n",
    "We need to transform to register the mask we obtained to IBCM2009c"
   ]
  },
  {
   "cell_type": "code",
   "execution_count": 9,
   "metadata": {},
   "outputs": [],
   "source": [
    "def get_ICBM2009c_transform(graph_path) : \n",
    "    graph = aims.read(str(graph_path))\n",
    "    transf = aims.GraphManip.getICBM2009cTemplateTransform(graph)\n",
    "    return transf"
   ]
  },
  {
   "cell_type": "code",
   "execution_count": 10,
   "metadata": {},
   "outputs": [],
   "source": [
    "mask_transform = get_ICBM2009c_transform(sub_path.graph)"
   ]
  },
  {
   "cell_type": "code",
   "execution_count": 11,
   "metadata": {},
   "outputs": [],
   "source": [
    "from deep_folding.brainvisa.utils.resample import resample"
   ]
  },
  {
   "cell_type": "code",
   "execution_count": 12,
   "metadata": {},
   "outputs": [
    {
     "name": "stderr",
     "output_type": "stream",
     "text": [
      "DEBUG:resample.py: Time before resampling: 0.17847585678100586s\n",
      "DEBUG:resample.py: Background resampling: 0.01292562484741211s\n",
      "DEBUG:resample.py: Time: 1.0110745429992676s\n",
      "DEBUG:resample.py: \t0.1901569366455078s to create the bucket\n",
      "\t0.520160436630249s to resample bucket\n",
      "\t0.03344130516052246s to assign values\n"
     ]
    },
    {
     "name": "stdout",
     "output_type": "stream",
     "text": [
      "restoring values\n"
     ]
    }
   ],
   "source": [
    "RESAMPLE_VALUES = [1]\n",
    "OUTPUT_VOXEL_SIZE = (1,1,1)\n",
    "resampled_cereb_mask = resample(\n",
    "    input_image=aims_obj, \n",
    "    transformation=mask_transform,\n",
    "    output_vs=OUTPUT_VOXEL_SIZE,\n",
    "    background=0,\n",
    "    values= RESAMPLE_VALUES,\n",
    "    verbose=True\n",
    ")"
   ]
  },
  {
   "cell_type": "code",
   "execution_count": 13,
   "metadata": {},
   "outputs": [],
   "source": [
    "import deep_folding.brainvisa.utils.dilate_mask as dl \n",
    "\n",
    "DILATATION = 5 #mm\n",
    "dilated_mask = dl.dilate(resampled_cereb_mask, radius=DILATATION)\n",
    "aims.write(dilated_mask, filename = str(SAVING_FOLDER / f\"{SUBJECT}_ICBM2009c_cerebellum_mask_{DILATATION}mm_dilatation.nii.gz\"))"
   ]
  },
  {
   "cell_type": "markdown",
   "metadata": {},
   "source": [
    "### Register pclean and hcp subjects to ICBM2009c"
   ]
  },
  {
   "cell_type": "code",
   "execution_count": 14,
   "metadata": {},
   "outputs": [],
   "source": [
    "class PathSubject:\n",
    "    def __init__(self, subject_id : str, db : str):\n",
    "        assert db in [\"hcp\", \"pclean\"]\n",
    "\n",
    "        PATH_DATA = Path(\"/neurospin/dico/data/bv_databases/human\")\n",
    "        PATH_LOCAL = Path(f\"/neurospin/tmp/tsanchez/{db}\")\n",
    "\n",
    "\n",
    "        if db == \"pclean\" :\n",
    "            PATH_DB = PATH_DATA / \"manually_labelled\" / \"pclean\" / \"all\" \n",
    "            TREE_GRAPH = Path(\"t1mri/t1/default_analysis/folds/3.1\")\n",
    "        else :\n",
    "            PATH_DB = PATH_DATA / \"automatically_labeled\" / \"hcp\"/ \"hcp\"\n",
    "            TREE_GRAPH = Path(\"t1mri/BL/default_analysis/folds/3.1\")\n",
    "\n",
    "        self.id = subject_id\n",
    "        self.local = PATH_LOCAL\n",
    "        self.graph = PATH_DB / subject_id / TREE_GRAPH / f\"R{subject_id}.arg\"\n",
    "        self.thresh = PATH_LOCAL / \"thresh\" / f\"threshold_cerebellum_{subject_id}.nii.gz\"\n",
    "        self.ICBM2009c = PATH_LOCAL / \"ICBM2009c_tresh\" / f\"{subject_id}_ICBM2009c_thresh.nii.gz\"\n",
    "    \n",
    "    def __repr__(self) : \n",
    "        return f\"Paths({self.id})\""
   ]
  },
  {
   "cell_type": "code",
   "execution_count": 15,
   "metadata": {},
   "outputs": [
    {
     "data": {
      "text/plain": [
       "('518746',\n",
       " PosixPath('/neurospin/tmp/tsanchez/hcp'),\n",
       " PosixPath('/neurospin/dico/data/bv_databases/human/automatically_labeled/hcp/hcp/518746/t1mri/BL/default_analysis/folds/3.1/R518746.arg'),\n",
       " PosixPath('/neurospin/tmp/tsanchez/hcp/thresh/threshold_cerebellum_518746.nii.gz'),\n",
       " PosixPath('/neurospin/tmp/tsanchez/hcp/ICBM2009c_tresh/518746_ICBM2009c_thresh.nii.gz'))"
      ]
     },
     "execution_count": 15,
     "metadata": {},
     "output_type": "execute_result"
    }
   ],
   "source": [
    "test = 518746\n",
    "path_test = PathSubject(str(test), db = \"hcp\")\n",
    "path_test.id, path_test.local, path_test.graph, path_test.thresh, path_test.ICBM2009c\n"
   ]
  },
  {
   "cell_type": "code",
   "execution_count": 16,
   "metadata": {},
   "outputs": [
    {
     "data": {
      "text/plain": [
       "{'hcp': [Paths(163331), Paths(518746), Paths(991267)],\n",
       " 'pclean': [Paths(s12158), Paths(s12401), Paths(s12635)]}"
      ]
     },
     "execution_count": 16,
     "metadata": {},
     "output_type": "execute_result"
    }
   ],
   "source": [
    "### Subjects \n",
    "dict_subjects = {\n",
    "                \"hcp\" : [\n",
    "                        \"163331\", \n",
    "                        \"518746\", \n",
    "                        \"991267\", \n",
    "                        ],\n",
    "                \"pclean\" : [\n",
    "                        \"s12158\", \n",
    "                        \"s12401\", \n",
    "                        \"s12635\", \n",
    "                        ]\n",
    "                }\n",
    "\n",
    "dict_path = {\n",
    "    \"hcp\" : [PathSubject(sub_id, \"hcp\") for sub_id in dict_subjects[\"hcp\"]],\n",
    "    \"pclean\" : [PathSubject(sub_id, \"pclean\") for sub_id in dict_subjects[\"pclean\"]],\n",
    "}\n",
    "\n",
    "dict_path"
   ]
  },
  {
   "cell_type": "code",
   "execution_count": 21,
   "metadata": {},
   "outputs": [],
   "source": [
    "def transform_ICBM2009c(paths : PathSubject, save : bool = False) : \n",
    "\n",
    "    # TODO : Add this as arguments\n",
    "    RESAMPLE_VALUES = [0, -1, 1]\n",
    "    OUTPUT_VOXEL_SIZE = (1,1,1)\n",
    "\n",
    "    # !!! Not really the native object here\n",
    "    native_obj = aims.read(str(paths.thresh))\n",
    "\n",
    "    # Apply transform\n",
    "    transf = get_ICBM2009c_transform(paths.graph)\n",
    "    resampled_to_ICBM2009c = resample(\n",
    "        input_image=native_obj, \n",
    "        transformation=transf,\n",
    "        output_vs=OUTPUT_VOXEL_SIZE,\n",
    "        background=0,\n",
    "        values= RESAMPLE_VALUES,\n",
    "        verbose=True\n",
    "    )\n",
    "\n",
    "    if save : \n",
    "        aims.write(resampled_to_ICBM2009c, filename=str(paths.ICBM2009c))\n",
    "\n",
    "    return resampled_to_ICBM2009c\n"
   ]
  },
  {
   "cell_type": "code",
   "execution_count": 22,
   "metadata": {},
   "outputs": [
    {
     "data": {
      "text/plain": [
       "Paths(163331)"
      ]
     },
     "execution_count": 22,
     "metadata": {},
     "output_type": "execute_result"
    }
   ],
   "source": [
    "test_sub = dict_path[\"hcp\"][0]\n",
    "test_sub"
   ]
  },
  {
   "cell_type": "code",
   "execution_count": 23,
   "metadata": {},
   "outputs": [
    {
     "name": "stderr",
     "output_type": "stream",
     "text": [
      "DEBUG:resample.py: Time before resampling: 0.07094812393188477s\n",
      "DEBUG:resample.py: Background resampling: 0.02017974853515625s\n"
     ]
    },
    {
     "ename": "TypeError",
     "evalue": "RawConverter_rc_ptr_Volume_S16_BucketMap_VOID.convert(): argument 1 has unexpected type 'Volume_FLOAT'",
     "output_type": "error",
     "traceback": [
      "\u001b[0;31m---------------------------------------------------------------------------\u001b[0m",
      "\u001b[0;31mTypeError\u001b[0m                                 Traceback (most recent call last)",
      "\u001b[0;32m<ipython-input-23-f45b63e45995>\u001b[0m in \u001b[0;36m<module>\u001b[0;34m\u001b[0m\n\u001b[0;32m----> 1\u001b[0;31m \u001b[0mtransform_ICBM2009c\u001b[0m\u001b[0;34m(\u001b[0m\u001b[0mpaths\u001b[0m\u001b[0;34m=\u001b[0m\u001b[0mtest_sub\u001b[0m\u001b[0;34m,\u001b[0m \u001b[0msave\u001b[0m\u001b[0;34m=\u001b[0m \u001b[0;32mTrue\u001b[0m\u001b[0;34m)\u001b[0m\u001b[0;34m\u001b[0m\u001b[0;34m\u001b[0m\u001b[0m\n\u001b[0m",
      "\u001b[0;32m<ipython-input-21-12ef40e60bdf>\u001b[0m in \u001b[0;36mtransform_ICBM2009c\u001b[0;34m(paths, save)\u001b[0m\n\u001b[1;32m     10\u001b[0m     \u001b[0;31m# Apply transform\u001b[0m\u001b[0;34m\u001b[0m\u001b[0;34m\u001b[0m\u001b[0m\n\u001b[1;32m     11\u001b[0m     \u001b[0mtransf\u001b[0m \u001b[0;34m=\u001b[0m \u001b[0mget_ICBM2009c_transform\u001b[0m\u001b[0;34m(\u001b[0m\u001b[0mpaths\u001b[0m\u001b[0;34m.\u001b[0m\u001b[0mgraph\u001b[0m\u001b[0;34m)\u001b[0m\u001b[0;34m\u001b[0m\u001b[0;34m\u001b[0m\u001b[0m\n\u001b[0;32m---> 12\u001b[0;31m     resampled_to_ICBM2009c = resample(\n\u001b[0m\u001b[1;32m     13\u001b[0m         \u001b[0minput_image\u001b[0m\u001b[0;34m=\u001b[0m\u001b[0mnative_obj\u001b[0m\u001b[0;34m,\u001b[0m\u001b[0;34m\u001b[0m\u001b[0;34m\u001b[0m\u001b[0m\n\u001b[1;32m     14\u001b[0m         \u001b[0mtransformation\u001b[0m\u001b[0;34m=\u001b[0m\u001b[0mtransf\u001b[0m\u001b[0;34m,\u001b[0m\u001b[0;34m\u001b[0m\u001b[0;34m\u001b[0m\u001b[0m\n",
      "\u001b[0;32m/neurospin/dico/tsanchez/2025_tsanchez_cerrebellum/Runs/01_threshold/Program/deep_folding/brainvisa/utils/resample.py\u001b[0m in \u001b[0;36mresample\u001b[0;34m(input_image, transformation, output_vs, background, values, verbose, do_skel, immortals, redo_classif)\u001b[0m\n\u001b[1;32m    189\u001b[0m         \u001b[0mbck\u001b[0m\u001b[0;34m.\u001b[0m\u001b[0msetSizeXYZT\u001b[0m\u001b[0;34m(\u001b[0m\u001b[0;34m*\u001b[0m\u001b[0mvol\u001b[0m\u001b[0;34m.\u001b[0m\u001b[0mheader\u001b[0m\u001b[0;34m(\u001b[0m\u001b[0;34m)\u001b[0m\u001b[0;34m[\u001b[0m\u001b[0;34m'voxel_size'\u001b[0m\u001b[0;34m]\u001b[0m\u001b[0;34m[\u001b[0m\u001b[0;34m:\u001b[0m\u001b[0;36m3\u001b[0m\u001b[0;34m]\u001b[0m\u001b[0;34m,\u001b[0m \u001b[0;36m1.\u001b[0m\u001b[0;34m)\u001b[0m\u001b[0;34m\u001b[0m\u001b[0;34m\u001b[0m\u001b[0m\n\u001b[1;32m    190\u001b[0m         \u001b[0mcvol_bk\u001b[0m \u001b[0;34m=\u001b[0m \u001b[0maims\u001b[0m\u001b[0;34m.\u001b[0m\u001b[0mRawConverter_rc_ptr_Volume_S16_BucketMap_VOID\u001b[0m\u001b[0;34m(\u001b[0m\u001b[0;32mTrue\u001b[0m\u001b[0;34m)\u001b[0m\u001b[0;34m\u001b[0m\u001b[0;34m\u001b[0m\u001b[0m\n\u001b[0;32m--> 191\u001b[0;31m         \u001b[0mcvol_bk\u001b[0m\u001b[0;34m.\u001b[0m\u001b[0mconvert\u001b[0m\u001b[0;34m(\u001b[0m\u001b[0mcc_vol\u001b[0m\u001b[0;34m,\u001b[0m \u001b[0mbck\u001b[0m\u001b[0;34m)\u001b[0m\u001b[0;34m\u001b[0m\u001b[0;34m\u001b[0m\u001b[0m\n\u001b[0m\u001b[1;32m    192\u001b[0m         \u001b[0mt_bck\u001b[0m \u001b[0;34m=\u001b[0m \u001b[0mtime\u001b[0m\u001b[0;34m(\u001b[0m\u001b[0;34m)\u001b[0m \u001b[0;34m-\u001b[0m \u001b[0mtoc\u001b[0m\u001b[0;34m\u001b[0m\u001b[0;34m\u001b[0m\u001b[0m\n\u001b[1;32m    193\u001b[0m         \u001b[0mtoc\u001b[0m \u001b[0;34m=\u001b[0m \u001b[0mtime\u001b[0m\u001b[0;34m(\u001b[0m\u001b[0;34m)\u001b[0m\u001b[0;34m\u001b[0m\u001b[0;34m\u001b[0m\u001b[0m\n",
      "\u001b[0;31mTypeError\u001b[0m: RawConverter_rc_ptr_Volume_S16_BucketMap_VOID.convert(): argument 1 has unexpected type 'Volume_FLOAT'"
     ]
    }
   ],
   "source": [
    "transform_ICBM2009c(paths=test_sub, save= True)"
   ]
  },
  {
   "cell_type": "code",
   "execution_count": null,
   "metadata": {},
   "outputs": [],
   "source": []
  }
 ],
 "metadata": {
  "kernelspec": {
   "display_name": "venv",
   "language": "python",
   "name": "python3"
  },
  "language_info": {
   "codemirror_mode": {
    "name": "ipython",
    "version": 3
   },
   "file_extension": ".py",
   "mimetype": "text/x-python",
   "name": "python",
   "nbconvert_exporter": "python",
   "pygments_lexer": "ipython3",
   "version": "3.10.12"
  }
 },
 "nbformat": 4,
 "nbformat_minor": 2
}
