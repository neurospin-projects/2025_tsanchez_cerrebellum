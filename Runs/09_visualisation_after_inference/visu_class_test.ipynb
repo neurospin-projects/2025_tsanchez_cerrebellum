{
 "cells": [
  {
   "cell_type": "code",
   "execution_count": 13,
   "metadata": {},
   "outputs": [],
   "source": [
    "from visualisation_anatomist import VisualiserAnatomist\n",
    "from soma import aims\n",
    "import matplotlib.pyplot as plt \n",
    "import anatomist.headless as ana\n",
    "%matplotlib qt5"
   ]
  },
  {
   "cell_type": "code",
   "execution_count": 28,
   "metadata": {},
   "outputs": [],
   "source": [
    "from pathlib import Path\n",
    "import numpy as np\n",
    "\n",
    "SLICE_CLIP = aims.Quaternion([0.6427876096865394,\n",
    "  -0.3420201433256688,\n",
    "  0.6427876096865394,\n",
    "  0.3420201433256688])\n",
    "\n",
    "VIEW_SAGITTAL = [0.5,-0.5,-0.5,0.5]\n",
    "OBLIC_VIEW = [0.6,-0.2,-0.25,0.75] \n",
    "\n",
    "# Palette array\n",
    "PALETTE = np.zeros((512,1,1,1,4))\n",
    "PALETTE[100:400,:,:,:,3] = 0 # Settings middle alpha to 0\n",
    "PALETTE[:100,:,:,:,2] = 255 # Settings begin to blue max\n",
    "PALETTE[:100,:,:,:,1] = 255 # Settings begin to green max\n",
    "PALETTE[400:,:,:,:,0] = 255 # Settings end to red max\n",
    "\n",
    "INPUT_PATH = Path(\"/neurospin/dico/tsanchez/tmp/input_inference.npy\")\n",
    "OUTPUT_PATH = Path(\"/neurospin/dico/tsanchez/tmp/output_inference.npy\")\n",
    "PATH_SAVING = Path(\"/neurospin/dico/tsanchez/tmp\")\n",
    "\n",
    "DICT_VIEWS = {\n",
    "    \"normal\" : (\n",
    "        SLICE_CLIP,\n",
    "        VIEW_SAGITTAL,\n",
    "        1,\n",
    "        PALETTE),\n",
    "\n",
    "    \"oblic\" : (\n",
    "        SLICE_CLIP,\n",
    "        OBLIC_VIEW,\n",
    "        1,\n",
    "        PALETTE)\n",
    "}\n",
    "\n",
    "a = ana.Anatomist()\n",
    "win = a.createWindow(\"3D\")"
   ]
  },
  {
   "cell_type": "code",
   "execution_count": 29,
   "metadata": {},
   "outputs": [
    {
     "data": {
      "text/plain": [
       "array([[[[1, 1, 1, ..., 1, 1, 1],\n",
       "         [1, 1, 1, ..., 1, 1, 1],\n",
       "         [1, 1, 1, ..., 1, 1, 1],\n",
       "         ...,\n",
       "         [1, 1, 1, ..., 1, 1, 1],\n",
       "         [1, 1, 1, ..., 1, 1, 1],\n",
       "         [1, 1, 1, ..., 1, 1, 1]],\n",
       "\n",
       "        [[1, 1, 1, ..., 1, 1, 1],\n",
       "         [1, 1, 1, ..., 1, 1, 1],\n",
       "         [1, 1, 1, ..., 1, 1, 1],\n",
       "         ...,\n",
       "         [1, 1, 1, ..., 1, 1, 1],\n",
       "         [1, 1, 1, ..., 1, 1, 1],\n",
       "         [1, 1, 1, ..., 1, 1, 1]],\n",
       "\n",
       "        [[1, 1, 1, ..., 1, 1, 1],\n",
       "         [1, 1, 1, ..., 1, 1, 1],\n",
       "         [1, 1, 1, ..., 1, 1, 1],\n",
       "         ...,\n",
       "         [1, 1, 1, ..., 1, 1, 1],\n",
       "         [1, 1, 1, ..., 1, 1, 1],\n",
       "         [1, 1, 1, ..., 1, 1, 1]],\n",
       "\n",
       "        ...,\n",
       "\n",
       "        [[1, 1, 1, ..., 1, 1, 1],\n",
       "         [0, 1, 1, ..., 1, 1, 1],\n",
       "         [1, 1, 1, ..., 1, 1, 1],\n",
       "         ...,\n",
       "         [0, 1, 1, ..., 1, 1, 1],\n",
       "         [1, 0, 1, ..., 1, 1, 1],\n",
       "         [0, 1, 1, ..., 1, 1, 1]],\n",
       "\n",
       "        [[0, 1, 1, ..., 1, 1, 1],\n",
       "         [1, 1, 1, ..., 1, 1, 1],\n",
       "         [1, 1, 1, ..., 1, 1, 1],\n",
       "         ...,\n",
       "         [1, 1, 1, ..., 1, 1, 1],\n",
       "         [0, 1, 0, ..., 1, 0, 1],\n",
       "         [1, 1, 1, ..., 1, 1, 1]],\n",
       "\n",
       "        [[1, 0, 1, ..., 0, 1, 1],\n",
       "         [1, 1, 1, ..., 1, 1, 1],\n",
       "         [1, 1, 1, ..., 1, 1, 1],\n",
       "         ...,\n",
       "         [0, 1, 1, ..., 1, 1, 1],\n",
       "         [1, 1, 1, ..., 1, 1, 0],\n",
       "         [0, 1, 0, ..., 1, 0, 1]]]], dtype=int16)"
      ]
     },
     "execution_count": 29,
     "metadata": {},
     "output_type": "execute_result"
    }
   ],
   "source": [
    "output_np = np.load(OUTPUT_PATH)\n",
    "output = output_np.astype(np.int16) \n",
    "output"
   ]
  },
  {
   "cell_type": "code",
   "execution_count": 30,
   "metadata": {},
   "outputs": [],
   "source": [
    "visu = VisualiserAnatomist(\n",
    "    path_or_obj = INPUT_PATH,\n",
    "    saving_path= PATH_SAVING,\n",
    "    dict_views= DICT_VIEWS,\n",
    "    anatomist=a,\n",
    "    window=win\n",
    ")"
   ]
  },
  {
   "cell_type": "code",
   "execution_count": 31,
   "metadata": {},
   "outputs": [
    {
     "data": {
      "text/plain": [
       "torch.float32"
      ]
     },
     "execution_count": 31,
     "metadata": {},
     "output_type": "execute_result"
    }
   ],
   "source": [
    "visu.vol_np.dtype"
   ]
  },
  {
   "cell_type": "code",
   "execution_count": 32,
   "metadata": {},
   "outputs": [],
   "source": [
    "visu.show(buffer = True, view_settings = DICT_VIEWS[\"normal\"])"
   ]
  },
  {
   "cell_type": "code",
   "execution_count": 33,
   "metadata": {},
   "outputs": [
    {
     "ename": "",
     "evalue": "",
     "output_type": "error",
     "traceback": [
      "\u001b[1;31mThe Kernel crashed while executing code in the current cell or a previous cell. \n",
      "\u001b[1;31mPlease review the code in the cell(s) to identify a possible cause of the failure. \n",
      "\u001b[1;31mClick <a href='https://aka.ms/vscodeJupyterKernelCrash'>here</a> for more info. \n",
      "\u001b[1;31mView Jupyter <a href='command:jupyter.viewOutput'>log</a> for further details."
     ]
    }
   ],
   "source": [
    "visu.show(buffer = False, view_settings = DICT_VIEWS[\"oblic\"])\n",
    "plt.show()"
   ]
  },
  {
   "cell_type": "code",
   "execution_count": null,
   "metadata": {},
   "outputs": [],
   "source": []
  }
 ],
 "metadata": {
  "kernelspec": {
   "display_name": "venv",
   "language": "python",
   "name": "python3"
  },
  "language_info": {
   "codemirror_mode": {
    "name": "ipython",
    "version": 3
   },
   "file_extension": ".py",
   "mimetype": "text/x-python",
   "name": "python",
   "nbconvert_exporter": "python",
   "pygments_lexer": "ipython3",
   "version": "3.10.12"
  }
 },
 "nbformat": 4,
 "nbformat_minor": 2
}
