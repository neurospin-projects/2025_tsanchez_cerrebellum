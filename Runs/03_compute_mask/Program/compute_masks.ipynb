{
 "cells": [
  {
   "cell_type": "markdown",
   "metadata": {},
   "source": [
    "# Compute vermis masks on all the subjects"
   ]
  },
  {
   "cell_type": "code",
   "execution_count": 14,
   "metadata": {},
   "outputs": [],
   "source": [
    "from pathlib import Path\n",
    "# Paths for the masks\n",
    "GRAPH_FOLDER_MASK_CERMOI = Path(\"/neurospin/dico/zsun/ataxie/etudes_AlexandraDurr/database_brainvisa/cermoi\")\n",
    "TREE_GRAPH_MASK_CERMOI = Path(\"t1mri/V1/default_analysis/folds/3.1\")\n",
    "\n",
    "RAW_FOLDER_MASK_CERMOI = Path(\"/neurospin/cati/cati_members/studies_cati/cermoi/database_brainvisa/00\")\n",
    "TREE_RAW_MASK_CERMOI = Path(\"cereb_bs4/V1\")\n",
    "\n",
    "NOMENCLATURE_MASK = \"_cerebellum_brainstem_split_mask.nii.gz\"\n",
    "\n",
    "GRAPH_FOLDER_MASK_BIOSCA = Path(\"/neurospin/dico/zsun/ataxie/etudes_AlexandraDurr/database_brainvisa/biosca\")\n",
    "TREE_GRAPH_MASK_BIOSCA = Path(\"t1mri/E1/default_analysis/folds/3.1\")\n",
    "\n",
    "RAW_FOLDER_MASK_BIOSCA = Path(\"/neurospin/cati/cati_members/studies_cati/biosca/database_brainvisa/001\")\n",
    "TREE_RAW_MASK_BIOSCA = Path(\"cereb_bs4/E1\")\n",
    "\n",
    "SAVING_MASK = Path(\"/neurospin/dico/tsanchez/mask\")"
   ]
  },
  {
   "cell_type": "code",
   "execution_count": 15,
   "metadata": {},
   "outputs": [],
   "source": [
    "import os\n",
    "list_subjects_biosca = [\n",
    "    # \"001015VJ\", #Appears in the control that has been analyzed but not analyzed\n",
    "    \"001019DA\",\n",
    "    \"001020HG\",\n",
    "    \"001022LM\",\n",
    "    \"001032SG\",\n",
    "    \"001037GA\",\n",
    "    \"001040BF\",\n",
    "    \"001049BD\",\n",
    "    \"001060MJ\",\n",
    "    \"001065BC\",\n",
    "    \"001073PM\",\n",
    "    \"001075HJ\",\n",
    "    \"001079LP\",\n",
    "    \"001085BN\",\n",
    "    \"001091MR\",\n",
    "    \"001099GL\",\n",
    "    \"001100PY\",\n",
    "    \"001101JO\",\n",
    "]\n",
    "\n",
    "list_subjects_cermoi = [\n",
    "    \"00001PJ\",\n",
    "    \"00004PA\",\n",
    "    \"00011EG\",\n",
    "    \"00020CT\",\n",
    "    \"00023EA\",\n",
    "    \"00027EF\",\n",
    "    \"00030CA\",\n",
    "    \"00031CP\",\n",
    "    \"00035NR\",\n",
    "    \"00036DC\",\n",
    "]"
   ]
  },
  {
   "cell_type": "code",
   "execution_count": 16,
   "metadata": {},
   "outputs": [
    {
     "data": {
      "text/plain": [
       "27"
      ]
     },
     "execution_count": 16,
     "metadata": {},
     "output_type": "execute_result"
    }
   ],
   "source": [
    "len(list_subjects_biosca) + len(list_subjects_cermoi)"
   ]
  },
  {
   "cell_type": "code",
   "execution_count": 17,
   "metadata": {},
   "outputs": [],
   "source": [
    "not_analysed = []\n",
    "for subject in list_subjects_biosca :\n",
    "    if not os.path.exists(RAW_FOLDER_MASK_BIOSCA / subject / TREE_RAW_MASK_BIOSCA / f\"{subject}_cerebellum_brainstem_split_mask.nii.gz\"):\n",
    "        not_analysed.append(subject)"
   ]
  },
  {
   "cell_type": "code",
   "execution_count": 18,
   "metadata": {},
   "outputs": [
    {
     "data": {
      "text/plain": [
       "[]"
      ]
     },
     "execution_count": 18,
     "metadata": {},
     "output_type": "execute_result"
    }
   ],
   "source": [
    "not_analysed"
   ]
  },
  {
   "cell_type": "markdown",
   "metadata": {},
   "source": [
    "## Computing Vermis Masks"
   ]
  },
  {
   "cell_type": "code",
   "execution_count": 19,
   "metadata": {},
   "outputs": [],
   "source": [
    "from cerebellum_folding.data.path import MaskPath\n",
    "list_mask_path_cermoi = [\n",
    "    MaskPath(\n",
    "        subject_id=subject,\n",
    "        graph_folder=GRAPH_FOLDER_MASK_CERMOI,\n",
    "        tree_graph=TREE_GRAPH_MASK_CERMOI,\n",
    "        raw_folder=RAW_FOLDER_MASK_CERMOI,\n",
    "        tree_raw=TREE_RAW_MASK_CERMOI,\n",
    "        nomenclature_raw=NOMENCLATURE_MASK,\n",
    "        mask_type=\"vermis\",\n",
    "        saving_path=SAVING_MASK\n",
    "    ) for subject in list_subjects_cermoi\n",
    "]\n",
    "\n",
    "list_mask_path_biosca = [\n",
    "    MaskPath(\n",
    "        subject_id=subject,\n",
    "        graph_folder=GRAPH_FOLDER_MASK_BIOSCA,\n",
    "        tree_graph=TREE_GRAPH_MASK_BIOSCA,\n",
    "        raw_folder=RAW_FOLDER_MASK_BIOSCA,\n",
    "        tree_raw=TREE_RAW_MASK_BIOSCA,\n",
    "        nomenclature_raw=NOMENCLATURE_MASK,\n",
    "        mask_type=\"vermis\",\n",
    "        saving_path=SAVING_MASK\n",
    "    ) for subject in list_subjects_biosca\n",
    "]"
   ]
  },
  {
   "cell_type": "code",
   "execution_count": 20,
   "metadata": {},
   "outputs": [
    {
     "name": "stdout",
     "output_type": "stream",
     "text": [
      "Overwriting : /neurospin/dico/tsanchez/mask/vermis/00001PJ_vermis_native.nii.gz \n",
      "Saving : /neurospin/dico/tsanchez/mask/vermis/00001PJ_vermis_native.nii.gz\n",
      "Overwriting : /neurospin/dico/tsanchez/mask/vermis/00001PJ_vermis_ICBM2009c.nii.gz \n"
     ]
    },
    {
     "name": "stderr",
     "output_type": "stream",
     "text": [
      "DEBUG:resample.py: Time before resampling: 0.20680570602416992s\n",
      "DEBUG:resample.py: Background resampling: 0.07618403434753418s\n",
      "DEBUG:resample.py: Time: 0.5269420146942139s\n",
      "DEBUG:resample.py: \t0.03308606147766113s to create the bucket\n",
      "\t0.14730620384216309s to resample bucket\n",
      "\t0.10709810256958008s to assign values\n"
     ]
    },
    {
     "name": "stdout",
     "output_type": "stream",
     "text": [
      "restoring values\n",
      "Saving /neurospin/dico/tsanchez/mask/vermis/00001PJ_vermis_ICBM2009c.nii.gz\n",
      "Overwriting : /neurospin/dico/tsanchez/mask/vermis/00004PA_vermis_native.nii.gz \n",
      "Saving : /neurospin/dico/tsanchez/mask/vermis/00004PA_vermis_native.nii.gz\n",
      "Overwriting : /neurospin/dico/tsanchez/mask/vermis/00004PA_vermis_ICBM2009c.nii.gz \n"
     ]
    },
    {
     "name": "stderr",
     "output_type": "stream",
     "text": [
      "DEBUG:resample.py: Time before resampling: 0.02659440040588379s\n",
      "DEBUG:resample.py: Background resampling: 0.08516931533813477s\n",
      "DEBUG:resample.py: Time: 0.4496324062347412s\n",
      "DEBUG:resample.py: \t0.03386425971984863s to create the bucket\n",
      "\t0.07621574401855469s to resample bucket\n",
      "\t0.10506963729858398s to assign values\n"
     ]
    },
    {
     "name": "stdout",
     "output_type": "stream",
     "text": [
      "restoring values\n",
      "Saving /neurospin/dico/tsanchez/mask/vermis/00004PA_vermis_ICBM2009c.nii.gz\n",
      "Overwriting : /neurospin/dico/tsanchez/mask/vermis/00011EG_vermis_native.nii.gz \n",
      "Saving : /neurospin/dico/tsanchez/mask/vermis/00011EG_vermis_native.nii.gz\n",
      "Overwriting : /neurospin/dico/tsanchez/mask/vermis/00011EG_vermis_ICBM2009c.nii.gz \n"
     ]
    },
    {
     "name": "stderr",
     "output_type": "stream",
     "text": [
      "DEBUG:resample.py: Time before resampling: 0.027567148208618164s\n",
      "DEBUG:resample.py: Background resampling: 0.07541608810424805s\n",
      "DEBUG:resample.py: Time: 0.4574267864227295s\n",
      "DEBUG:resample.py: \t0.03421926498413086s to create the bucket\n",
      "\t0.07822775840759277s to resample bucket\n",
      "\t0.10804033279418945s to assign values\n"
     ]
    },
    {
     "name": "stdout",
     "output_type": "stream",
     "text": [
      "restoring values\n",
      "Saving /neurospin/dico/tsanchez/mask/vermis/00011EG_vermis_ICBM2009c.nii.gz\n",
      "Overwriting : /neurospin/dico/tsanchez/mask/vermis/00020CT_vermis_native.nii.gz \n",
      "Saving : /neurospin/dico/tsanchez/mask/vermis/00020CT_vermis_native.nii.gz\n",
      "Overwriting : /neurospin/dico/tsanchez/mask/vermis/00020CT_vermis_ICBM2009c.nii.gz \n"
     ]
    },
    {
     "name": "stderr",
     "output_type": "stream",
     "text": [
      "DEBUG:resample.py: Time before resampling: 0.025536060333251953s\n",
      "DEBUG:resample.py: Background resampling: 0.07654714584350586s\n",
      "DEBUG:resample.py: Time: 0.4583568572998047s\n",
      "DEBUG:resample.py: \t0.0336604118347168s to create the bucket\n",
      "\t0.08219647407531738s to resample bucket\n",
      "\t0.10595345497131348s to assign values\n"
     ]
    },
    {
     "name": "stdout",
     "output_type": "stream",
     "text": [
      "restoring values\n",
      "Saving /neurospin/dico/tsanchez/mask/vermis/00020CT_vermis_ICBM2009c.nii.gz\n",
      "Overwriting : /neurospin/dico/tsanchez/mask/vermis/00023EA_vermis_native.nii.gz \n",
      "Saving : /neurospin/dico/tsanchez/mask/vermis/00023EA_vermis_native.nii.gz\n",
      "Overwriting : /neurospin/dico/tsanchez/mask/vermis/00023EA_vermis_ICBM2009c.nii.gz \n"
     ]
    },
    {
     "name": "stderr",
     "output_type": "stream",
     "text": [
      "DEBUG:resample.py: Time before resampling: 0.027253389358520508s\n",
      "DEBUG:resample.py: Background resampling: 0.074432373046875s\n",
      "DEBUG:resample.py: Time: 0.4383862018585205s\n",
      "DEBUG:resample.py: \t0.03372359275817871s to create the bucket\n",
      "\t0.06749153137207031s to resample bucket\n",
      "\t0.10436582565307617s to assign values\n"
     ]
    },
    {
     "name": "stdout",
     "output_type": "stream",
     "text": [
      "restoring values\n",
      "Saving /neurospin/dico/tsanchez/mask/vermis/00023EA_vermis_ICBM2009c.nii.gz\n",
      "Overwriting : /neurospin/dico/tsanchez/mask/vermis/00027EF_vermis_native.nii.gz \n",
      "Saving : /neurospin/dico/tsanchez/mask/vermis/00027EF_vermis_native.nii.gz\n",
      "Overwriting : /neurospin/dico/tsanchez/mask/vermis/00027EF_vermis_ICBM2009c.nii.gz \n"
     ]
    },
    {
     "name": "stderr",
     "output_type": "stream",
     "text": [
      "DEBUG:resample.py: Time before resampling: 0.027185916900634766s\n",
      "DEBUG:resample.py: Background resampling: 0.07495307922363281s\n",
      "DEBUG:resample.py: Time: 0.4507110118865967s\n",
      "DEBUG:resample.py: \t0.034044504165649414s to create the bucket\n",
      "\t0.07796454429626465s to resample bucket\n",
      "\t0.10483312606811523s to assign values\n"
     ]
    },
    {
     "name": "stdout",
     "output_type": "stream",
     "text": [
      "restoring values\n",
      "Saving /neurospin/dico/tsanchez/mask/vermis/00027EF_vermis_ICBM2009c.nii.gz\n",
      "Overwriting : /neurospin/dico/tsanchez/mask/vermis/00030CA_vermis_native.nii.gz \n",
      "Saving : /neurospin/dico/tsanchez/mask/vermis/00030CA_vermis_native.nii.gz\n",
      "Overwriting : /neurospin/dico/tsanchez/mask/vermis/00030CA_vermis_ICBM2009c.nii.gz \n"
     ]
    },
    {
     "name": "stderr",
     "output_type": "stream",
     "text": [
      "DEBUG:resample.py: Time before resampling: 0.027288198471069336s\n",
      "DEBUG:resample.py: Background resampling: 0.09822940826416016s\n",
      "DEBUG:resample.py: Time: 0.45161890983581543s\n",
      "DEBUG:resample.py: \t0.03402972221374512s to create the bucket\n",
      "\t0.06789660453796387s to resample bucket\n",
      "\t0.10665440559387207s to assign values\n"
     ]
    },
    {
     "name": "stdout",
     "output_type": "stream",
     "text": [
      "restoring values\n",
      "Saving /neurospin/dico/tsanchez/mask/vermis/00030CA_vermis_ICBM2009c.nii.gz\n",
      "Overwriting : /neurospin/dico/tsanchez/mask/vermis/00031CP_vermis_native.nii.gz \n",
      "Saving : /neurospin/dico/tsanchez/mask/vermis/00031CP_vermis_native.nii.gz\n",
      "Overwriting : /neurospin/dico/tsanchez/mask/vermis/00031CP_vermis_ICBM2009c.nii.gz \n"
     ]
    },
    {
     "name": "stderr",
     "output_type": "stream",
     "text": [
      "DEBUG:resample.py: Time before resampling: 0.02769923210144043s\n",
      "DEBUG:resample.py: Background resampling: 0.07717776298522949s\n",
      "DEBUG:resample.py: Time: 0.44616055488586426s\n",
      "DEBUG:resample.py: \t0.03445601463317871s to create the bucket\n",
      "\t0.06663203239440918s to resample bucket\n",
      "\t0.10720491409301758s to assign values\n"
     ]
    },
    {
     "name": "stdout",
     "output_type": "stream",
     "text": [
      "restoring values\n",
      "Saving /neurospin/dico/tsanchez/mask/vermis/00031CP_vermis_ICBM2009c.nii.gz\n",
      "Overwriting : /neurospin/dico/tsanchez/mask/vermis/00035NR_vermis_native.nii.gz \n",
      "Saving : /neurospin/dico/tsanchez/mask/vermis/00035NR_vermis_native.nii.gz\n",
      "Overwriting : /neurospin/dico/tsanchez/mask/vermis/00035NR_vermis_ICBM2009c.nii.gz \n"
     ]
    },
    {
     "name": "stderr",
     "output_type": "stream",
     "text": [
      "DEBUG:resample.py: Time before resampling: 0.026463985443115234s\n",
      "DEBUG:resample.py: Background resampling: 0.07631039619445801s\n",
      "DEBUG:resample.py: Time: 0.4527301788330078s\n",
      "DEBUG:resample.py: \t0.03280019760131836s to create the bucket\n",
      "\t0.07052350044250488s to resample bucket\n",
      "\t0.10823798179626465s to assign values\n"
     ]
    },
    {
     "name": "stdout",
     "output_type": "stream",
     "text": [
      "restoring values\n",
      "Saving /neurospin/dico/tsanchez/mask/vermis/00035NR_vermis_ICBM2009c.nii.gz\n",
      "Overwriting : /neurospin/dico/tsanchez/mask/vermis/00036DC_vermis_native.nii.gz \n",
      "Saving : /neurospin/dico/tsanchez/mask/vermis/00036DC_vermis_native.nii.gz\n",
      "Overwriting : /neurospin/dico/tsanchez/mask/vermis/00036DC_vermis_ICBM2009c.nii.gz \n"
     ]
    },
    {
     "name": "stderr",
     "output_type": "stream",
     "text": [
      "DEBUG:resample.py: Time before resampling: 0.028148651123046875s\n",
      "DEBUG:resample.py: Background resampling: 0.07528877258300781s\n",
      "DEBUG:resample.py: Time: 0.45291590690612793s\n",
      "DEBUG:resample.py: \t0.03251981735229492s to create the bucket\n",
      "\t0.07629513740539551s to resample bucket\n",
      "\t0.10577964782714844s to assign values\n"
     ]
    },
    {
     "name": "stdout",
     "output_type": "stream",
     "text": [
      "restoring values\n",
      "Saving /neurospin/dico/tsanchez/mask/vermis/00036DC_vermis_ICBM2009c.nii.gz\n"
     ]
    }
   ],
   "source": [
    "from cerebellum_folding.data.preprocess import PipelineMask\n",
    "for mask_path in list_mask_path_cermoi : \n",
    "    pipe_mask = PipelineMask(\n",
    "        mask_path=mask_path,\n",
    "        sub_struct_mask=[3],\n",
    "        resample_values=[0,1],\n",
    "        output_voxel=(0.5,0.5,0.5),\n",
    "        verbose = True,\n",
    "    )\n",
    "    pipe_mask.run_pipeline(overwrite=True)"
   ]
  },
  {
   "cell_type": "code",
   "execution_count": 21,
   "metadata": {},
   "outputs": [
    {
     "name": "stdout",
     "output_type": "stream",
     "text": [
      "Overwriting : /neurospin/dico/tsanchez/mask/vermis/001019DA_vermis_native.nii.gz \n",
      "Saving : /neurospin/dico/tsanchez/mask/vermis/001019DA_vermis_native.nii.gz\n",
      "Overwriting : /neurospin/dico/tsanchez/mask/vermis/001019DA_vermis_ICBM2009c.nii.gz \n"
     ]
    },
    {
     "name": "stderr",
     "output_type": "stream",
     "text": [
      "DEBUG:resample.py: Time before resampling: 0.0074808597564697266s\n",
      "DEBUG:resample.py: Background resampling: 0.07465553283691406s\n",
      "DEBUG:resample.py: Time: 0.32128143310546875s\n",
      "DEBUG:resample.py: \t0.01629185676574707s to create the bucket\n",
      "\t0.07445573806762695s to resample bucket\n",
      "\t0.10484647750854492s to assign values\n"
     ]
    },
    {
     "name": "stdout",
     "output_type": "stream",
     "text": [
      "restoring values\n",
      "Saving /neurospin/dico/tsanchez/mask/vermis/001019DA_vermis_ICBM2009c.nii.gz\n",
      "Overwriting : /neurospin/dico/tsanchez/mask/vermis/001020HG_vermis_native.nii.gz \n",
      "Saving : /neurospin/dico/tsanchez/mask/vermis/001020HG_vermis_native.nii.gz\n",
      "Overwriting : /neurospin/dico/tsanchez/mask/vermis/001020HG_vermis_ICBM2009c.nii.gz \n"
     ]
    },
    {
     "name": "stderr",
     "output_type": "stream",
     "text": [
      "DEBUG:resample.py: Time before resampling: 0.010323047637939453s\n",
      "DEBUG:resample.py: Background resampling: 0.08233380317687988s\n",
      "DEBUG:resample.py: Time: 0.3239724636077881s\n",
      "DEBUG:resample.py: \t0.01590132713317871s to create the bucket\n",
      "\t0.07282328605651855s to resample bucket\n",
      "\t0.10679507255554199s to assign values\n"
     ]
    },
    {
     "name": "stdout",
     "output_type": "stream",
     "text": [
      "restoring values\n",
      "Saving /neurospin/dico/tsanchez/mask/vermis/001020HG_vermis_ICBM2009c.nii.gz\n",
      "Overwriting : /neurospin/dico/tsanchez/mask/vermis/001022LM_vermis_native.nii.gz \n",
      "Saving : /neurospin/dico/tsanchez/mask/vermis/001022LM_vermis_native.nii.gz\n",
      "Overwriting : /neurospin/dico/tsanchez/mask/vermis/001022LM_vermis_ICBM2009c.nii.gz \n"
     ]
    },
    {
     "name": "stderr",
     "output_type": "stream",
     "text": [
      "DEBUG:resample.py: Time before resampling: 0.007483243942260742s\n",
      "DEBUG:resample.py: Background resampling: 0.07552075386047363s\n",
      "DEBUG:resample.py: Time: 0.34311938285827637s\n",
      "DEBUG:resample.py: \t0.01786661148071289s to create the bucket\n",
      "\t0.08681106567382812s to resample bucket\n",
      "\t0.11013054847717285s to assign values\n"
     ]
    },
    {
     "name": "stdout",
     "output_type": "stream",
     "text": [
      "restoring values\n",
      "Saving /neurospin/dico/tsanchez/mask/vermis/001022LM_vermis_ICBM2009c.nii.gz\n",
      "Overwriting : /neurospin/dico/tsanchez/mask/vermis/001032SG_vermis_native.nii.gz \n",
      "Saving : /neurospin/dico/tsanchez/mask/vermis/001032SG_vermis_native.nii.gz\n",
      "Overwriting : /neurospin/dico/tsanchez/mask/vermis/001032SG_vermis_ICBM2009c.nii.gz \n"
     ]
    },
    {
     "name": "stderr",
     "output_type": "stream",
     "text": [
      "DEBUG:resample.py: Time before resampling: 0.009247541427612305s\n",
      "DEBUG:resample.py: Background resampling: 0.07888364791870117s\n",
      "DEBUG:resample.py: Time: 0.33483266830444336s\n",
      "DEBUG:resample.py: \t0.01741313934326172s to create the bucket\n",
      "\t0.08725166320800781s to resample bucket\n",
      "\t0.10666537284851074s to assign values\n"
     ]
    },
    {
     "name": "stdout",
     "output_type": "stream",
     "text": [
      "restoring values\n",
      "Saving /neurospin/dico/tsanchez/mask/vermis/001032SG_vermis_ICBM2009c.nii.gz\n",
      "Overwriting : /neurospin/dico/tsanchez/mask/vermis/001037GA_vermis_native.nii.gz \n",
      "Saving : /neurospin/dico/tsanchez/mask/vermis/001037GA_vermis_native.nii.gz\n",
      "Overwriting : /neurospin/dico/tsanchez/mask/vermis/001037GA_vermis_ICBM2009c.nii.gz \n"
     ]
    },
    {
     "name": "stderr",
     "output_type": "stream",
     "text": [
      "DEBUG:resample.py: Time before resampling: 0.008060932159423828s\n",
      "DEBUG:resample.py: Background resampling: 0.07720065116882324s\n",
      "DEBUG:resample.py: Time: 0.323899507522583s\n",
      "DEBUG:resample.py: \t0.016920804977416992s to create the bucket\n",
      "\t0.06851482391357422s to resample bucket\n",
      "\t0.10559463500976562s to assign values\n"
     ]
    },
    {
     "name": "stdout",
     "output_type": "stream",
     "text": [
      "restoring values\n",
      "Saving /neurospin/dico/tsanchez/mask/vermis/001037GA_vermis_ICBM2009c.nii.gz\n",
      "Overwriting : /neurospin/dico/tsanchez/mask/vermis/001040BF_vermis_native.nii.gz \n",
      "Saving : /neurospin/dico/tsanchez/mask/vermis/001040BF_vermis_native.nii.gz\n",
      "Overwriting : /neurospin/dico/tsanchez/mask/vermis/001040BF_vermis_ICBM2009c.nii.gz \n"
     ]
    },
    {
     "name": "stderr",
     "output_type": "stream",
     "text": [
      "DEBUG:resample.py: Time before resampling: 0.009502172470092773s\n",
      "DEBUG:resample.py: Background resampling: 0.08070826530456543s\n",
      "DEBUG:resample.py: Time: 0.32377004623413086s\n",
      "DEBUG:resample.py: \t0.0171051025390625s to create the bucket\n",
      "\t0.0699918270111084s to resample bucket\n",
      "\t0.10912299156188965s to assign values\n"
     ]
    },
    {
     "name": "stdout",
     "output_type": "stream",
     "text": [
      "restoring values\n",
      "Saving /neurospin/dico/tsanchez/mask/vermis/001040BF_vermis_ICBM2009c.nii.gz\n",
      "Overwriting : /neurospin/dico/tsanchez/mask/vermis/001049BD_vermis_native.nii.gz \n",
      "Saving : /neurospin/dico/tsanchez/mask/vermis/001049BD_vermis_native.nii.gz\n",
      "Overwriting : /neurospin/dico/tsanchez/mask/vermis/001049BD_vermis_ICBM2009c.nii.gz \n"
     ]
    },
    {
     "name": "stderr",
     "output_type": "stream",
     "text": [
      "DEBUG:resample.py: Time before resampling: 0.009069442749023438s\n",
      "DEBUG:resample.py: Background resampling: 0.08031034469604492s\n",
      "DEBUG:resample.py: Time: 0.3273591995239258s\n",
      "DEBUG:resample.py: \t0.017310380935668945s to create the bucket\n",
      "\t0.0760812759399414s to resample bucket\n",
      "\t0.10659027099609375s to assign values\n"
     ]
    },
    {
     "name": "stdout",
     "output_type": "stream",
     "text": [
      "restoring values\n",
      "Saving /neurospin/dico/tsanchez/mask/vermis/001049BD_vermis_ICBM2009c.nii.gz\n",
      "Overwriting : /neurospin/dico/tsanchez/mask/vermis/001060MJ_vermis_native.nii.gz \n",
      "Saving : /neurospin/dico/tsanchez/mask/vermis/001060MJ_vermis_native.nii.gz\n",
      "Overwriting : /neurospin/dico/tsanchez/mask/vermis/001060MJ_vermis_ICBM2009c.nii.gz \n"
     ]
    },
    {
     "name": "stderr",
     "output_type": "stream",
     "text": [
      "DEBUG:resample.py: Time before resampling: 0.007891654968261719s\n",
      "DEBUG:resample.py: Background resampling: 0.07690191268920898s\n",
      "DEBUG:resample.py: Time: 0.3557422161102295s\n",
      "DEBUG:resample.py: \t0.018512964248657227s to create the bucket\n",
      "\t0.09463310241699219s to resample bucket\n",
      "\t0.11355090141296387s to assign values\n"
     ]
    },
    {
     "name": "stdout",
     "output_type": "stream",
     "text": [
      "restoring values\n",
      "Saving /neurospin/dico/tsanchez/mask/vermis/001060MJ_vermis_ICBM2009c.nii.gz\n",
      "Overwriting : /neurospin/dico/tsanchez/mask/vermis/001065BC_vermis_native.nii.gz \n",
      "Saving : /neurospin/dico/tsanchez/mask/vermis/001065BC_vermis_native.nii.gz\n",
      "Overwriting : /neurospin/dico/tsanchez/mask/vermis/001065BC_vermis_ICBM2009c.nii.gz \n"
     ]
    },
    {
     "name": "stderr",
     "output_type": "stream",
     "text": [
      "DEBUG:resample.py: Time before resampling: 0.009632349014282227s\n",
      "DEBUG:resample.py: Background resampling: 0.08015084266662598s\n",
      "DEBUG:resample.py: Time: 0.3563525676727295s\n",
      "DEBUG:resample.py: \t0.01734638214111328s to create the bucket\n",
      "\t0.1044316291809082s to resample bucket\n",
      "\t0.10776042938232422s to assign values\n"
     ]
    },
    {
     "name": "stdout",
     "output_type": "stream",
     "text": [
      "restoring values\n",
      "Saving /neurospin/dico/tsanchez/mask/vermis/001065BC_vermis_ICBM2009c.nii.gz\n",
      "Overwriting : /neurospin/dico/tsanchez/mask/vermis/001073PM_vermis_native.nii.gz \n",
      "Saving : /neurospin/dico/tsanchez/mask/vermis/001073PM_vermis_native.nii.gz\n",
      "Overwriting : /neurospin/dico/tsanchez/mask/vermis/001073PM_vermis_ICBM2009c.nii.gz \n"
     ]
    },
    {
     "name": "stderr",
     "output_type": "stream",
     "text": [
      "DEBUG:resample.py: Time before resampling: 0.007788658142089844s\n",
      "DEBUG:resample.py: Background resampling: 0.07564997673034668s\n",
      "DEBUG:resample.py: Time: 0.33557724952697754s\n",
      "DEBUG:resample.py: \t0.016431570053100586s to create the bucket\n",
      "\t0.08522486686706543s to resample bucket\n",
      "\t0.11038064956665039s to assign values\n"
     ]
    },
    {
     "name": "stdout",
     "output_type": "stream",
     "text": [
      "restoring values\n",
      "Saving /neurospin/dico/tsanchez/mask/vermis/001073PM_vermis_ICBM2009c.nii.gz\n",
      "Overwriting : /neurospin/dico/tsanchez/mask/vermis/001075HJ_vermis_native.nii.gz \n",
      "Saving : /neurospin/dico/tsanchez/mask/vermis/001075HJ_vermis_native.nii.gz\n",
      "Overwriting : /neurospin/dico/tsanchez/mask/vermis/001075HJ_vermis_ICBM2009c.nii.gz \n"
     ]
    },
    {
     "name": "stderr",
     "output_type": "stream",
     "text": [
      "DEBUG:resample.py: Time before resampling: 0.007806062698364258s\n",
      "DEBUG:resample.py: Background resampling: 0.07535433769226074s\n",
      "DEBUG:resample.py: Time: 0.33312439918518066s\n",
      "DEBUG:resample.py: \t0.017413616180419922s to create the bucket\n",
      "\t0.07531237602233887s to resample bucket\n",
      "\t0.10688352584838867s to assign values\n"
     ]
    },
    {
     "name": "stdout",
     "output_type": "stream",
     "text": [
      "restoring values\n",
      "Saving /neurospin/dico/tsanchez/mask/vermis/001075HJ_vermis_ICBM2009c.nii.gz\n",
      "Overwriting : /neurospin/dico/tsanchez/mask/vermis/001079LP_vermis_native.nii.gz \n",
      "Saving : /neurospin/dico/tsanchez/mask/vermis/001079LP_vermis_native.nii.gz\n",
      "Overwriting : /neurospin/dico/tsanchez/mask/vermis/001079LP_vermis_ICBM2009c.nii.gz \n"
     ]
    },
    {
     "name": "stderr",
     "output_type": "stream",
     "text": [
      "DEBUG:resample.py: Time before resampling: 0.009156465530395508s\n",
      "DEBUG:resample.py: Background resampling: 0.08388566970825195s\n",
      "DEBUG:resample.py: Time: 0.34287118911743164s\n",
      "DEBUG:resample.py: \t0.01738572120666504s to create the bucket\n",
      "\t0.08625292778015137s to resample bucket\n",
      "\t0.10729503631591797s to assign values\n"
     ]
    },
    {
     "name": "stdout",
     "output_type": "stream",
     "text": [
      "restoring values\n",
      "Saving /neurospin/dico/tsanchez/mask/vermis/001079LP_vermis_ICBM2009c.nii.gz\n",
      "Overwriting : /neurospin/dico/tsanchez/mask/vermis/001085BN_vermis_native.nii.gz \n",
      "Saving : /neurospin/dico/tsanchez/mask/vermis/001085BN_vermis_native.nii.gz\n",
      "Overwriting : /neurospin/dico/tsanchez/mask/vermis/001085BN_vermis_ICBM2009c.nii.gz \n"
     ]
    },
    {
     "name": "stderr",
     "output_type": "stream",
     "text": [
      "DEBUG:resample.py: Time before resampling: 0.0077517032623291016s\n",
      "DEBUG:resample.py: Background resampling: 0.07988286018371582s\n",
      "DEBUG:resample.py: Time: 0.3368957042694092s\n",
      "DEBUG:resample.py: \t0.016327381134033203s to create the bucket\n",
      "\t0.06847023963928223s to resample bucket\n",
      "\t0.1216578483581543s to assign values\n"
     ]
    },
    {
     "name": "stdout",
     "output_type": "stream",
     "text": [
      "restoring values\n",
      "Saving /neurospin/dico/tsanchez/mask/vermis/001085BN_vermis_ICBM2009c.nii.gz\n",
      "Overwriting : /neurospin/dico/tsanchez/mask/vermis/001091MR_vermis_native.nii.gz \n",
      "Saving : /neurospin/dico/tsanchez/mask/vermis/001091MR_vermis_native.nii.gz\n",
      "Overwriting : /neurospin/dico/tsanchez/mask/vermis/001091MR_vermis_ICBM2009c.nii.gz \n"
     ]
    },
    {
     "name": "stderr",
     "output_type": "stream",
     "text": [
      "DEBUG:resample.py: Time before resampling: 0.007883310317993164s\n",
      "DEBUG:resample.py: Background resampling: 0.07813882827758789s\n",
      "DEBUG:resample.py: Time: 0.3352022171020508s\n",
      "DEBUG:resample.py: \t0.017679452896118164s to create the bucket\n",
      "\t0.08386874198913574s to resample bucket\n",
      "\t0.10824322700500488s to assign values\n"
     ]
    },
    {
     "name": "stdout",
     "output_type": "stream",
     "text": [
      "restoring values\n",
      "Saving /neurospin/dico/tsanchez/mask/vermis/001091MR_vermis_ICBM2009c.nii.gz\n",
      "Overwriting : /neurospin/dico/tsanchez/mask/vermis/001099GL_vermis_native.nii.gz \n",
      "Saving : /neurospin/dico/tsanchez/mask/vermis/001099GL_vermis_native.nii.gz\n",
      "Overwriting : /neurospin/dico/tsanchez/mask/vermis/001099GL_vermis_ICBM2009c.nii.gz \n"
     ]
    },
    {
     "name": "stderr",
     "output_type": "stream",
     "text": [
      "DEBUG:resample.py: Time before resampling: 0.007277250289916992s\n",
      "DEBUG:resample.py: Background resampling: 0.07765364646911621s\n",
      "DEBUG:resample.py: Time: 0.3192591667175293s\n",
      "DEBUG:resample.py: \t0.016319990158081055s to create the bucket\n",
      "\t0.07555127143859863s to resample bucket\n",
      "\t0.10659265518188477s to assign values\n"
     ]
    },
    {
     "name": "stdout",
     "output_type": "stream",
     "text": [
      "restoring values\n",
      "Saving /neurospin/dico/tsanchez/mask/vermis/001099GL_vermis_ICBM2009c.nii.gz\n",
      "Overwriting : /neurospin/dico/tsanchez/mask/vermis/001100PY_vermis_native.nii.gz \n",
      "Saving : /neurospin/dico/tsanchez/mask/vermis/001100PY_vermis_native.nii.gz\n",
      "Overwriting : /neurospin/dico/tsanchez/mask/vermis/001100PY_vermis_ICBM2009c.nii.gz \n"
     ]
    },
    {
     "name": "stderr",
     "output_type": "stream",
     "text": [
      "DEBUG:resample.py: Time before resampling: 0.0073566436767578125s\n",
      "DEBUG:resample.py: Background resampling: 0.07462859153747559s\n",
      "DEBUG:resample.py: Time: 0.31424474716186523s\n",
      "DEBUG:resample.py: \t0.016956090927124023s to create the bucket\n",
      "\t0.06899762153625488s to resample bucket\n",
      "\t0.10567688941955566s to assign values\n"
     ]
    },
    {
     "name": "stdout",
     "output_type": "stream",
     "text": [
      "restoring values\n",
      "Saving /neurospin/dico/tsanchez/mask/vermis/001100PY_vermis_ICBM2009c.nii.gz\n",
      "Overwriting : /neurospin/dico/tsanchez/mask/vermis/001101JO_vermis_native.nii.gz \n",
      "Saving : /neurospin/dico/tsanchez/mask/vermis/001101JO_vermis_native.nii.gz\n",
      "Overwriting : /neurospin/dico/tsanchez/mask/vermis/001101JO_vermis_ICBM2009c.nii.gz \n"
     ]
    },
    {
     "name": "stderr",
     "output_type": "stream",
     "text": [
      "DEBUG:resample.py: Time before resampling: 0.0075893402099609375s\n",
      "DEBUG:resample.py: Background resampling: 0.07655692100524902s\n",
      "DEBUG:resample.py: Time: 0.3264501094818115s\n",
      "DEBUG:resample.py: \t0.01848316192626953s to create the bucket\n",
      "\t0.07436466217041016s to resample bucket\n",
      "\t0.10764837265014648s to assign values\n"
     ]
    },
    {
     "name": "stdout",
     "output_type": "stream",
     "text": [
      "restoring values\n",
      "Saving /neurospin/dico/tsanchez/mask/vermis/001101JO_vermis_ICBM2009c.nii.gz\n"
     ]
    }
   ],
   "source": [
    "for mask_path in list_mask_path_biosca : \n",
    "    pipe_mask = PipelineMask(\n",
    "        mask_path=mask_path,\n",
    "        sub_struct_mask=[3],\n",
    "        resample_values=[0,1],\n",
    "        output_voxel=(0.5,0.5,0.5),\n",
    "        verbose = True,\n",
    "    )\n",
    "    pipe_mask.run_pipeline(overwrite=True)"
   ]
  },
  {
   "cell_type": "markdown",
   "metadata": {},
   "source": [
    "## Computing cerebellum masks"
   ]
  },
  {
   "cell_type": "code",
   "execution_count": 22,
   "metadata": {},
   "outputs": [],
   "source": [
    "list_mask_path_cermoi = [\n",
    "    MaskPath(\n",
    "        subject_id=subject,\n",
    "        graph_folder=GRAPH_FOLDER_MASK_CERMOI,\n",
    "        tree_graph=TREE_GRAPH_MASK_CERMOI,\n",
    "        raw_folder=RAW_FOLDER_MASK_CERMOI,\n",
    "        tree_raw=TREE_RAW_MASK_CERMOI,\n",
    "        nomenclature_raw=NOMENCLATURE_MASK,\n",
    "        mask_type=\"cerebellum\",\n",
    "        saving_path=SAVING_MASK\n",
    "    ) for subject in list_subjects_cermoi\n",
    "]\n",
    "\n",
    "list_mask_path_biosca = [\n",
    "    MaskPath(\n",
    "        subject_id=subject,\n",
    "        graph_folder=GRAPH_FOLDER_MASK_BIOSCA,\n",
    "        tree_graph=TREE_GRAPH_MASK_BIOSCA,\n",
    "        raw_folder=RAW_FOLDER_MASK_BIOSCA,\n",
    "        tree_raw=TREE_RAW_MASK_BIOSCA,\n",
    "        nomenclature_raw=NOMENCLATURE_MASK,\n",
    "        mask_type=\"cerebellum\",\n",
    "        saving_path=SAVING_MASK\n",
    "    ) for subject in list_subjects_biosca\n",
    "]"
   ]
  },
  {
   "cell_type": "code",
   "execution_count": 23,
   "metadata": {},
   "outputs": [
    {
     "name": "stdout",
     "output_type": "stream",
     "text": [
      "Overwriting : /neurospin/dico/tsanchez/mask/cerebellum/00001PJ_cerebellum_native.nii.gz \n",
      "Saving : /neurospin/dico/tsanchez/mask/cerebellum/00001PJ_cerebellum_native.nii.gz\n",
      "Overwriting : /neurospin/dico/tsanchez/mask/cerebellum/00001PJ_cerebellum_ICBM2009c.nii.gz \n"
     ]
    },
    {
     "name": "stderr",
     "output_type": "stream",
     "text": [
      "DEBUG:resample.py: Time before resampling: 0.026661396026611328s\n",
      "DEBUG:resample.py: Background resampling: 0.07413649559020996s\n",
      "DEBUG:resample.py: Time: 2.0851945877075195s\n",
      "DEBUG:resample.py: \t0.18254899978637695s to create the bucket\n",
      "\t1.4409816265106201s to resample bucket\n",
      "\t0.22884130477905273s to assign values\n"
     ]
    },
    {
     "name": "stdout",
     "output_type": "stream",
     "text": [
      "restoring values\n",
      "Saving /neurospin/dico/tsanchez/mask/cerebellum/00001PJ_cerebellum_ICBM2009c.nii.gz\n",
      "Overwriting : /neurospin/dico/tsanchez/mask/cerebellum/00004PA_cerebellum_native.nii.gz \n",
      "Saving : /neurospin/dico/tsanchez/mask/cerebellum/00004PA_cerebellum_native.nii.gz\n",
      "Overwriting : /neurospin/dico/tsanchez/mask/cerebellum/00004PA_cerebellum_ICBM2009c.nii.gz \n"
     ]
    },
    {
     "name": "stderr",
     "output_type": "stream",
     "text": [
      "DEBUG:resample.py: Time before resampling: 0.025350093841552734s\n",
      "DEBUG:resample.py: Background resampling: 0.07317543029785156s\n",
      "DEBUG:resample.py: Time: 1.875976324081421s\n",
      "DEBUG:resample.py: \t0.1596221923828125s to create the bucket\n",
      "\t1.2682723999023438s to resample bucket\n",
      "\t0.21852469444274902s to assign values\n"
     ]
    },
    {
     "name": "stdout",
     "output_type": "stream",
     "text": [
      "restoring values\n",
      "Saving /neurospin/dico/tsanchez/mask/cerebellum/00004PA_cerebellum_ICBM2009c.nii.gz\n",
      "Overwriting : /neurospin/dico/tsanchez/mask/cerebellum/00011EG_cerebellum_native.nii.gz \n",
      "Saving : /neurospin/dico/tsanchez/mask/cerebellum/00011EG_cerebellum_native.nii.gz\n",
      "Overwriting : /neurospin/dico/tsanchez/mask/cerebellum/00011EG_cerebellum_ICBM2009c.nii.gz \n"
     ]
    },
    {
     "name": "stderr",
     "output_type": "stream",
     "text": [
      "DEBUG:resample.py: Time before resampling: 0.02546977996826172s\n",
      "DEBUG:resample.py: Background resampling: 0.07543110847473145s\n",
      "DEBUG:resample.py: Time: 1.9996137619018555s\n",
      "DEBUG:resample.py: \t0.18722939491271973s to create the bucket\n",
      "\t1.3504505157470703s to resample bucket\n",
      "\t0.2246854305267334s to assign values\n"
     ]
    },
    {
     "name": "stdout",
     "output_type": "stream",
     "text": [
      "restoring values\n",
      "Saving /neurospin/dico/tsanchez/mask/cerebellum/00011EG_cerebellum_ICBM2009c.nii.gz\n",
      "Overwriting : /neurospin/dico/tsanchez/mask/cerebellum/00020CT_cerebellum_native.nii.gz \n",
      "Saving : /neurospin/dico/tsanchez/mask/cerebellum/00020CT_cerebellum_native.nii.gz\n",
      "Overwriting : /neurospin/dico/tsanchez/mask/cerebellum/00020CT_cerebellum_ICBM2009c.nii.gz \n"
     ]
    },
    {
     "name": "stderr",
     "output_type": "stream",
     "text": [
      "DEBUG:resample.py: Time before resampling: 0.025663375854492188s\n",
      "DEBUG:resample.py: Background resampling: 0.07477140426635742s\n",
      "DEBUG:resample.py: Time: 1.9683618545532227s\n",
      "DEBUG:resample.py: \t0.1938774585723877s to create the bucket\n",
      "\t1.3051133155822754s to resample bucket\n",
      "\t0.2359476089477539s to assign values\n"
     ]
    },
    {
     "name": "stdout",
     "output_type": "stream",
     "text": [
      "restoring values\n",
      "Saving /neurospin/dico/tsanchez/mask/cerebellum/00020CT_cerebellum_ICBM2009c.nii.gz\n",
      "Overwriting : /neurospin/dico/tsanchez/mask/cerebellum/00023EA_cerebellum_native.nii.gz \n",
      "Saving : /neurospin/dico/tsanchez/mask/cerebellum/00023EA_cerebellum_native.nii.gz\n",
      "Overwriting : /neurospin/dico/tsanchez/mask/cerebellum/00023EA_cerebellum_ICBM2009c.nii.gz \n"
     ]
    },
    {
     "name": "stderr",
     "output_type": "stream",
     "text": [
      "DEBUG:resample.py: Time before resampling: 0.02540898323059082s\n",
      "DEBUG:resample.py: Background resampling: 0.07476258277893066s\n",
      "DEBUG:resample.py: Time: 1.881291151046753s\n",
      "DEBUG:resample.py: \t0.2015237808227539s to create the bucket\n",
      "\t1.2323741912841797s to resample bucket\n",
      "\t0.2124335765838623s to assign values\n"
     ]
    },
    {
     "name": "stdout",
     "output_type": "stream",
     "text": [
      "restoring values\n",
      "Saving /neurospin/dico/tsanchez/mask/cerebellum/00023EA_cerebellum_ICBM2009c.nii.gz\n",
      "Overwriting : /neurospin/dico/tsanchez/mask/cerebellum/00027EF_cerebellum_native.nii.gz \n",
      "Saving : /neurospin/dico/tsanchez/mask/cerebellum/00027EF_cerebellum_native.nii.gz\n",
      "Overwriting : /neurospin/dico/tsanchez/mask/cerebellum/00027EF_cerebellum_ICBM2009c.nii.gz \n"
     ]
    },
    {
     "name": "stderr",
     "output_type": "stream",
     "text": [
      "DEBUG:resample.py: Time before resampling: 0.0250551700592041s\n",
      "DEBUG:resample.py: Background resampling: 0.07396864891052246s\n",
      "DEBUG:resample.py: Time: 2.0108087062835693s\n",
      "DEBUG:resample.py: \t0.212601900100708s to create the bucket\n",
      "\t1.335465431213379s to resample bucket\n",
      "\t0.23202013969421387s to assign values\n"
     ]
    },
    {
     "name": "stdout",
     "output_type": "stream",
     "text": [
      "restoring values\n",
      "Saving /neurospin/dico/tsanchez/mask/cerebellum/00027EF_cerebellum_ICBM2009c.nii.gz\n",
      "Overwriting : /neurospin/dico/tsanchez/mask/cerebellum/00030CA_cerebellum_native.nii.gz \n",
      "Saving : /neurospin/dico/tsanchez/mask/cerebellum/00030CA_cerebellum_native.nii.gz\n",
      "Overwriting : /neurospin/dico/tsanchez/mask/cerebellum/00030CA_cerebellum_ICBM2009c.nii.gz \n"
     ]
    },
    {
     "name": "stderr",
     "output_type": "stream",
     "text": [
      "DEBUG:resample.py: Time before resampling: 0.02586221694946289s\n",
      "DEBUG:resample.py: Background resampling: 0.07387876510620117s\n",
      "DEBUG:resample.py: Time: 1.8934228420257568s\n",
      "DEBUG:resample.py: \t0.21905827522277832s to create the bucket\n",
      "\t1.21284818649292s to resample bucket\n",
      "\t0.22014951705932617s to assign values\n"
     ]
    },
    {
     "name": "stdout",
     "output_type": "stream",
     "text": [
      "restoring values\n",
      "Saving /neurospin/dico/tsanchez/mask/cerebellum/00030CA_cerebellum_ICBM2009c.nii.gz\n",
      "Overwriting : /neurospin/dico/tsanchez/mask/cerebellum/00031CP_cerebellum_native.nii.gz \n",
      "Saving : /neurospin/dico/tsanchez/mask/cerebellum/00031CP_cerebellum_native.nii.gz\n",
      "Overwriting : /neurospin/dico/tsanchez/mask/cerebellum/00031CP_cerebellum_ICBM2009c.nii.gz \n"
     ]
    },
    {
     "name": "stderr",
     "output_type": "stream",
     "text": [
      "DEBUG:resample.py: Time before resampling: 0.02719855308532715s\n",
      "DEBUG:resample.py: Background resampling: 0.07524895668029785s\n",
      "DEBUG:resample.py: Time: 1.8144769668579102s\n",
      "DEBUG:resample.py: \t0.21520137786865234s to create the bucket\n",
      "\t1.1511342525482178s to resample bucket\n",
      "\t0.2090904712677002s to assign values\n"
     ]
    },
    {
     "name": "stdout",
     "output_type": "stream",
     "text": [
      "restoring values\n",
      "Saving /neurospin/dico/tsanchez/mask/cerebellum/00031CP_cerebellum_ICBM2009c.nii.gz\n",
      "Overwriting : /neurospin/dico/tsanchez/mask/cerebellum/00035NR_cerebellum_native.nii.gz \n",
      "Saving : /neurospin/dico/tsanchez/mask/cerebellum/00035NR_cerebellum_native.nii.gz\n",
      "Overwriting : /neurospin/dico/tsanchez/mask/cerebellum/00035NR_cerebellum_ICBM2009c.nii.gz \n"
     ]
    },
    {
     "name": "stderr",
     "output_type": "stream",
     "text": [
      "DEBUG:resample.py: Time before resampling: 0.025966405868530273s\n",
      "DEBUG:resample.py: Background resampling: 0.07675361633300781s\n",
      "DEBUG:resample.py: Time: 1.8716578483581543s\n",
      "DEBUG:resample.py: \t0.17352771759033203s to create the bucket\n",
      "\t1.2218239307403564s to resample bucket\n",
      "\t0.21961188316345215s to assign values\n"
     ]
    },
    {
     "name": "stdout",
     "output_type": "stream",
     "text": [
      "restoring values\n",
      "Saving /neurospin/dico/tsanchez/mask/cerebellum/00035NR_cerebellum_ICBM2009c.nii.gz\n",
      "Overwriting : /neurospin/dico/tsanchez/mask/cerebellum/00036DC_cerebellum_native.nii.gz \n",
      "Saving : /neurospin/dico/tsanchez/mask/cerebellum/00036DC_cerebellum_native.nii.gz\n",
      "Overwriting : /neurospin/dico/tsanchez/mask/cerebellum/00036DC_cerebellum_ICBM2009c.nii.gz \n"
     ]
    },
    {
     "name": "stderr",
     "output_type": "stream",
     "text": [
      "DEBUG:resample.py: Time before resampling: 0.025089740753173828s\n",
      "DEBUG:resample.py: Background resampling: 0.07457304000854492s\n",
      "DEBUG:resample.py: Time: 1.8355653285980225s\n",
      "DEBUG:resample.py: \t0.1679067611694336s to create the bucket\n",
      "\t1.2183928489685059s to resample bucket\n",
      "\t0.21773147583007812s to assign values\n"
     ]
    },
    {
     "name": "stdout",
     "output_type": "stream",
     "text": [
      "restoring values\n",
      "Saving /neurospin/dico/tsanchez/mask/cerebellum/00036DC_cerebellum_ICBM2009c.nii.gz\n"
     ]
    }
   ],
   "source": [
    "for mask_path in list_mask_path_cermoi : \n",
    "    pipe_mask = PipelineMask(\n",
    "        mask_path=mask_path,\n",
    "        sub_struct_mask=[1,2,3],\n",
    "        resample_values=[0,1],\n",
    "        output_voxel=(0.5,0.5,0.5),\n",
    "        verbose = True,\n",
    "    )\n",
    "    pipe_mask.run_pipeline(overwrite=True)"
   ]
  },
  {
   "cell_type": "code",
   "execution_count": 24,
   "metadata": {},
   "outputs": [
    {
     "name": "stdout",
     "output_type": "stream",
     "text": [
      "Overwriting : /neurospin/dico/tsanchez/mask/cerebellum/001019DA_cerebellum_native.nii.gz \n",
      "Saving : /neurospin/dico/tsanchez/mask/cerebellum/001019DA_cerebellum_native.nii.gz\n",
      "Overwriting : /neurospin/dico/tsanchez/mask/cerebellum/001019DA_cerebellum_ICBM2009c.nii.gz \n"
     ]
    },
    {
     "name": "stderr",
     "output_type": "stream",
     "text": [
      "DEBUG:resample.py: Time before resampling: 0.007209300994873047s\n",
      "DEBUG:resample.py: Background resampling: 0.07391595840454102s\n",
      "DEBUG:resample.py: Time: 1.7214980125427246s\n",
      "DEBUG:resample.py: \t0.0797116756439209s to create the bucket\n",
      "\t1.2983927726745605s to resample bucket\n",
      "\t0.2227463722229004s to assign values\n"
     ]
    },
    {
     "name": "stdout",
     "output_type": "stream",
     "text": [
      "restoring values\n",
      "Saving /neurospin/dico/tsanchez/mask/cerebellum/001019DA_cerebellum_ICBM2009c.nii.gz\n",
      "Overwriting : /neurospin/dico/tsanchez/mask/cerebellum/001020HG_cerebellum_native.nii.gz \n",
      "Saving : /neurospin/dico/tsanchez/mask/cerebellum/001020HG_cerebellum_native.nii.gz\n",
      "Overwriting : /neurospin/dico/tsanchez/mask/cerebellum/001020HG_cerebellum_ICBM2009c.nii.gz \n"
     ]
    },
    {
     "name": "stderr",
     "output_type": "stream",
     "text": [
      "DEBUG:resample.py: Time before resampling: 0.007382869720458984s\n",
      "DEBUG:resample.py: Background resampling: 0.07392764091491699s\n",
      "DEBUG:resample.py: Time: 1.8038766384124756s\n",
      "DEBUG:resample.py: \t0.07365608215332031s to create the bucket\n",
      "\t1.3792626857757568s to resample bucket\n",
      "\t0.22818279266357422s to assign values\n"
     ]
    },
    {
     "name": "stdout",
     "output_type": "stream",
     "text": [
      "restoring values\n",
      "Saving /neurospin/dico/tsanchez/mask/cerebellum/001020HG_cerebellum_ICBM2009c.nii.gz\n",
      "Overwriting : /neurospin/dico/tsanchez/mask/cerebellum/001022LM_cerebellum_native.nii.gz \n",
      "Saving : /neurospin/dico/tsanchez/mask/cerebellum/001022LM_cerebellum_native.nii.gz\n",
      "Overwriting : /neurospin/dico/tsanchez/mask/cerebellum/001022LM_cerebellum_ICBM2009c.nii.gz \n"
     ]
    },
    {
     "name": "stderr",
     "output_type": "stream",
     "text": [
      "DEBUG:resample.py: Time before resampling: 0.0071544647216796875s\n",
      "DEBUG:resample.py: Background resampling: 0.07406735420227051s\n",
      "DEBUG:resample.py: Time: 1.734999656677246s\n",
      "DEBUG:resample.py: \t0.07400012016296387s to create the bucket\n",
      "\t1.3127739429473877s to resample bucket\n",
      "\t0.22545790672302246s to assign values\n"
     ]
    },
    {
     "name": "stdout",
     "output_type": "stream",
     "text": [
      "restoring values\n",
      "Saving /neurospin/dico/tsanchez/mask/cerebellum/001022LM_cerebellum_ICBM2009c.nii.gz\n",
      "Overwriting : /neurospin/dico/tsanchez/mask/cerebellum/001032SG_cerebellum_native.nii.gz \n",
      "Saving : /neurospin/dico/tsanchez/mask/cerebellum/001032SG_cerebellum_native.nii.gz\n",
      "Overwriting : /neurospin/dico/tsanchez/mask/cerebellum/001032SG_cerebellum_ICBM2009c.nii.gz \n"
     ]
    },
    {
     "name": "stderr",
     "output_type": "stream",
     "text": [
      "DEBUG:resample.py: Time before resampling: 0.007081747055053711s\n",
      "DEBUG:resample.py: Background resampling: 0.07421755790710449s\n",
      "DEBUG:resample.py: Time: 1.9644882678985596s\n",
      "DEBUG:resample.py: \t0.09908127784729004s to create the bucket\n",
      "\t1.5027706623077393s to resample bucket\n",
      "\t0.23989558219909668s to assign values\n"
     ]
    },
    {
     "name": "stdout",
     "output_type": "stream",
     "text": [
      "restoring values\n",
      "Saving /neurospin/dico/tsanchez/mask/cerebellum/001032SG_cerebellum_ICBM2009c.nii.gz\n",
      "Overwriting : /neurospin/dico/tsanchez/mask/cerebellum/001037GA_cerebellum_native.nii.gz \n",
      "Saving : /neurospin/dico/tsanchez/mask/cerebellum/001037GA_cerebellum_native.nii.gz\n",
      "Overwriting : /neurospin/dico/tsanchez/mask/cerebellum/001037GA_cerebellum_ICBM2009c.nii.gz \n"
     ]
    },
    {
     "name": "stderr",
     "output_type": "stream",
     "text": [
      "DEBUG:resample.py: Time before resampling: 0.007266998291015625s\n",
      "DEBUG:resample.py: Background resampling: 0.07376289367675781s\n",
      "DEBUG:resample.py: Time: 1.7051975727081299s\n",
      "DEBUG:resample.py: \t0.08619117736816406s to create the bucket\n",
      "\t1.2763898372650146s to resample bucket\n",
      "\t0.22176432609558105s to assign values\n"
     ]
    },
    {
     "name": "stdout",
     "output_type": "stream",
     "text": [
      "restoring values\n",
      "Saving /neurospin/dico/tsanchez/mask/cerebellum/001037GA_cerebellum_ICBM2009c.nii.gz\n",
      "Overwriting : /neurospin/dico/tsanchez/mask/cerebellum/001040BF_cerebellum_native.nii.gz \n",
      "Saving : /neurospin/dico/tsanchez/mask/cerebellum/001040BF_cerebellum_native.nii.gz\n",
      "Overwriting : /neurospin/dico/tsanchez/mask/cerebellum/001040BF_cerebellum_ICBM2009c.nii.gz \n"
     ]
    },
    {
     "name": "stderr",
     "output_type": "stream",
     "text": [
      "DEBUG:resample.py: Time before resampling: 0.0072536468505859375s\n",
      "DEBUG:resample.py: Background resampling: 0.07398676872253418s\n",
      "DEBUG:resample.py: Time: 1.7035760879516602s\n",
      "DEBUG:resample.py: \t0.08222198486328125s to create the bucket\n",
      "\t1.284641981124878s to resample bucket\n",
      "\t0.21496248245239258s to assign values\n"
     ]
    },
    {
     "name": "stdout",
     "output_type": "stream",
     "text": [
      "restoring values\n",
      "Saving /neurospin/dico/tsanchez/mask/cerebellum/001040BF_cerebellum_ICBM2009c.nii.gz\n",
      "Overwriting : /neurospin/dico/tsanchez/mask/cerebellum/001049BD_cerebellum_native.nii.gz \n",
      "Saving : /neurospin/dico/tsanchez/mask/cerebellum/001049BD_cerebellum_native.nii.gz\n",
      "Overwriting : /neurospin/dico/tsanchez/mask/cerebellum/001049BD_cerebellum_ICBM2009c.nii.gz \n"
     ]
    },
    {
     "name": "stderr",
     "output_type": "stream",
     "text": [
      "DEBUG:resample.py: Time before resampling: 0.007400035858154297s\n",
      "DEBUG:resample.py: Background resampling: 0.07466483116149902s\n",
      "DEBUG:resample.py: Time: 1.8618838787078857s\n",
      "DEBUG:resample.py: \t0.0906674861907959s to create the bucket\n",
      "\t1.395564317703247s to resample bucket\n",
      "\t0.25211262702941895s to assign values\n"
     ]
    },
    {
     "name": "stdout",
     "output_type": "stream",
     "text": [
      "restoring values\n",
      "Saving /neurospin/dico/tsanchez/mask/cerebellum/001049BD_cerebellum_ICBM2009c.nii.gz\n",
      "Overwriting : /neurospin/dico/tsanchez/mask/cerebellum/001060MJ_cerebellum_native.nii.gz \n",
      "Saving : /neurospin/dico/tsanchez/mask/cerebellum/001060MJ_cerebellum_native.nii.gz\n",
      "Overwriting : /neurospin/dico/tsanchez/mask/cerebellum/001060MJ_cerebellum_ICBM2009c.nii.gz \n"
     ]
    },
    {
     "name": "stderr",
     "output_type": "stream",
     "text": [
      "DEBUG:resample.py: Time before resampling: 0.007352590560913086s\n",
      "DEBUG:resample.py: Background resampling: 0.07565641403198242s\n",
      "DEBUG:resample.py: Time: 1.880286455154419s\n",
      "DEBUG:resample.py: \t0.08822846412658691s to create the bucket\n",
      "\t1.4361388683319092s to resample bucket\n",
      "\t0.23525285720825195s to assign values\n"
     ]
    },
    {
     "name": "stdout",
     "output_type": "stream",
     "text": [
      "restoring values\n",
      "Saving /neurospin/dico/tsanchez/mask/cerebellum/001060MJ_cerebellum_ICBM2009c.nii.gz\n",
      "Overwriting : /neurospin/dico/tsanchez/mask/cerebellum/001065BC_cerebellum_native.nii.gz \n",
      "Saving : /neurospin/dico/tsanchez/mask/cerebellum/001065BC_cerebellum_native.nii.gz\n",
      "Overwriting : /neurospin/dico/tsanchez/mask/cerebellum/001065BC_cerebellum_ICBM2009c.nii.gz \n"
     ]
    },
    {
     "name": "stderr",
     "output_type": "stream",
     "text": [
      "DEBUG:resample.py: Time before resampling: 0.007379293441772461s\n",
      "DEBUG:resample.py: Background resampling: 0.07446742057800293s\n",
      "DEBUG:resample.py: Time: 1.9308788776397705s\n",
      "DEBUG:resample.py: \t0.07951569557189941s to create the bucket\n",
      "\t1.4884016513824463s to resample bucket\n",
      "\t0.24010610580444336s to assign values\n"
     ]
    },
    {
     "name": "stdout",
     "output_type": "stream",
     "text": [
      "restoring values\n",
      "Saving /neurospin/dico/tsanchez/mask/cerebellum/001065BC_cerebellum_ICBM2009c.nii.gz\n",
      "Overwriting : /neurospin/dico/tsanchez/mask/cerebellum/001073PM_cerebellum_native.nii.gz \n",
      "Saving : /neurospin/dico/tsanchez/mask/cerebellum/001073PM_cerebellum_native.nii.gz\n",
      "Overwriting : /neurospin/dico/tsanchez/mask/cerebellum/001073PM_cerebellum_ICBM2009c.nii.gz \n"
     ]
    },
    {
     "name": "stderr",
     "output_type": "stream",
     "text": [
      "DEBUG:resample.py: Time before resampling: 0.007513761520385742s\n",
      "DEBUG:resample.py: Background resampling: 0.07443070411682129s\n",
      "DEBUG:resample.py: Time: 1.8411099910736084s\n",
      "DEBUG:resample.py: \t0.07732057571411133s to create the bucket\n",
      "\t1.4072904586791992s to resample bucket\n",
      "\t0.2313072681427002s to assign values\n"
     ]
    },
    {
     "name": "stdout",
     "output_type": "stream",
     "text": [
      "restoring values\n",
      "Saving /neurospin/dico/tsanchez/mask/cerebellum/001073PM_cerebellum_ICBM2009c.nii.gz\n",
      "Overwriting : /neurospin/dico/tsanchez/mask/cerebellum/001075HJ_cerebellum_native.nii.gz \n",
      "Saving : /neurospin/dico/tsanchez/mask/cerebellum/001075HJ_cerebellum_native.nii.gz\n",
      "Overwriting : /neurospin/dico/tsanchez/mask/cerebellum/001075HJ_cerebellum_ICBM2009c.nii.gz \n"
     ]
    },
    {
     "name": "stderr",
     "output_type": "stream",
     "text": [
      "DEBUG:resample.py: Time before resampling: 0.00730133056640625s\n",
      "DEBUG:resample.py: Background resampling: 0.07449865341186523s\n",
      "DEBUG:resample.py: Time: 1.7196404933929443s\n",
      "DEBUG:resample.py: \t0.09422993659973145s to create the bucket\n",
      "\t1.280686378479004s to resample bucket\n",
      "\t0.22014856338500977s to assign values\n"
     ]
    },
    {
     "name": "stdout",
     "output_type": "stream",
     "text": [
      "restoring values\n",
      "Saving /neurospin/dico/tsanchez/mask/cerebellum/001075HJ_cerebellum_ICBM2009c.nii.gz\n",
      "Overwriting : /neurospin/dico/tsanchez/mask/cerebellum/001079LP_cerebellum_native.nii.gz \n",
      "Saving : /neurospin/dico/tsanchez/mask/cerebellum/001079LP_cerebellum_native.nii.gz\n",
      "Overwriting : /neurospin/dico/tsanchez/mask/cerebellum/001079LP_cerebellum_ICBM2009c.nii.gz \n"
     ]
    },
    {
     "name": "stderr",
     "output_type": "stream",
     "text": [
      "DEBUG:resample.py: Time before resampling: 0.0074710845947265625s\n",
      "DEBUG:resample.py: Background resampling: 0.07343506813049316s\n",
      "DEBUG:resample.py: Time: 1.8934261798858643s\n",
      "DEBUG:resample.py: \t0.09085226058959961s to create the bucket\n",
      "\t1.4423997402191162s to resample bucket\n",
      "\t0.24082016944885254s to assign values\n"
     ]
    },
    {
     "name": "stdout",
     "output_type": "stream",
     "text": [
      "restoring values\n",
      "Saving /neurospin/dico/tsanchez/mask/cerebellum/001079LP_cerebellum_ICBM2009c.nii.gz\n",
      "Overwriting : /neurospin/dico/tsanchez/mask/cerebellum/001085BN_cerebellum_native.nii.gz \n",
      "Saving : /neurospin/dico/tsanchez/mask/cerebellum/001085BN_cerebellum_native.nii.gz\n",
      "Overwriting : /neurospin/dico/tsanchez/mask/cerebellum/001085BN_cerebellum_ICBM2009c.nii.gz \n"
     ]
    },
    {
     "name": "stderr",
     "output_type": "stream",
     "text": [
      "DEBUG:resample.py: Time before resampling: 0.007231950759887695s\n",
      "DEBUG:resample.py: Background resampling: 0.0744638442993164s\n",
      "DEBUG:resample.py: Time: 1.605884313583374s\n",
      "DEBUG:resample.py: \t0.07587718963623047s to create the bucket\n",
      "\t1.195366621017456s to resample bucket\n",
      "\t0.21361970901489258s to assign values\n"
     ]
    },
    {
     "name": "stdout",
     "output_type": "stream",
     "text": [
      "restoring values\n",
      "Saving /neurospin/dico/tsanchez/mask/cerebellum/001085BN_cerebellum_ICBM2009c.nii.gz\n",
      "Overwriting : /neurospin/dico/tsanchez/mask/cerebellum/001091MR_cerebellum_native.nii.gz \n",
      "Saving : /neurospin/dico/tsanchez/mask/cerebellum/001091MR_cerebellum_native.nii.gz\n",
      "Overwriting : /neurospin/dico/tsanchez/mask/cerebellum/001091MR_cerebellum_ICBM2009c.nii.gz \n"
     ]
    },
    {
     "name": "stderr",
     "output_type": "stream",
     "text": [
      "DEBUG:resample.py: Time before resampling: 0.007533550262451172s\n",
      "DEBUG:resample.py: Background resampling: 0.07401585578918457s\n",
      "DEBUG:resample.py: Time: 1.7624211311340332s\n",
      "DEBUG:resample.py: \t0.08611798286437988s to create the bucket\n",
      "\t1.3292696475982666s to resample bucket\n",
      "\t0.22451448440551758s to assign values\n"
     ]
    },
    {
     "name": "stdout",
     "output_type": "stream",
     "text": [
      "restoring values\n",
      "Saving /neurospin/dico/tsanchez/mask/cerebellum/001091MR_cerebellum_ICBM2009c.nii.gz\n",
      "Overwriting : /neurospin/dico/tsanchez/mask/cerebellum/001099GL_cerebellum_native.nii.gz \n",
      "Saving : /neurospin/dico/tsanchez/mask/cerebellum/001099GL_cerebellum_native.nii.gz\n",
      "Overwriting : /neurospin/dico/tsanchez/mask/cerebellum/001099GL_cerebellum_ICBM2009c.nii.gz \n"
     ]
    },
    {
     "name": "stderr",
     "output_type": "stream",
     "text": [
      "DEBUG:resample.py: Time before resampling: 0.0072786808013916016s\n",
      "DEBUG:resample.py: Background resampling: 0.07339930534362793s\n",
      "DEBUG:resample.py: Time: 1.9416918754577637s\n",
      "DEBUG:resample.py: \t0.07399177551269531s to create the bucket\n",
      "\t1.5147624015808105s to resample bucket\n",
      "\t0.23345589637756348s to assign values\n"
     ]
    },
    {
     "name": "stdout",
     "output_type": "stream",
     "text": [
      "restoring values\n",
      "Saving /neurospin/dico/tsanchez/mask/cerebellum/001099GL_cerebellum_ICBM2009c.nii.gz\n",
      "Overwriting : /neurospin/dico/tsanchez/mask/cerebellum/001100PY_cerebellum_native.nii.gz \n",
      "Saving : /neurospin/dico/tsanchez/mask/cerebellum/001100PY_cerebellum_native.nii.gz\n",
      "Overwriting : /neurospin/dico/tsanchez/mask/cerebellum/001100PY_cerebellum_ICBM2009c.nii.gz \n"
     ]
    },
    {
     "name": "stderr",
     "output_type": "stream",
     "text": [
      "DEBUG:resample.py: Time before resampling: 0.007243633270263672s\n",
      "DEBUG:resample.py: Background resampling: 0.0738976001739502s\n",
      "DEBUG:resample.py: Time: 1.5970103740692139s\n",
      "DEBUG:resample.py: \t0.07942819595336914s to create the bucket\n",
      "\t1.187340259552002s to resample bucket\n",
      "\t0.2077789306640625s to assign values\n"
     ]
    },
    {
     "name": "stdout",
     "output_type": "stream",
     "text": [
      "restoring values\n",
      "Saving /neurospin/dico/tsanchez/mask/cerebellum/001100PY_cerebellum_ICBM2009c.nii.gz\n",
      "Overwriting : /neurospin/dico/tsanchez/mask/cerebellum/001101JO_cerebellum_native.nii.gz \n",
      "Saving : /neurospin/dico/tsanchez/mask/cerebellum/001101JO_cerebellum_native.nii.gz\n",
      "Overwriting : /neurospin/dico/tsanchez/mask/cerebellum/001101JO_cerebellum_ICBM2009c.nii.gz \n"
     ]
    },
    {
     "name": "stderr",
     "output_type": "stream",
     "text": [
      "DEBUG:resample.py: Time before resampling: 0.007314443588256836s\n",
      "DEBUG:resample.py: Background resampling: 0.07819008827209473s\n",
      "DEBUG:resample.py: Time: 1.8163933753967285s\n",
      "DEBUG:resample.py: \t0.09201741218566895s to create the bucket\n",
      "\t1.3634896278381348s to resample bucket\n",
      "\t0.23386454582214355s to assign values\n"
     ]
    },
    {
     "name": "stdout",
     "output_type": "stream",
     "text": [
      "restoring values\n",
      "Saving /neurospin/dico/tsanchez/mask/cerebellum/001101JO_cerebellum_ICBM2009c.nii.gz\n"
     ]
    }
   ],
   "source": [
    "for mask_path in list_mask_path_biosca : \n",
    "    pipe_mask = PipelineMask(\n",
    "        mask_path=mask_path,\n",
    "        sub_struct_mask=[1,2,3],\n",
    "        resample_values=[0,1],\n",
    "        output_voxel=(0.5,0.5,0.5),\n",
    "        verbose = True,\n",
    "    )\n",
    "    pipe_mask.run_pipeline(overwrite=True)"
   ]
  },
  {
   "cell_type": "markdown",
   "metadata": {},
   "source": [
    "### Merging masks\n",
    "\n",
    "Masks shape when resampled at 0.5mm : (386, 458, 386, 1)"
   ]
  },
  {
   "cell_type": "markdown",
   "metadata": {},
   "source": [
    "### Cerebellum "
   ]
  },
  {
   "cell_type": "code",
   "execution_count": 25,
   "metadata": {},
   "outputs": [
    {
     "name": "stdout",
     "output_type": "stream",
     "text": [
      "(386, 458, 386, 1) <class 'numpy.ndarray'>\n",
      "[0 1]\n"
     ]
    }
   ],
   "source": [
    "\n",
    "import os\n",
    "import re\n",
    "\n",
    "from pathlib import Path\n",
    "from soma import aims\n",
    "import numpy as np\n",
    "\n",
    "ROOT_DIR = Path(\"/neurospin/dico/tsanchez/mask/cerebellum\")\n",
    "regex = re.compile(r'(.)*_cerebellum_ICBM2009c.nii.gz$')\n",
    "\n",
    "all_mask = np.ndarray((386, 458, 386, 1))\n",
    "count = 0\n",
    "\n",
    "for root, dirs, files in os.walk(ROOT_DIR):\n",
    "    for file in files : \n",
    "        if regex.match(file):\n",
    "            # print(file)\n",
    "            obj = aims.read(str(ROOT_DIR / file))\n",
    "            all_mask += obj.np\n",
    "            count +=1\n",
    "\n",
    "# The minimum value of the pixel to be counted in the mask :\n",
    "MIN_PIX = 1\n",
    "threshold_mask = np.where(all_mask >= MIN_PIX, 1, 0)\n",
    "\n",
    "threshold_mask.shape, np.unique(threshold_mask, return_counts=True)\n",
    "from soma import aims\n",
    "SAVING_MASK = Path(\"/neurospin/dico/tsanchez/mask/cerebellum/27_ataxia_control_cerebellum.nii.gz\")\n",
    "vol = aims.Volume(386, 458, 386, 1, dtype = \"int16\")\n",
    "print(vol.np.shape, type(vol.np))\n",
    "vol.np[:] = threshold_mask\n",
    "print(np.unique(vol.np))\n",
    "aims.write(vol, str(SAVING_MASK))\n"
   ]
  },
  {
   "cell_type": "markdown",
   "metadata": {},
   "source": [
    "\n",
    "### Vermis "
   ]
  },
  {
   "cell_type": "code",
   "execution_count": 26,
   "metadata": {},
   "outputs": [
    {
     "name": "stdout",
     "output_type": "stream",
     "text": [
      "(386, 458, 386, 1) (array([0, 1]), array([68035119,   205049]))\n",
      "(386, 458, 386, 1) <class 'numpy.ndarray'>\n",
      "[0 1]\n"
     ]
    }
   ],
   "source": [
    "ROOT_DIR = Path(\"/neurospin/dico/tsanchez/mask/vermis\")\n",
    "regex = re.compile(r'(.)*_vermis_ICBM2009c.nii.gz$')\n",
    "\n",
    "all_mask = np.ndarray((386, 458, 386, 1))\n",
    "count = 0\n",
    "\n",
    "for root, dirs, files in os.walk(ROOT_DIR):\n",
    "    for file in files : \n",
    "        if regex.match(file):\n",
    "            # print(file)\n",
    "            obj = aims.read(str(ROOT_DIR / file))\n",
    "            all_mask += obj.np\n",
    "            count +=1\n",
    "MIN_PIX = 1\n",
    "threshold_mask = np.where(all_mask >= MIN_PIX, 1, 0)\n",
    "print(threshold_mask.shape, np.unique(threshold_mask, return_counts=True))\n",
    "\n",
    "from soma import aims\n",
    "\n",
    "SAVING_MASK = Path(\"/neurospin/dico/tsanchez/mask/vermis/27_ataxia_control_vermis.nii.gz\")\n",
    "vol = aims.Volume(386, 458, 386, 1, dtype = \"int16\")\n",
    "print(vol.np.shape, type(vol.np))\n",
    "vol.np[:] = threshold_mask\n",
    "print(np.unique(vol.np))\n",
    "aims.write(vol, str(SAVING_MASK))\n"
   ]
  }
 ],
 "metadata": {
  "kernelspec": {
   "display_name": "venv",
   "language": "python",
   "name": "python3"
  },
  "language_info": {
   "codemirror_mode": {
    "name": "ipython",
    "version": 3
   },
   "file_extension": ".py",
   "mimetype": "text/x-python",
   "name": "python",
   "nbconvert_exporter": "python",
   "pygments_lexer": "ipython3",
   "version": "3.10.12"
  }
 },
 "nbformat": 4,
 "nbformat_minor": 2
}
