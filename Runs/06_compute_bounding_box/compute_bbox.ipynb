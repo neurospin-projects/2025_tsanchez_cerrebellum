{
 "cells": [
  {
   "cell_type": "markdown",
   "metadata": {},
   "source": [
    "# Notebook to test function for bounding box"
   ]
  },
  {
   "cell_type": "code",
   "execution_count": 2,
   "metadata": {},
   "outputs": [],
   "source": [
    "from soma import aims\n",
    "import numpy as np\n",
    "from cerebellum_folding import UkbSubject\n",
    "from cerebellum_folding.data.path import MergedMaskPath\n"
   ]
  },
  {
   "cell_type": "code",
   "execution_count": 3,
   "metadata": {},
   "outputs": [],
   "source": [
    "SAVING_PATH = \"/neurospin/dico/tsanchez/preprocessed/ukb\"\n",
    "SUBJECT = \"sub-1000021\"\n",
    "\n",
    "WM_THRESH = -0.3967\n",
    "SULCI_THRESH = 0.464\n",
    "RESAMPLE_VALUES = [0, -1, 1]\n",
    "RESAMPLE_BIN = [0,1]\n",
    "OUTPUT_VOXEL_SIZE = (0.5,0.5,0.5)"
   ]
  },
  {
   "cell_type": "code",
   "execution_count": 4,
   "metadata": {},
   "outputs": [
    {
     "data": {
      "text/plain": [
       "(PosixPath('/neurospin/dico/tsanchez/mask/cerebellum/27_ataxia_control_cerebellum.nii.gz'),\n",
       " PosixPath('/neurospin/dico/tsanchez/mask/vermis/27_ataxia_control_vermis.nii.gz'))"
      ]
     },
     "execution_count": 4,
     "metadata": {},
     "output_type": "execute_result"
    }
   ],
   "source": [
    "from cerebellum_folding.data.path import MergedMaskPath\n",
    "PATH_CEREBELLUM_MASK = \"/neurospin/dico/tsanchez/mask/cerebellum/27_ataxia_control_cerebellum.nii.gz\"\n",
    "PATH_VERMIS_MASK = \"/neurospin/dico/tsanchez/mask/vermis/27_ataxia_control_vermis.nii.gz\"\n",
    "\n",
    "masks = {\n",
    "    \"cerebellum\" : MergedMaskPath(\n",
    "        path = PATH_CEREBELLUM_MASK\n",
    "    ),\n",
    "    \"vermis\" : MergedMaskPath(\n",
    "        path = PATH_VERMIS_MASK\n",
    "    )\n",
    "}\n",
    "masks[\"cerebellum\"].icbm2009, masks[\"vermis\"].icbm2009"
   ]
  },
  {
   "cell_type": "code",
   "execution_count": 5,
   "metadata": {},
   "outputs": [],
   "source": [
    "sub_ukb = UkbSubject(SUBJECT, SAVING_PATH)"
   ]
  },
  {
   "cell_type": "code",
   "execution_count": 6,
   "metadata": {},
   "outputs": [
    {
     "data": {
      "text/plain": [
       "{'icbm': {'resampled_icbm': True, 'mean_curvature': True, 'threshold': True},\n",
       " 'masked': {'cerebellum': {'threshold': True, 'resampled_icbm': True},\n",
       "  'vermis': {'threshold': True, 'resampled_icbm': True}}}"
      ]
     },
     "execution_count": 6,
     "metadata": {},
     "output_type": "execute_result"
    }
   ],
   "source": [
    "sub_ukb.dict_exists"
   ]
  },
  {
   "cell_type": "code",
   "execution_count": 7,
   "metadata": {},
   "outputs": [],
   "source": [
    "from cerebellum_folding.data.preprocess import PipelineSubject\n",
    "pipe = PipelineSubject(\n",
    "    subject_path= sub_ukb,\n",
    "    masks_path=masks,\n",
    "    white_matter_threshold=WM_THRESH,\n",
    "    sulci_threshold=SULCI_THRESH,\n",
    "    resample_values_icbm = RESAMPLE_VALUES,\n",
    "    resample_values_bin=RESAMPLE_BIN,\n",
    "    output_voxel=OUTPUT_VOXEL_SIZE,\n",
    "    verbose = True\n",
    ")"
   ]
  },
  {
   "cell_type": "code",
   "execution_count": 8,
   "metadata": {},
   "outputs": [
    {
     "data": {
      "text/plain": [
       "[PosixPath('/neurospin/dico/tsanchez/mask/cerebellum/27_ataxia_control_cerebellum.nii.gz'),\n",
       " PosixPath('/neurospin/dico/tsanchez/mask/vermis/27_ataxia_control_vermis.nii.gz')]"
      ]
     },
     "execution_count": 8,
     "metadata": {},
     "output_type": "execute_result"
    }
   ],
   "source": [
    "[path.icbm2009 for path in pipe.masks_path.values()]"
   ]
  },
  {
   "cell_type": "code",
   "execution_count": 9,
   "metadata": {},
   "outputs": [
    {
     "name": "stdout",
     "output_type": "stream",
     "text": [
      "File already exists\n",
      "File already exists\n",
      "File already exists\n",
      "File already exists\n"
     ]
    },
    {
     "data": {
      "text/plain": [
       "({'threshold': PosixPath('/neurospin/dico/tsanchez/preprocessed/ukb/sub-1000021/masked/cerebellum/sub-1000021_masked_tresh_cerebellum.nii.gz'),\n",
       "  'resampled_icbm': PosixPath('/neurospin/dico/tsanchez/preprocessed/ukb/sub-1000021/masked/cerebellum/sub-1000021_masked_t1mri_cerebellum.nii.gz')},\n",
       " {'threshold': PosixPath('/neurospin/dico/tsanchez/preprocessed/ukb/sub-1000021/masked/vermis/sub-1000021_masked_tresh_vermis.nii.gz'),\n",
       "  'resampled_icbm': PosixPath('/neurospin/dico/tsanchez/preprocessed/ukb/sub-1000021/masked/vermis/sub-1000021_masked_t1mri_vermis.nii.gz')})"
      ]
     },
     "execution_count": 9,
     "metadata": {},
     "output_type": "execute_result"
    }
   ],
   "source": [
    "pipe.run_pipe()\n",
    "pipe.path.masked[\"cerebellum\"], pipe.path.masked[\"vermis\"]"
   ]
  }
 ],
 "metadata": {
  "kernelspec": {
   "display_name": "venv",
   "language": "python",
   "name": "python3"
  },
  "language_info": {
   "codemirror_mode": {
    "name": "ipython",
    "version": 3
   },
   "file_extension": ".py",
   "mimetype": "text/x-python",
   "name": "python",
   "nbconvert_exporter": "python",
   "pygments_lexer": "ipython3",
   "version": "3.10.12"
  }
 },
 "nbformat": 4,
 "nbformat_minor": 2
}
