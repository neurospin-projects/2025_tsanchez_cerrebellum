{
 "cells": [
  {
   "cell_type": "code",
   "execution_count": 1,
   "metadata": {},
   "outputs": [],
   "source": [
    "from betaVAE.preprocess import UkbDataset\n",
    "from betaVAE.visualisation_anatomist import adjust_in_shape\n",
    "import torch\n",
    "\n",
    "DEPTH= 3\n",
    "IN_SHAPE_WOUT_ADJUST = [1, 54, 120, 139] #One from the config.yaml file\n",
    "IN_SHAPE = adjust_in_shape(IN_SHAPE_WOUT_ADJUST, depth=DEPTH)\n",
    "\n",
    "config = {\n",
    "    \"in_shape\" : IN_SHAPE , \n",
    "    \"root\" : \"/neurospin/dico/tsanchez/preprocessed/UKBio1000\"\n",
    "}\n",
    "\n",
    "dataset = UkbDataset(config = config)"
   ]
  },
  {
   "cell_type": "code",
   "execution_count": 2,
   "metadata": {},
   "outputs": [
    {
     "data": {
      "text/plain": [
       "0    sub-1290934\n",
       "1    sub-2829501\n",
       "2    sub-4451328\n",
       "3    sub-4095122\n",
       "4    sub-1932779\n",
       "5    sub-1598131\n",
       "6    sub-1572943\n",
       "7    sub-1772545\n",
       "8    sub-3269485\n",
       "9    sub-2313287\n",
       "dtype: object"
      ]
     },
     "execution_count": 2,
     "metadata": {},
     "output_type": "execute_result"
    }
   ],
   "source": [
    "dataset.list_subjects[:10]"
   ]
  },
  {
   "cell_type": "code",
   "execution_count": 3,
   "metadata": {},
   "outputs": [
    {
     "data": {
      "text/plain": [
       "(torch.Size([2, 60, 120, 144]), tensor([0, 1]))"
      ]
     },
     "execution_count": 3,
     "metadata": {},
     "output_type": "execute_result"
    }
   ],
   "source": [
    "# Shape of the tensor out of get item\n",
    "dataset[0][0].shape, torch.unique(dataset[0][0])"
   ]
  },
  {
   "cell_type": "code",
   "execution_count": 4,
   "metadata": {},
   "outputs": [
    {
     "data": {
      "text/plain": [
       "torch.Size([16, 2, 60, 120, 144])"
      ]
     },
     "execution_count": 4,
     "metadata": {},
     "output_type": "execute_result"
    }
   ],
   "source": [
    "from torch.utils.data import DataLoader\n",
    "loader = DataLoader(dataset, batch_size = 16, shuffle= True)\n",
    "test = next(iter(loader))\n",
    "test[0].shape #Should be shape [batch, channel, x,y,z]"
   ]
  },
  {
   "cell_type": "code",
   "execution_count": 5,
   "metadata": {},
   "outputs": [
    {
     "name": "stdout",
     "output_type": "stream",
     "text": [
      "create qapp\n",
      "global modules: /neurospin/dico/tsanchez/2025_tsanchez_cerrebellum/soma-env/build/share/anatomist-5.2/python_plugins\n",
      "home   modules: /home/ts283124/.anatomist/python_plugins\n",
      "done\n",
      "Starting Anatomist.....\n",
      "config file : /home/ts283124/.anatomist/config/settings.cfg\n",
      "PyAnatomist Module present\n",
      "PythonLauncher::runModules()\n",
      "loading module gltf_io\n",
      "loading module palettecontrols\n"
     ]
    },
    {
     "name": "stderr",
     "output_type": "stream",
     "text": [
      "existing QApplication: 0\n"
     ]
    },
    {
     "name": "stdout",
     "output_type": "stream",
     "text": [
      "loading module paletteViewer\n",
      "loading module meshsplit\n",
      "loading module profilewindow\n",
      "loading module ana_image_math\n",
      "loading module anacontrolmenu\n",
      "loading module foldsplit\n",
      "loading module modelGraphs\n",
      "loading module bsa_proba\n",
      "loading module histogram\n",
      "loading module gradientpalette\n",
      "loading module infowindow\n",
      "loading module simple_controls\n",
      "loading module volumepalettes\n",
      "loading module statsplotwindow\n",
      "loading module save_resampled\n",
      "loading module valuesplotwindow\n",
      "loading module selection\n",
      "all python modules loaded\n",
      "Anatomist started.\n",
      "Multitexturing present\n",
      "function glActiveTexture found.\n",
      "function glClientActiveTexture found.\n",
      "function glBlendEquation found.\n",
      "function glTexImage3D found.\n",
      "function glMultiTexCoord3f found.\n",
      "function glBindFramebuffer found.\n",
      "function glBindRenderbuffer found.\n",
      "function glFramebufferTexture2D found.\n",
      "function glGenFramebuffers found.\n",
      "function glGenRenderbuffers found.\n",
      "function glFramebufferRenderbuffer found.\n",
      "function glRenderbufferStorage found.\n",
      "function glCheckFramebufferStatus found.\n",
      "function glDeleteRenderbuffers found.\n",
      "function glDeleteFramebuffers found.\n",
      "Number of texture units: 8\n",
      "function glUniform1f found.\n",
      "function glUniform1i found.\n",
      "function glUniform4fv found.\n",
      "function glGetUniformLocation found.\n",
      "function glMultTransposeMatrixf found.\n",
      "function glAttachShader found.\n",
      "function glDetachShader found.\n",
      "function glCompileShader found.\n",
      "function glCreateProgram found.\n",
      "function glCreateShader found.\n",
      "function glDeleteProgram found.\n",
      "function glDeleteShader found.\n",
      "function glGetProgramiv found.\n",
      "function glGetShaderiv found.\n",
      "function glLinkProgram found.\n",
      "function glShaderSource found.\n",
      "function glUseProgram found.\n",
      "GL_ARB_shadow present\n",
      "GL_SGIX_shadow extension not available\n",
      "GL_SGIX_depth_texture extension not available\n",
      "GL_ARB_depth_texture extension present\n",
      "GL_ARB_texture_cube_map extension present\n",
      "GL_EXT_texture_cube_map extension present\n",
      "Number of texture units: 8\n"
     ]
    }
   ],
   "source": [
    "# Visualisation volumes\n",
    "\n",
    "import anatomist.api as ana\n",
    "from soma import aims\n",
    "from betaVAE.visualisation_anatomist import VisualiserAnatomist\n",
    "\n",
    "SLICE_CLIP = aims.Quaternion([0.6427876096865394,\n",
    "  -0.3420201433256688,\n",
    "  0.6427876096865394,\n",
    "  0.3420201433256688])\n",
    "\n",
    "VIEW_SAGITTAL = [0.5,-0.5,-0.5,0.5]\n",
    "OBLIC_VIEW = [0.6,-0.2,-0.25,0.75] \n",
    "\n",
    "DICT_VIEWS = {\n",
    "    \"normal\" : (\n",
    "        SLICE_CLIP,\n",
    "        VIEW_SAGITTAL,\n",
    "        1),\n",
    "\n",
    "    \"oblic\" : (\n",
    "        SLICE_CLIP,\n",
    "        OBLIC_VIEW,\n",
    "        1)\n",
    "}\n",
    "\n",
    "\n",
    "anatomist = ana.Anatomist()\n",
    "win_wm = anatomist.createWindow(\"3D\")\n",
    "win_sulci = anatomist.createWindow(\"3D\")\n"
   ]
  },
  {
   "cell_type": "code",
   "execution_count": null,
   "metadata": {},
   "outputs": [
    {
     "name": "stdout",
     "output_type": "stream",
     "text": [
      "Subject : sub-1290934\n"
     ]
    }
   ],
   "source": [
    "full_vol = dataset[0][0]\n",
    "print(f\"Subject : {dataset[0][1]}\")\n",
    "\n",
    "# White matter\n",
    "visu_wm = VisualiserAnatomist(\n",
    "    path_or_obj=full_vol[0].to(dtype = torch.int16).numpy(),\n",
    "    dict_views= DICT_VIEWS, \n",
    "    anatomist=anatomist, \n",
    "    window = win_wm\n",
    ")\n",
    "\n",
    "# Sulci\n",
    "visu_sulci = VisualiserAnatomist(\n",
    "    path_or_obj=full_vol[1].to(dtype = torch.int16).numpy(),\n",
    "    dict_views= DICT_VIEWS, \n",
    "    anatomist=anatomist, \n",
    "    window = win_wm\n",
    ")"
   ]
  }
 ],
 "metadata": {
  "kernelspec": {
   "display_name": "default",
   "language": "python",
   "name": "python3"
  },
  "language_info": {
   "codemirror_mode": {
    "name": "ipython",
    "version": 3
   },
   "file_extension": ".py",
   "mimetype": "text/x-python",
   "name": "python",
   "nbconvert_exporter": "python",
   "pygments_lexer": "ipython3",
   "version": "3.11.0"
  }
 },
 "nbformat": 4,
 "nbformat_minor": 2
}
